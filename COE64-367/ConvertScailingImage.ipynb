{
 "cells": [
  {
   "cell_type": "code",
   "id": "initial_id",
   "metadata": {
    "collapsed": true,
    "ExecuteTime": {
     "end_time": "2025-09-14T08:05:31.170759Z",
     "start_time": "2025-09-14T08:05:31.168597Z"
    }
   },
   "source": [
    "import os\n",
    "from PIL import Image, ImageOps"
   ],
   "outputs": [],
   "execution_count": 9
  },
  {
   "metadata": {
    "ExecuteTime": {
     "end_time": "2025-09-14T08:05:31.218339Z",
     "start_time": "2025-09-14T08:05:31.213390Z"
    }
   },
   "cell_type": "code",
   "source": [
    "def pad_to_fixed_box(img, target_width, target_height):\n",
    "    \"\"\"Resize image to fit target box while keeping aspect ratio, then pad with white.\"\"\"\n",
    "    img.thumbnail((target_width, target_height), Image.Resampling.LANCZOS)\n",
    "    delta_w = target_width - img.size[0]\n",
    "    delta_h = target_height - img.size[1]\n",
    "    padding = (delta_w // 2, delta_h // 2, delta_w - delta_w // 2, delta_h - delta_h // 2)\n",
    "    return ImageOps.expand(img, padding, fill=\"white\")\n",
    "\n",
    "def combine_side_by_side(img1, img2, save_path, size=(224, 224)):\n",
    "    \"\"\"Combine two images into one canvas side-by-side.\"\"\"\n",
    "    img1_boxed = pad_to_fixed_box(img1, size[0]//2, size[1])\n",
    "    img2_boxed = pad_to_fixed_box(img2, size[0]//2, size[1])\n",
    "\n",
    "    canvas = Image.new(\"RGB\", size, \"white\")\n",
    "    canvas.paste(img1_boxed, (0, 0))\n",
    "    canvas.paste(img2_boxed, (size[0]//2, 0))\n",
    "    canvas.save(save_path)\n",
    "\n",
    "def process_folder(input_dir, output_dir):\n",
    "    os.makedirs(output_dir, exist_ok=True)\n",
    "\n",
    "    # ดึงไฟล์รูปทั้งหมด\n",
    "    files = [f for f in os.listdir(input_dir) if f.lower().endswith(('.jpg', '.jpeg', '.png'))]\n",
    "\n",
    "    # จัดกลุ่มตาม prefix (ก่อน \"_\")\n",
    "    groups = {}\n",
    "    for f in files:\n",
    "        prefix = f.split(\"_\")[0]   # เช่น i001 จาก i001_side.jpg\n",
    "        groups.setdefault(prefix, []).append(f)\n",
    "\n",
    "    for prefix, group_files in groups.items():\n",
    "        # ต้องมีอย่างน้อย side + upper\n",
    "        side_file = next((f for f in group_files if \"side\" in f.lower()), None)\n",
    "        upper_file = next((f for f in group_files if \"upper\" in f.lower()), None)\n",
    "\n",
    "        if side_file and upper_file:\n",
    "            img1 = Image.open(os.path.join(input_dir, side_file))\n",
    "            img2 = Image.open(os.path.join(input_dir, upper_file))\n",
    "\n",
    "            save_name = f\"{prefix}_crop_group.jpg\"\n",
    "            save_path = os.path.join(output_dir, save_name)\n",
    "\n",
    "            combine_side_by_side(img1, img2, save_path)\n",
    "            print(f\"✅ Saved {save_path}\")\n",
    "        else:\n",
    "            print(f\"⚠️ Skip {prefix}, missing side/upper\")"
   ],
   "id": "ecf17fa392179ea7",
   "outputs": [],
   "execution_count": 10
  },
  {
   "metadata": {
    "ExecuteTime": {
     "end_time": "2025-09-14T08:05:32.558014Z",
     "start_time": "2025-09-14T08:05:31.263233Z"
    }
   },
   "cell_type": "code",
   "source": [
    "input_dir = \"./data/raw/full\"\n",
    "output_dir = \"./data/prepared-2\"\n",
    "process_folder(input_dir, output_dir)"
   ],
   "id": "478b7b8b9b35eb35",
   "outputs": [
    {
     "name": "stdout",
     "output_type": "stream",
     "text": [
      "✅ Saved ./data/prepared-2/i023_crop_group.jpg\n",
      "✅ Saved ./data/prepared-2/i037_crop_group.jpg\n",
      "✅ Saved ./data/prepared-2/i072_crop_group.jpg\n",
      "✅ Saved ./data/prepared-2/i036_crop_group.jpg\n",
      "✅ Saved ./data/prepared-2/i046_crop_group.jpg\n",
      "✅ Saved ./data/prepared-2/i070_crop_group.jpg\n",
      "✅ Saved ./data/prepared-2/i022_crop_group.jpg\n",
      "✅ Saved ./data/prepared-2/i067_crop_group.jpg\n",
      "✅ Saved ./data/prepared-2/i026_crop_group.jpg\n",
      "✅ Saved ./data/prepared-2/i060_crop_group.jpg\n",
      "✅ Saved ./data/prepared-2/i068_crop_group.jpg\n",
      "✅ Saved ./data/prepared-2/i017_crop_group.jpg\n",
      "✅ Saved ./data/prepared-2/i069_crop_group.jpg\n",
      "✅ Saved ./data/prepared-2/i040_crop_group.jpg\n",
      "✅ Saved ./data/prepared-2/i047_crop_group.jpg\n",
      "✅ Saved ./data/prepared-2/i050_crop_group.jpg\n",
      "✅ Saved ./data/prepared-2/i053_crop_group.jpg\n",
      "✅ Saved ./data/prepared-2/i073_crop_group.jpg\n",
      "✅ Saved ./data/prepared-2/i032_crop_group.jpg\n",
      "✅ Saved ./data/prepared-2/i029_crop_group.jpg\n",
      "✅ Saved ./data/prepared-2/i003_crop_group.jpg\n",
      "✅ Saved ./data/prepared-2/i002_crop_group.jpg\n",
      "✅ Saved ./data/prepared-2/i055_crop_group.jpg\n",
      "✅ Saved ./data/prepared-2/i045_crop_group.jpg\n",
      "✅ Saved ./data/prepared-2/i020_crop_group.jpg\n",
      "✅ Saved ./data/prepared-2/i006_crop_group.jpg\n",
      "✅ Saved ./data/prepared-2/i048_crop_group.jpg\n",
      "✅ Saved ./data/prepared-2/i071_crop_group.jpg\n",
      "✅ Saved ./data/prepared-2/i010_crop_group.jpg\n",
      "✅ Saved ./data/prepared-2/i024_crop_group.jpg\n",
      "✅ Saved ./data/prepared-2/i007_crop_group.jpg\n",
      "✅ Saved ./data/prepared-2/i061_crop_group.jpg\n",
      "✅ Saved ./data/prepared-2/i021_crop_group.jpg\n",
      "✅ Saved ./data/prepared-2/i038_crop_group.jpg\n",
      "✅ Saved ./data/prepared-2/i013_crop_group.jpg\n",
      "✅ Saved ./data/prepared-2/i001_crop_group.jpg\n",
      "✅ Saved ./data/prepared-2/i027_crop_group.jpg\n",
      "✅ Saved ./data/prepared-2/i005_crop_group.jpg\n",
      "✅ Saved ./data/prepared-2/i011_crop_group.jpg\n",
      "✅ Saved ./data/prepared-2/i028_crop_group.jpg\n",
      "✅ Saved ./data/prepared-2/i054_crop_group.jpg\n",
      "✅ Saved ./data/prepared-2/i056_crop_group.jpg\n",
      "✅ Saved ./data/prepared-2/i058_crop_group.jpg\n",
      "✅ Saved ./data/prepared-2/i052_crop_group.jpg\n",
      "✅ Saved ./data/prepared-2/i064_crop_group.jpg\n",
      "✅ Saved ./data/prepared-2/i063_crop_group.jpg\n",
      "✅ Saved ./data/prepared-2/i008_crop_group.jpg\n",
      "✅ Saved ./data/prepared-2/i012_crop_group.jpg\n",
      "✅ Saved ./data/prepared-2/i035_crop_group.jpg\n",
      "✅ Saved ./data/prepared-2/i051_crop_group.jpg\n",
      "✅ Saved ./data/prepared-2/i016_crop_group.jpg\n",
      "✅ Saved ./data/prepared-2/i014_crop_group.jpg\n",
      "✅ Saved ./data/prepared-2/i044_crop_group.jpg\n",
      "✅ Saved ./data/prepared-2/i018_crop_group.jpg\n",
      "✅ Saved ./data/prepared-2/i033_crop_group.jpg\n",
      "✅ Saved ./data/prepared-2/i049_crop_group.jpg\n",
      "✅ Saved ./data/prepared-2/i074_crop_group.jpg\n",
      "✅ Saved ./data/prepared-2/i066_crop_group.jpg\n",
      "✅ Saved ./data/prepared-2/i042_crop_group.jpg\n",
      "✅ Saved ./data/prepared-2/i009_crop_group.jpg\n",
      "✅ Saved ./data/prepared-2/i030_crop_group.jpg\n",
      "✅ Saved ./data/prepared-2/i034_crop_group.jpg\n",
      "✅ Saved ./data/prepared-2/i057_crop_group.jpg\n",
      "✅ Saved ./data/prepared-2/i039_crop_group.jpg\n",
      "✅ Saved ./data/prepared-2/i004_crop_group.jpg\n",
      "✅ Saved ./data/prepared-2/i059_crop_group.jpg\n",
      "✅ Saved ./data/prepared-2/i019_crop_group.jpg\n",
      "✅ Saved ./data/prepared-2/i043_crop_group.jpg\n",
      "✅ Saved ./data/prepared-2/i075_crop_group.jpg\n",
      "✅ Saved ./data/prepared-2/i025_crop_group.jpg\n",
      "✅ Saved ./data/prepared-2/i062_crop_group.jpg\n",
      "✅ Saved ./data/prepared-2/i015_crop_group.jpg\n",
      "✅ Saved ./data/prepared-2/i031_crop_group.jpg\n",
      "✅ Saved ./data/prepared-2/i041_crop_group.jpg\n",
      "✅ Saved ./data/prepared-2/i065_crop_group.jpg\n"
     ]
    }
   ],
   "execution_count": 11
  }
 ],
 "metadata": {
  "kernelspec": {
   "display_name": "Python 3",
   "language": "python",
   "name": "python3"
  },
  "language_info": {
   "codemirror_mode": {
    "name": "ipython",
    "version": 2
   },
   "file_extension": ".py",
   "mimetype": "text/x-python",
   "name": "python",
   "nbconvert_exporter": "python",
   "pygments_lexer": "ipython2",
   "version": "2.7.6"
  }
 },
 "nbformat": 4,
 "nbformat_minor": 5
}
