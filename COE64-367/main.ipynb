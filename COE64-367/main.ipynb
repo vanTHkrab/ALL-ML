{
 "cells": [
  {
   "cell_type": "code",
   "id": "initial_id",
   "metadata": {
    "collapsed": true,
    "ExecuteTime": {
     "end_time": "2025-09-14T19:57:15.898117Z",
     "start_time": "2025-09-14T19:57:15.895486Z"
    }
   },
   "source": [
    "import os\n",
    "import cv2\n",
    "import numpy as np\n",
    "from glob import glob"
   ],
   "outputs": [],
   "execution_count": 11
  },
  {
   "metadata": {},
   "cell_type": "markdown",
   "source": [
    "### # Image Augmentation\n",
    "#### - Add more variations to training images\n",
    "#### - Techniques: flip, rotate, crop, noise\n",
    "#### - Libraries: OpenCV, NumPy"
   ],
   "id": "f3648414056514c"
  },
  {
   "metadata": {
    "ExecuteTime": {
     "end_time": "2025-09-14T19:57:16.982476Z",
     "start_time": "2025-09-14T19:57:16.979609Z"
    }
   },
   "cell_type": "code",
   "source": [
    "input_dir = \"./data/cropped\"\n",
    "output_dir = \"./data/prepared-train-2\"\n",
    "os.makedirs(output_dir, exist_ok=True)"
   ],
   "id": "6b57a25d303f1bc5",
   "outputs": [],
   "execution_count": 12
  },
  {
   "metadata": {
    "ExecuteTime": {
     "end_time": "2025-09-14T19:54:10.842340Z",
     "start_time": "2025-09-14T19:54:10.839331Z"
    }
   },
   "cell_type": "code",
   "source": [
    "# count images\n",
    "image_paths = glob(os.path.join(input_dir, \"*.jpg\"))\n",
    "print(f\"Total images: {len(image_paths)}\")"
   ],
   "id": "75c8516155c853b3",
   "outputs": [
    {
     "name": "stdout",
     "output_type": "stream",
     "text": [
      "Total images: 75\n"
     ]
    }
   ],
   "execution_count": 3
  }
 ],
 "metadata": {
  "kernelspec": {
   "display_name": "Python 3",
   "language": "python",
   "name": "python3"
  },
  "language_info": {
   "codemirror_mode": {
    "name": "ipython",
    "version": 2
   },
   "file_extension": ".py",
   "mimetype": "text/x-python",
   "name": "python",
   "nbconvert_exporter": "python",
   "pygments_lexer": "ipython2",
   "version": "2.7.6"
  }
 },
 "nbformat": 4,
 "nbformat_minor": 5
}
