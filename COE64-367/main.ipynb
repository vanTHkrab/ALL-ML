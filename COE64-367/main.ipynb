{
 "cells": [
  {
   "cell_type": "code",
   "id": "initial_id",
   "metadata": {
    "collapsed": true,
    "ExecuteTime": {
     "end_time": "2025-09-14T08:16:31.408867Z",
     "start_time": "2025-09-14T08:16:31.406154Z"
    }
   },
   "source": [
    "import os\n",
    "import cv2\n",
    "import numpy as np\n",
    "import matplotlib.pyplot as plt\n",
    "from glob import glob\n",
    "from sklearn.model_selection import train_test_split\n",
    "from sklearn.metrics import accuracy_score, mean_squared_error, classification_report\n",
    "from sklearn.ensemble import RandomForestClassifier, GradientBoostingClassifier\n",
    "from sklearn.linear_model import RidgeClassifier"
   ],
   "outputs": [],
   "execution_count": 31
  },
  {
   "metadata": {},
   "cell_type": "markdown",
   "source": [
    "### # Image Augmentation\n",
    "#### - Add more variations to training images\n",
    "#### - Techniques: flip, rotate, crop, noise\n",
    "#### - Libraries: OpenCV, NumPy"
   ],
   "id": "f3648414056514c"
  },
  {
   "metadata": {
    "ExecuteTime": {
     "end_time": "2025-09-14T08:16:31.454579Z",
     "start_time": "2025-09-14T08:16:31.452485Z"
    }
   },
   "cell_type": "code",
   "source": [
    "input_dir = \"./data/prepared-2\"\n",
    "output_dir = \"./data/prepared-train\"\n",
    "os.makedirs(output_dir, exist_ok=True)"
   ],
   "id": "6b57a25d303f1bc5",
   "outputs": [],
   "execution_count": 32
  },
  {
   "metadata": {
    "ExecuteTime": {
     "end_time": "2025-09-14T08:16:31.502703Z",
     "start_time": "2025-09-14T08:16:31.499842Z"
    }
   },
   "cell_type": "code",
   "source": [
    "# count images\n",
    "image_paths = glob(os.path.join(input_dir, \"*.jpg\"))\n",
    "print(f\"Total images: {len(image_paths)}\")"
   ],
   "id": "75c8516155c853b3",
   "outputs": [
    {
     "name": "stdout",
     "output_type": "stream",
     "text": [
      "จำนวนภาพทั้งหมด: 75\n"
     ]
    }
   ],
   "execution_count": 33
  },
  {
   "metadata": {
    "ExecuteTime": {
     "end_time": "2025-09-14T08:16:31.877746Z",
     "start_time": "2025-09-14T08:16:31.549556Z"
    }
   },
   "cell_type": "code",
   "source": [
    "def augment_image(img):\n",
    "    augmented = []\n",
    "\n",
    "    # Flip\n",
    "    augmented.append((\"flip_h\", cv2.flip(img, 1)))   # horizontal\n",
    "    augmented.append((\"flip_v\", cv2.flip(img, 0)))   # vertical\n",
    "\n",
    "    # Rotate\n",
    "    (h, w) = img.shape[:2]\n",
    "    M = cv2.getRotationMatrix2D((w//2, h//2), 15, 1.0)\n",
    "    augmented.append((\"rot15\", cv2.warpAffine(img, M, (w, h))))\n",
    "\n",
    "    # Crop (random crop)\n",
    "    cropped = img[5:h-5, 5:w-5]\n",
    "    cropped = cv2.resize(cropped, (w, h))\n",
    "    augmented.append((\"crop\", cropped))\n",
    "\n",
    "    # Noise\n",
    "    noise = np.random.normal(0, 25, img.shape).astype(np.uint8)\n",
    "    noisy = cv2.add(img, noise)\n",
    "    augmented.append((\"noise\", noisy))\n",
    "\n",
    "    return augmented\n",
    "\n",
    "# -----------------------------\n",
    "# Process Images\n",
    "# -----------------------------\n",
    "image_paths = glob(os.path.join(input_dir, \"*.jpg\"))\n",
    "\n",
    "for path in image_paths:\n",
    "    label = os.path.basename(os.path.dirname(path))\n",
    "    fname = os.path.splitext(os.path.basename(path))[0]\n",
    "\n",
    "    # เตรียมโฟลเดอร์ class\n",
    "    out_class_dir = output_dir\n",
    "    os.makedirs(out_class_dir, exist_ok=True)\n",
    "\n",
    "    # โหลดภาพ\n",
    "    img = cv2.imread(path)\n",
    "\n",
    "    # save original\n",
    "    cv2.imwrite(os.path.join(out_class_dir, f\"{fname}_orig.jpg\"), img)\n",
    "\n",
    "    # save augmentations\n",
    "    for aug_name, aug_img in augment_image(img):\n",
    "        out_path = os.path.join(out_class_dir, f\"{fname}_{aug_name}.jpg\")\n",
    "        cv2.imwrite(out_path, aug_img)\n",
    "\n",
    "print(\"✅ เสร็จสิ้น: Augmented images saved to\", output_dir)"
   ],
   "id": "357ffbb8762e8a64",
   "outputs": [
    {
     "name": "stdout",
     "output_type": "stream",
     "text": [
      "✅ เสร็จสิ้น: Augmented images saved to ./data/prepared-train\n"
     ]
    }
   ],
   "execution_count": 34
  },
  {
   "metadata": {},
   "cell_type": "markdown",
   "source": "### # Prepare Data for Training",
   "id": "e2ca8d1722009d57"
  },
  {
   "metadata": {
    "ExecuteTime": {
     "end_time": "2025-09-14T08:21:01.997441Z",
     "start_time": "2025-09-14T08:21:01.994116Z"
    }
   },
   "cell_type": "code",
   "source": [
    "input_dir = \"./data/prepared-train\"\n",
    "image_paths = glob(os.path.join(input_dir, \"*.jpg\"))\n",
    "print(f\"Total images: {len(image_paths)}\")"
   ],
   "id": "889638fbbf65f90d",
   "outputs": [
    {
     "name": "stdout",
     "output_type": "stream",
     "text": [
      "Total images: 450\n"
     ]
    }
   ],
   "execution_count": 35
  },
  {
   "metadata": {},
   "cell_type": "code",
   "outputs": [],
   "execution_count": null,
   "source": "",
   "id": "14dbc7ee2994f0c9"
  }
 ],
 "metadata": {
  "kernelspec": {
   "display_name": "Python 3",
   "language": "python",
   "name": "python3"
  },
  "language_info": {
   "codemirror_mode": {
    "name": "ipython",
    "version": 2
   },
   "file_extension": ".py",
   "mimetype": "text/x-python",
   "name": "python",
   "nbconvert_exporter": "python",
   "pygments_lexer": "ipython2",
   "version": "2.7.6"
  }
 },
 "nbformat": 4,
 "nbformat_minor": 5
}
