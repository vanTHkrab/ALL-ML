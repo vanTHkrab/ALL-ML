{
 "cells": [
  {
   "cell_type": "markdown",
   "metadata": {},
   "source": [
    "# 🍈 Mangosteen Volume Estimation (Images → Volume ml)\n",
    "\n",
    "**Two approaches in one notebook**:\n",
    "\n",
    "1) **Feature-based Regression (Lightweight)**\n",
    "   - Extract simple geometric features from images (diameter/area in cm) using OpenCV.\n",
    "   - Train **Linear/GBM** regressors to predict volume (ml).\n",
    "\n",
    "2) **CNN Regression (End-to-End)**\n",
    "   - Use a small CNN (TensorFlow/Keras) to learn directly from images.\n",
    "   - Suitable when you have more images and want better generalization.\n",
    "\n",
    "You can run either (or both). The notebook assumes your files are organized like:\n",
    "\n",
    "- CSV labels: `/mnt/data/mangosteen-train.csv` with columns:\n",
    "  - **A**: `mangosteen_id` (e.g., 1, 2, 3 …) matching `i001`, `i002`, …\n",
    "  - **B**: `weight_g`\n",
    "  - **D**: `volume_ml`\n",
    "- Images: e.g., `/mnt/data/i001_crop_group_measured.jpg`, `/mnt/data/i002_crop_group_measured.jpg`, …\n",
    "\n",
    "> Tip: If your IDs are `i001`, `i002`, the numeric part is matched to `mangosteen_id` with zero-padding to 3 digits.\n"
   ],
   "id": "48cf4ddf09ce7c3f"
  },
  {
   "cell_type": "markdown",
   "metadata": {},
   "source": [
    "## 0) Setup"
   ],
   "id": "e7bacf00f7a30fde"
  },
  {
   "cell_type": "code",
   "metadata": {
    "ExecuteTime": {
     "end_time": "2025-09-15T13:21:58.553876Z",
     "start_time": "2025-09-15T13:21:58.538805Z"
    }
   },
   "source": [
    "import os, re, math, glob\n",
    "import numpy as np\n",
    "import pandas as pd\n",
    "from typing import List, Tuple\n",
    "\n",
    "from sklearn.model_selection import train_test_split\n",
    "from sklearn.metrics import mean_absolute_error, mean_squared_error, r2_score\n",
    "from sklearn.linear_model import LinearRegression\n",
    "from sklearn.ensemble import GradientBoostingRegressor\n",
    "\n",
    "import matplotlib.pyplot as plt\n",
    "\n",
    "IMG_DIR = './data/cropped'  # change if needed\n",
    "CSV_PATH = './data/mangosteen-train.csv'  # change if needed\n",
    "\n",
    "df = pd.read_csv(CSV_PATH)\n",
    "df.columns = [c.strip().lower().replace(' ', '_') for c in df.columns]\n",
    "display(df.head())"
   ],
   "id": "8a493064bf365008",
   "outputs": [
    {
     "data": {
      "text/plain": [
       "   id  weight_(g)  มิลิลิต  volumes_(ml)   ลักษณะ  น้ำช่วงแรก:  400\n",
       "0   1        86.6      500           100      ยาง          NaN  NaN\n",
       "1   2        53.7      450            50  ชุ่มฉ่ำ          NaN  NaN\n",
       "2   3        85.7      500           100  ชุ่มฉ่ำ          NaN  NaN\n",
       "3   4        62.8      470            70  ชุ่มฉ่ำ          NaN  NaN\n",
       "4   5        45.1      450            50     แก้ว          NaN  NaN"
      ],
      "text/html": [
       "<div>\n",
       "<style scoped>\n",
       "    .dataframe tbody tr th:only-of-type {\n",
       "        vertical-align: middle;\n",
       "    }\n",
       "\n",
       "    .dataframe tbody tr th {\n",
       "        vertical-align: top;\n",
       "    }\n",
       "\n",
       "    .dataframe thead th {\n",
       "        text-align: right;\n",
       "    }\n",
       "</style>\n",
       "<table border=\"1\" class=\"dataframe\">\n",
       "  <thead>\n",
       "    <tr style=\"text-align: right;\">\n",
       "      <th></th>\n",
       "      <th>id</th>\n",
       "      <th>weight_(g)</th>\n",
       "      <th>มิลิลิต</th>\n",
       "      <th>volumes_(ml)</th>\n",
       "      <th>ลักษณะ</th>\n",
       "      <th>น้ำช่วงแรก:</th>\n",
       "      <th>400</th>\n",
       "    </tr>\n",
       "  </thead>\n",
       "  <tbody>\n",
       "    <tr>\n",
       "      <th>0</th>\n",
       "      <td>1</td>\n",
       "      <td>86.6</td>\n",
       "      <td>500</td>\n",
       "      <td>100</td>\n",
       "      <td>ยาง</td>\n",
       "      <td>NaN</td>\n",
       "      <td>NaN</td>\n",
       "    </tr>\n",
       "    <tr>\n",
       "      <th>1</th>\n",
       "      <td>2</td>\n",
       "      <td>53.7</td>\n",
       "      <td>450</td>\n",
       "      <td>50</td>\n",
       "      <td>ชุ่มฉ่ำ</td>\n",
       "      <td>NaN</td>\n",
       "      <td>NaN</td>\n",
       "    </tr>\n",
       "    <tr>\n",
       "      <th>2</th>\n",
       "      <td>3</td>\n",
       "      <td>85.7</td>\n",
       "      <td>500</td>\n",
       "      <td>100</td>\n",
       "      <td>ชุ่มฉ่ำ</td>\n",
       "      <td>NaN</td>\n",
       "      <td>NaN</td>\n",
       "    </tr>\n",
       "    <tr>\n",
       "      <th>3</th>\n",
       "      <td>4</td>\n",
       "      <td>62.8</td>\n",
       "      <td>470</td>\n",
       "      <td>70</td>\n",
       "      <td>ชุ่มฉ่ำ</td>\n",
       "      <td>NaN</td>\n",
       "      <td>NaN</td>\n",
       "    </tr>\n",
       "    <tr>\n",
       "      <th>4</th>\n",
       "      <td>5</td>\n",
       "      <td>45.1</td>\n",
       "      <td>450</td>\n",
       "      <td>50</td>\n",
       "      <td>แก้ว</td>\n",
       "      <td>NaN</td>\n",
       "      <td>NaN</td>\n",
       "    </tr>\n",
       "  </tbody>\n",
       "</table>\n",
       "</div>"
      ]
     },
     "metadata": {},
     "output_type": "display_data",
     "jetTransient": {
      "display_id": null
     }
    }
   ],
   "execution_count": 61
  },
  {
   "cell_type": "markdown",
   "metadata": {},
   "source": [
    "## 1) Link images to labels\n",
    "We assume files are named like `i001_crop_group_measured.jpg`. We'll build a `filepath` column by zero-padding `mangosteen_id`."
   ],
   "id": "d79c3443d50cc46c"
  },
  {
   "cell_type": "code",
   "metadata": {
    "ExecuteTime": {
     "end_time": "2025-09-15T13:21:58.626089Z",
     "start_time": "2025-09-15T13:21:58.608131Z"
    }
   },
   "source": [
    "def id_to_fname(idx:int)->str:\n",
    "    return f\"i{idx:03d}_crop_group_measured.jpg\"\n",
    "\n",
    "df['filename'] = df['id'].astype(int).apply(id_to_fname)\n",
    "df['filepath'] = df['filename'].apply(lambda f: os.path.join(IMG_DIR, f))\n",
    "df['exists'] = df['filepath'].apply(os.path.exists)\n",
    "print('Found images:', df['exists'].sum(), '/', len(df))\n",
    "display(df[['id','filename','filepath','exists','weight_(g)','volumes_(ml)']].head(10))"
   ],
   "id": "4e435a96f5e51ca6",
   "outputs": [
    {
     "name": "stdout",
     "output_type": "stream",
     "text": [
      "Found images: 75 / 75\n"
     ]
    },
    {
     "data": {
      "text/plain": [
       "   id                      filename  \\\n",
       "0   1  i001_crop_group_measured.jpg   \n",
       "1   2  i002_crop_group_measured.jpg   \n",
       "2   3  i003_crop_group_measured.jpg   \n",
       "3   4  i004_crop_group_measured.jpg   \n",
       "4   5  i005_crop_group_measured.jpg   \n",
       "5   6  i006_crop_group_measured.jpg   \n",
       "6   7  i007_crop_group_measured.jpg   \n",
       "7   8  i008_crop_group_measured.jpg   \n",
       "8   9  i009_crop_group_measured.jpg   \n",
       "9  10  i010_crop_group_measured.jpg   \n",
       "\n",
       "                                      filepath  exists  weight_(g)  \\\n",
       "0  ./data/cropped/i001_crop_group_measured.jpg    True        86.6   \n",
       "1  ./data/cropped/i002_crop_group_measured.jpg    True        53.7   \n",
       "2  ./data/cropped/i003_crop_group_measured.jpg    True        85.7   \n",
       "3  ./data/cropped/i004_crop_group_measured.jpg    True        62.8   \n",
       "4  ./data/cropped/i005_crop_group_measured.jpg    True        45.1   \n",
       "5  ./data/cropped/i006_crop_group_measured.jpg    True        89.0   \n",
       "6  ./data/cropped/i007_crop_group_measured.jpg    True        68.6   \n",
       "7  ./data/cropped/i008_crop_group_measured.jpg    True        68.6   \n",
       "8  ./data/cropped/i009_crop_group_measured.jpg    True        41.1   \n",
       "9  ./data/cropped/i010_crop_group_measured.jpg    True        56.0   \n",
       "\n",
       "   volumes_(ml)  \n",
       "0           100  \n",
       "1            50  \n",
       "2           100  \n",
       "3            70  \n",
       "4            50  \n",
       "5           100  \n",
       "6            80  \n",
       "7            80  \n",
       "8            50  \n",
       "9            60  "
      ],
      "text/html": [
       "<div>\n",
       "<style scoped>\n",
       "    .dataframe tbody tr th:only-of-type {\n",
       "        vertical-align: middle;\n",
       "    }\n",
       "\n",
       "    .dataframe tbody tr th {\n",
       "        vertical-align: top;\n",
       "    }\n",
       "\n",
       "    .dataframe thead th {\n",
       "        text-align: right;\n",
       "    }\n",
       "</style>\n",
       "<table border=\"1\" class=\"dataframe\">\n",
       "  <thead>\n",
       "    <tr style=\"text-align: right;\">\n",
       "      <th></th>\n",
       "      <th>id</th>\n",
       "      <th>filename</th>\n",
       "      <th>filepath</th>\n",
       "      <th>exists</th>\n",
       "      <th>weight_(g)</th>\n",
       "      <th>volumes_(ml)</th>\n",
       "    </tr>\n",
       "  </thead>\n",
       "  <tbody>\n",
       "    <tr>\n",
       "      <th>0</th>\n",
       "      <td>1</td>\n",
       "      <td>i001_crop_group_measured.jpg</td>\n",
       "      <td>./data/cropped/i001_crop_group_measured.jpg</td>\n",
       "      <td>True</td>\n",
       "      <td>86.6</td>\n",
       "      <td>100</td>\n",
       "    </tr>\n",
       "    <tr>\n",
       "      <th>1</th>\n",
       "      <td>2</td>\n",
       "      <td>i002_crop_group_measured.jpg</td>\n",
       "      <td>./data/cropped/i002_crop_group_measured.jpg</td>\n",
       "      <td>True</td>\n",
       "      <td>53.7</td>\n",
       "      <td>50</td>\n",
       "    </tr>\n",
       "    <tr>\n",
       "      <th>2</th>\n",
       "      <td>3</td>\n",
       "      <td>i003_crop_group_measured.jpg</td>\n",
       "      <td>./data/cropped/i003_crop_group_measured.jpg</td>\n",
       "      <td>True</td>\n",
       "      <td>85.7</td>\n",
       "      <td>100</td>\n",
       "    </tr>\n",
       "    <tr>\n",
       "      <th>3</th>\n",
       "      <td>4</td>\n",
       "      <td>i004_crop_group_measured.jpg</td>\n",
       "      <td>./data/cropped/i004_crop_group_measured.jpg</td>\n",
       "      <td>True</td>\n",
       "      <td>62.8</td>\n",
       "      <td>70</td>\n",
       "    </tr>\n",
       "    <tr>\n",
       "      <th>4</th>\n",
       "      <td>5</td>\n",
       "      <td>i005_crop_group_measured.jpg</td>\n",
       "      <td>./data/cropped/i005_crop_group_measured.jpg</td>\n",
       "      <td>True</td>\n",
       "      <td>45.1</td>\n",
       "      <td>50</td>\n",
       "    </tr>\n",
       "    <tr>\n",
       "      <th>5</th>\n",
       "      <td>6</td>\n",
       "      <td>i006_crop_group_measured.jpg</td>\n",
       "      <td>./data/cropped/i006_crop_group_measured.jpg</td>\n",
       "      <td>True</td>\n",
       "      <td>89.0</td>\n",
       "      <td>100</td>\n",
       "    </tr>\n",
       "    <tr>\n",
       "      <th>6</th>\n",
       "      <td>7</td>\n",
       "      <td>i007_crop_group_measured.jpg</td>\n",
       "      <td>./data/cropped/i007_crop_group_measured.jpg</td>\n",
       "      <td>True</td>\n",
       "      <td>68.6</td>\n",
       "      <td>80</td>\n",
       "    </tr>\n",
       "    <tr>\n",
       "      <th>7</th>\n",
       "      <td>8</td>\n",
       "      <td>i008_crop_group_measured.jpg</td>\n",
       "      <td>./data/cropped/i008_crop_group_measured.jpg</td>\n",
       "      <td>True</td>\n",
       "      <td>68.6</td>\n",
       "      <td>80</td>\n",
       "    </tr>\n",
       "    <tr>\n",
       "      <th>8</th>\n",
       "      <td>9</td>\n",
       "      <td>i009_crop_group_measured.jpg</td>\n",
       "      <td>./data/cropped/i009_crop_group_measured.jpg</td>\n",
       "      <td>True</td>\n",
       "      <td>41.1</td>\n",
       "      <td>50</td>\n",
       "    </tr>\n",
       "    <tr>\n",
       "      <th>9</th>\n",
       "      <td>10</td>\n",
       "      <td>i010_crop_group_measured.jpg</td>\n",
       "      <td>./data/cropped/i010_crop_group_measured.jpg</td>\n",
       "      <td>True</td>\n",
       "      <td>56.0</td>\n",
       "      <td>60</td>\n",
       "    </tr>\n",
       "  </tbody>\n",
       "</table>\n",
       "</div>"
      ]
     },
     "metadata": {},
     "output_type": "display_data",
     "jetTransient": {
      "display_id": null
     }
    }
   ],
   "execution_count": 62
  },
  {
   "cell_type": "markdown",
   "metadata": {},
   "source": [
    "## 2) Feature-based extraction (OpenCV)\n",
    "We try to estimate a robust **diameter** for each fruit. Many of your images include a colored circular overlay (magenta/cyan), which makes **HoughCircles** viable.\n",
    "\n",
    "Algorithm (simple baseline):\n",
    "1. Read image (BGR → RGB)\n",
    "2. Convert to grayscale, apply blur\n",
    "3. Use `cv2.HoughCircles` to find circles; keep the largest (assumed fruit boundary)\n",
    "4. If a circle is found, compute: `diameter_px`, and (optionally) convert to **cm** if you know `ppcm` (pixels per cm). If not available per-image, you can use an average `ppcm`.\n",
    "5. Derived features: `diameter_cm`, `area_cm2`, `perimeter_cm`\n",
    "\n",
    "> If HoughCircles fails for some images, the code will fallback to `NaN`. You can drop those rows or manually tune parameters per dataset."
   ],
   "id": "962b69461abcbc83"
  },
  {
   "cell_type": "code",
   "metadata": {
    "ExecuteTime": {
     "end_time": "2025-09-15T13:21:59.681750Z",
     "start_time": "2025-09-15T13:21:58.757054Z"
    }
   },
   "source": [
    "import cv2  # requires opencv-python\n",
    "\n",
    "DEFAULT_PPCM = 6.9  # fallback pixels-per-cm; adjust/estimate from a few samples\n",
    "\n",
    "def extract_circle_features(img_path:str, ppcm:float=DEFAULT_PPCM):\n",
    "    \"\"\"\n",
    "    Returns: dict with diameter_cm, area_cm2, perimeter_cm, success\n",
    "    \"\"\"\n",
    "    try:\n",
    "        img = cv2.imread(img_path)\n",
    "        if img is None:\n",
    "            return {'diameter_cm':np.nan,'area_cm2':np.nan,'perimeter_cm':np.nan,'success':False}\n",
    "        gray = cv2.cvtColor(img, cv2.COLOR_BGR2GRAY)\n",
    "        gray = cv2.medianBlur(gray, 5)\n",
    "\n",
    "        circles = cv2.HoughCircles(gray, cv2.HOUGH_GRADIENT, dp=1.2, minDist=40,\n",
    "                                   param1=100, param2=30, minRadius=20, maxRadius=200)\n",
    "        if circles is None:\n",
    "            return {'diameter_cm':np.nan,'area_cm2':np.nan,'perimeter_cm':np.nan,'success':False}\n",
    "        circles = np.uint16(np.around(circles))[0, :]\n",
    "        # largest radius first\n",
    "        r = np.max(circles[:,2])\n",
    "        diameter_px = 2*r\n",
    "        diameter_cm = float(diameter_px) / float(ppcm)\n",
    "        radius_cm = diameter_cm/2.0\n",
    "        area_cm2 = math.pi * (radius_cm**2)\n",
    "        perimeter_cm = 2*math.pi*radius_cm\n",
    "        return {'diameter_cm':diameter_cm,'area_cm2':area_cm2,'perimeter_cm':perimeter_cm,'success':True}\n",
    "    except Exception as e:\n",
    "        print('extract failed:', img_path, e)\n",
    "        return {'diameter_cm':np.nan,'area_cm2':np.nan,'perimeter_cm':np.nan,'success':False}\n",
    "\n",
    "features = []\n",
    "for fp in df['filepath']:\n",
    "    if os.path.exists(fp):\n",
    "        features.append(extract_circle_features(fp, DEFAULT_PPCM))\n",
    "    else:\n",
    "        features.append({'diameter_cm':np.nan,'area_cm2':np.nan,'perimeter_cm':np.nan,'success':False})\n",
    "\n",
    "feat_df = pd.DataFrame(features)\n",
    "df_feat = pd.concat([df.reset_index(drop=True), feat_df], axis=1)\n",
    "print('Feature success rate:', df_feat['success'].mean())\n",
    "display(df_feat.head())"
   ],
   "id": "72ebd913bcaa0a73",
   "outputs": [
    {
     "name": "stdout",
     "output_type": "stream",
     "text": [
      "Feature success rate: 1.0\n"
     ]
    },
    {
     "data": {
      "text/plain": [
       "   id  weight_(g)  มิลิลิต  volumes_(ml)   ลักษณะ  น้ำช่วงแรก:  400  \\\n",
       "0   1        86.6      500           100      ยาง          NaN  NaN   \n",
       "1   2        53.7      450            50  ชุ่มฉ่ำ          NaN  NaN   \n",
       "2   3        85.7      500           100  ชุ่มฉ่ำ          NaN  NaN   \n",
       "3   4        62.8      470            70  ชุ่มฉ่ำ          NaN  NaN   \n",
       "4   5        45.1      450            50     แก้ว          NaN  NaN   \n",
       "\n",
       "                       filename                                     filepath  \\\n",
       "0  i001_crop_group_measured.jpg  ./data/cropped/i001_crop_group_measured.jpg   \n",
       "1  i002_crop_group_measured.jpg  ./data/cropped/i002_crop_group_measured.jpg   \n",
       "2  i003_crop_group_measured.jpg  ./data/cropped/i003_crop_group_measured.jpg   \n",
       "3  i004_crop_group_measured.jpg  ./data/cropped/i004_crop_group_measured.jpg   \n",
       "4  i005_crop_group_measured.jpg  ./data/cropped/i005_crop_group_measured.jpg   \n",
       "\n",
       "   exists  diameter_cm     area_cm2  perimeter_cm  success  \n",
       "0    True    39.710145  1238.490916    124.753100     True  \n",
       "1    True    28.405797   633.729381     89.239443     True  \n",
       "2    True    34.202899   918.788828    107.451575     True  \n",
       "3    True    42.028986  1387.355294    132.037952     True  \n",
       "4    True    43.478261  1484.684619    136.590985     True  "
      ],
      "text/html": [
       "<div>\n",
       "<style scoped>\n",
       "    .dataframe tbody tr th:only-of-type {\n",
       "        vertical-align: middle;\n",
       "    }\n",
       "\n",
       "    .dataframe tbody tr th {\n",
       "        vertical-align: top;\n",
       "    }\n",
       "\n",
       "    .dataframe thead th {\n",
       "        text-align: right;\n",
       "    }\n",
       "</style>\n",
       "<table border=\"1\" class=\"dataframe\">\n",
       "  <thead>\n",
       "    <tr style=\"text-align: right;\">\n",
       "      <th></th>\n",
       "      <th>id</th>\n",
       "      <th>weight_(g)</th>\n",
       "      <th>มิลิลิต</th>\n",
       "      <th>volumes_(ml)</th>\n",
       "      <th>ลักษณะ</th>\n",
       "      <th>น้ำช่วงแรก:</th>\n",
       "      <th>400</th>\n",
       "      <th>filename</th>\n",
       "      <th>filepath</th>\n",
       "      <th>exists</th>\n",
       "      <th>diameter_cm</th>\n",
       "      <th>area_cm2</th>\n",
       "      <th>perimeter_cm</th>\n",
       "      <th>success</th>\n",
       "    </tr>\n",
       "  </thead>\n",
       "  <tbody>\n",
       "    <tr>\n",
       "      <th>0</th>\n",
       "      <td>1</td>\n",
       "      <td>86.6</td>\n",
       "      <td>500</td>\n",
       "      <td>100</td>\n",
       "      <td>ยาง</td>\n",
       "      <td>NaN</td>\n",
       "      <td>NaN</td>\n",
       "      <td>i001_crop_group_measured.jpg</td>\n",
       "      <td>./data/cropped/i001_crop_group_measured.jpg</td>\n",
       "      <td>True</td>\n",
       "      <td>39.710145</td>\n",
       "      <td>1238.490916</td>\n",
       "      <td>124.753100</td>\n",
       "      <td>True</td>\n",
       "    </tr>\n",
       "    <tr>\n",
       "      <th>1</th>\n",
       "      <td>2</td>\n",
       "      <td>53.7</td>\n",
       "      <td>450</td>\n",
       "      <td>50</td>\n",
       "      <td>ชุ่มฉ่ำ</td>\n",
       "      <td>NaN</td>\n",
       "      <td>NaN</td>\n",
       "      <td>i002_crop_group_measured.jpg</td>\n",
       "      <td>./data/cropped/i002_crop_group_measured.jpg</td>\n",
       "      <td>True</td>\n",
       "      <td>28.405797</td>\n",
       "      <td>633.729381</td>\n",
       "      <td>89.239443</td>\n",
       "      <td>True</td>\n",
       "    </tr>\n",
       "    <tr>\n",
       "      <th>2</th>\n",
       "      <td>3</td>\n",
       "      <td>85.7</td>\n",
       "      <td>500</td>\n",
       "      <td>100</td>\n",
       "      <td>ชุ่มฉ่ำ</td>\n",
       "      <td>NaN</td>\n",
       "      <td>NaN</td>\n",
       "      <td>i003_crop_group_measured.jpg</td>\n",
       "      <td>./data/cropped/i003_crop_group_measured.jpg</td>\n",
       "      <td>True</td>\n",
       "      <td>34.202899</td>\n",
       "      <td>918.788828</td>\n",
       "      <td>107.451575</td>\n",
       "      <td>True</td>\n",
       "    </tr>\n",
       "    <tr>\n",
       "      <th>3</th>\n",
       "      <td>4</td>\n",
       "      <td>62.8</td>\n",
       "      <td>470</td>\n",
       "      <td>70</td>\n",
       "      <td>ชุ่มฉ่ำ</td>\n",
       "      <td>NaN</td>\n",
       "      <td>NaN</td>\n",
       "      <td>i004_crop_group_measured.jpg</td>\n",
       "      <td>./data/cropped/i004_crop_group_measured.jpg</td>\n",
       "      <td>True</td>\n",
       "      <td>42.028986</td>\n",
       "      <td>1387.355294</td>\n",
       "      <td>132.037952</td>\n",
       "      <td>True</td>\n",
       "    </tr>\n",
       "    <tr>\n",
       "      <th>4</th>\n",
       "      <td>5</td>\n",
       "      <td>45.1</td>\n",
       "      <td>450</td>\n",
       "      <td>50</td>\n",
       "      <td>แก้ว</td>\n",
       "      <td>NaN</td>\n",
       "      <td>NaN</td>\n",
       "      <td>i005_crop_group_measured.jpg</td>\n",
       "      <td>./data/cropped/i005_crop_group_measured.jpg</td>\n",
       "      <td>True</td>\n",
       "      <td>43.478261</td>\n",
       "      <td>1484.684619</td>\n",
       "      <td>136.590985</td>\n",
       "      <td>True</td>\n",
       "    </tr>\n",
       "  </tbody>\n",
       "</table>\n",
       "</div>"
      ]
     },
     "metadata": {},
     "output_type": "display_data",
     "jetTransient": {
      "display_id": null
     }
    }
   ],
   "execution_count": 63
  },
  {
   "cell_type": "markdown",
   "metadata": {},
   "source": [
    "## 3) Train simple regressors (Feature-based)\n",
    "We try two models: **Linear Regression** and **Gradient Boosting**.\n",
    "\n",
    "Target: `volume_ml`"
   ],
   "id": "a3ff75703211e43f"
  },
  {
   "cell_type": "code",
   "metadata": {
    "ExecuteTime": {
     "end_time": "2025-09-15T13:21:59.929581Z",
     "start_time": "2025-09-15T13:21:59.782887Z"
    }
   },
   "source": [
    "use_cols = ['diameter_cm','area_cm2','perimeter_cm']\n",
    "train_df = df_feat.dropna(subset=use_cols + ['volumes_(ml)']).copy()\n",
    "X = train_df[use_cols].values\n",
    "y = train_df['volumes_(ml)'].values\n",
    "\n",
    "X_train, X_test, y_train, y_test = train_test_split(X, y, test_size=0.1, random_state=42)\n",
    "\n",
    "models = {\n",
    "    'Linear': LinearRegression(),\n",
    "    'GBR': GradientBoostingRegressor(random_state=42)\n",
    "}\n",
    "\n",
    "for name, model in models.items():\n",
    "    model.fit(X_train, y_train)\n",
    "    pred = model.predict(X_test)\n",
    "    mae = mean_absolute_error(y_test, pred)\n",
    "    # rmse = mean_squared_error(y_test, pred, squared=False)\n",
    "    r2 = r2_score(y_test, pred)\n",
    "    print(f\"{name}: MAE={mae:.3f}, R2={r2:.3f}\")\n",
    "\n",
    "# Plot predicted vs true\n",
    "plt.figure()\n",
    "best = models['GBR']\n",
    "pred_best = best.predict(X_test)\n",
    "plt.scatter(y_test, pred_best)\n",
    "plt.xlabel('True volume (ml)')\n",
    "plt.ylabel('Predicted volume (ml)')\n",
    "plt.title('Feature-based: GBR Pred vs True')\n",
    "plt.grid(True)\n",
    "plt.show()"
   ],
   "id": "5595a051a7558d0",
   "outputs": [
    {
     "name": "stdout",
     "output_type": "stream",
     "text": [
      "Linear: MAE=16.871, R2=-0.034\n",
      "GBR: MAE=14.073, R2=-0.009\n"
     ]
    },
    {
     "data": {
      "text/plain": [
       "<Figure size 640x480 with 1 Axes>"
      ],
      "image/png": "[encoded data removed]"
     },
     "metadata": {},
     "output_type": "display_data",
     "jetTransient": {
      "display_id": null
     }
    }
   ],
   "execution_count": 64
  },
  {
   "cell_type": "markdown",
   "metadata": {},
   "source": [
    "## 4) (Optional) CNN Regression (TensorFlow/Keras)\n",
    "If you have TensorFlow installed, you can train a small CNN end-to-end.\n",
    "\n",
    "This section:\n",
    "1. Builds a simple dataset pipeline that reads each image and pairs it with `volume_ml`.\n",
    "2. Defines a compact CNN.\n",
    "3. Trains with MAE loss.\n",
    "\n",
    "> If TensorFlow isn't available in your environment, skip this cell."
   ],
   "id": "48ecfa9f943b46db"
  },
  {
   "metadata": {
    "ExecuteTime": {
     "end_time": "2025-09-15T13:21:59.967258Z",
     "start_time": "2025-09-15T13:21:59.936882Z"
    }
   },
   "cell_type": "code",
   "source": [
    "from sklearn.model_selection import KFold\n",
    "from sklearn.metrics import mean_absolute_error, mean_squared_error, r2_score\n",
    "from sklearn.linear_model import Ridge\n",
    "\n",
    "X = train_df[use_cols].values\n",
    "y = train_df['volumes_(ml)'].values\n",
    "\n",
    "kf = KFold(n_splits=25, shuffle=True, random_state=42)\n",
    "maes, rmses, r2s = [], [], []\n",
    "\n",
    "for tr, va in kf.split(X):\n",
    "    model = Ridge(alpha=1)  # ลอง 0.1, 1, 10 แล้วเลือกที่ดีที่สุด\n",
    "    model.fit(X[tr], y[tr])\n",
    "    p = model.predict(X[va])\n",
    "    maes.append(mean_absolute_error(y[va], p))\n",
    "    # rmses.append(mean_squared_error(y[va], p, squared=False))\n",
    "    r2s.append(r2_score(y[va], p))\n",
    "\n",
    "print(f\"Ridge 5-fold: MAE={np.mean(maes):.3f}±{np.std(maes):.3f}, \"\n",
    "      f\"R2={np.mean(r2s):.3f}±{np.std(r2s):.3f}\")\n"
   ],
   "id": "ea8047daacaa1166",
   "outputs": [
    {
     "name": "stdout",
     "output_type": "stream",
     "text": [
      "Ridge 5-fold: MAE=19.849±7.213, R2=-70.224±327.974\n"
     ]
    }
   ],
   "execution_count": 65
  },
  {
   "cell_type": "code",
   "metadata": {
    "ExecuteTime": {
     "end_time": "2025-09-15T13:22:04.834254Z",
     "start_time": "2025-09-15T13:22:00.014949Z"
    }
   },
   "source": [
    "try:\n",
    "    import tensorflow as tf\n",
    "    from tensorflow.keras import layers, models\n",
    "    TF_OK = True\n",
    "except Exception as e:\n",
    "    print('TensorFlow not available, skip CNN section:', e)\n",
    "    TF_OK = False\n",
    "\n",
    "IMG_SIZE = (224, 224)\n",
    "\n",
    "if TF_OK:\n",
    "    df_ok = df[df['exists']].copy()\n",
    "    df_ok = df_ok.dropna(subset=['volumes_(ml)'])\n",
    "    paths = df_ok['filepath'].tolist()\n",
    "    targets = df_ok['volumes_(ml)'].astype('float32').tolist()\n",
    "\n",
    "    X_train_p, X_test_p, y_train_p, y_test_p = train_test_split(paths, targets, test_size=0.2, random_state=0)\n",
    "\n",
    "    def parse_img(path, label):\n",
    "        img = tf.io.read_file(path)\n",
    "        img = tf.image.decode_jpeg(img, channels=3)\n",
    "        img = tf.image.resize(img, IMG_SIZE)\n",
    "        img = tf.cast(img, tf.float32) / 255.0\n",
    "        return img, tf.cast(label, tf.float32)\n",
    "\n",
    "    train_ds = tf.data.Dataset.from_tensor_slices((X_train_p, y_train_p)).map(parse_img, num_parallel_calls=tf.data.AUTOTUNE).batch(16).prefetch(tf.data.AUTOTUNE)\n",
    "    test_ds  = tf.data.Dataset.from_tensor_slices((X_test_p, y_test_p)).map(parse_img, num_parallel_calls=tf.data.AUTOTUNE).batch(16).prefetch(tf.data.AUTOTUNE)\n",
    "\n",
    "    model = models.Sequential([\n",
    "        layers.Input(shape=(*IMG_SIZE,3)),\n",
    "        layers.Conv2D(16, 3, activation='relu'), layers.MaxPooling2D(),\n",
    "        layers.Conv2D(32, 3, activation='relu'), layers.MaxPooling2D(),\n",
    "        layers.Conv2D(64, 3, activation='relu'), layers.GlobalAveragePooling2D(),\n",
    "        layers.Dense(64, activation='relu'),\n",
    "        layers.Dense(1, activation='linear')\n",
    "    ])\n",
    "    model.compile(optimizer='adam', loss='mae', metrics=['mae'])\n",
    "    model.summary()\n",
    "\n",
    "    cb = [tf.keras.callbacks.EarlyStopping(patience=5, restore_best_weights=True)]\n",
    "    hist = model.fit(train_ds, validation_data=test_ds, epochs=30, callbacks=cb)\n",
    "\n",
    "    # Evaluate\n",
    "    y_pred = model.predict(test_ds).squeeze()\n",
    "    y_true = np.array(list(y_test_p))\n",
    "    mae = mean_absolute_error(y_true, y_pred)\n",
    "    # rmse = mean_squared_error(y_true, y_pred, squared=False)\n",
    "    r2 = r2_score(y_true, y_pred)\n",
    "    print(f\"CNN: MAE={mae:.3f}, R2={r2:.3f}\")\n",
    "\n",
    "    plt.figure()\n",
    "    plt.scatter(y_true, y_pred)\n",
    "    plt.xlabel('True volume (ml)')\n",
    "    plt.ylabel('Predicted volume (ml)')\n",
    "    plt.title('CNN Pred vs True')\n",
    "    plt.grid(True)\n",
    "    plt.show()"
   ],
   "id": "8b2483e2791df7ec",
   "outputs": [
    {
     "data": {
      "text/plain": [
       "\u001B[1mModel: \"sequential_8\"\u001B[0m\n"
      ],
      "text/html": [
       "<pre style=\"white-space:pre;overflow-x:auto;line-height:normal;font-family:Menlo,'DejaVu Sans Mono',consolas,'Courier New',monospace\"><span style=\"font-weight: bold\">Model: \"sequential_8\"</span>\n",
       "</pre>\n"
      ]
     },
     "metadata": {},
     "output_type": "display_data",
     "jetTransient": {
      "display_id": null
     }
    },
    {
     "data": {
      "text/plain": [
       "┏━━━━━━━━━━━━━━━━━━━━━━━━━━━━━━━━━┳━━━━━━━━━━━━━━━━━━━━━━━━┳━━━━━━━━━━━━━━━┓\n",
       "┃\u001B[1m \u001B[0m\u001B[1mLayer (type)                   \u001B[0m\u001B[1m \u001B[0m┃\u001B[1m \u001B[0m\u001B[1mOutput Shape          \u001B[0m\u001B[1m \u001B[0m┃\u001B[1m \u001B[0m\u001B[1m      Param #\u001B[0m\u001B[1m \u001B[0m┃\n",
       "┡━━━━━━━━━━━━━━━━━━━━━━━━━━━━━━━━━╇━━━━━━━━━━━━━━━━━━━━━━━━╇━━━━━━━━━━━━━━━┩\n",
       "│ conv2d_24 (\u001B[38;5;33mConv2D\u001B[0m)              │ (\u001B[38;5;45mNone\u001B[0m, \u001B[38;5;34m222\u001B[0m, \u001B[38;5;34m222\u001B[0m, \u001B[38;5;34m16\u001B[0m)   │           \u001B[38;5;34m448\u001B[0m │\n",
       "├─────────────────────────────────┼────────────────────────┼───────────────┤\n",
       "│ max_pooling2d_16 (\u001B[38;5;33mMaxPooling2D\u001B[0m) │ (\u001B[38;5;45mNone\u001B[0m, \u001B[38;5;34m111\u001B[0m, \u001B[38;5;34m111\u001B[0m, \u001B[38;5;34m16\u001B[0m)   │             \u001B[38;5;34m0\u001B[0m │\n",
       "├─────────────────────────────────┼────────────────────────┼───────────────┤\n",
       "│ conv2d_25 (\u001B[38;5;33mConv2D\u001B[0m)              │ (\u001B[38;5;45mNone\u001B[0m, \u001B[38;5;34m109\u001B[0m, \u001B[38;5;34m109\u001B[0m, \u001B[38;5;34m32\u001B[0m)   │         \u001B[38;5;34m4,640\u001B[0m │\n",
       "├─────────────────────────────────┼────────────────────────┼───────────────┤\n",
       "│ max_pooling2d_17 (\u001B[38;5;33mMaxPooling2D\u001B[0m) │ (\u001B[38;5;45mNone\u001B[0m, \u001B[38;5;34m54\u001B[0m, \u001B[38;5;34m54\u001B[0m, \u001B[38;5;34m32\u001B[0m)     │             \u001B[38;5;34m0\u001B[0m │\n",
       "├─────────────────────────────────┼────────────────────────┼───────────────┤\n",
       "│ conv2d_26 (\u001B[38;5;33mConv2D\u001B[0m)              │ (\u001B[38;5;45mNone\u001B[0m, \u001B[38;5;34m52\u001B[0m, \u001B[38;5;34m52\u001B[0m, \u001B[38;5;34m64\u001B[0m)     │        \u001B[38;5;34m18,496\u001B[0m │\n",
       "├─────────────────────────────────┼────────────────────────┼───────────────┤\n",
       "│ global_average_pooling2d_8      │ (\u001B[38;5;45mNone\u001B[0m, \u001B[38;5;34m64\u001B[0m)             │             \u001B[38;5;34m0\u001B[0m │\n",
       "│ (\u001B[38;5;33mGlobalAveragePooling2D\u001B[0m)        │                        │               │\n",
       "├─────────────────────────────────┼────────────────────────┼───────────────┤\n",
       "│ dense_16 (\u001B[38;5;33mDense\u001B[0m)                │ (\u001B[38;5;45mNone\u001B[0m, \u001B[38;5;34m64\u001B[0m)             │         \u001B[38;5;34m4,160\u001B[0m │\n",
       "├─────────────────────────────────┼────────────────────────┼───────────────┤\n",
       "│ dense_17 (\u001B[38;5;33mDense\u001B[0m)                │ (\u001B[38;5;45mNone\u001B[0m, \u001B[38;5;34m1\u001B[0m)              │            \u001B[38;5;34m65\u001B[0m │\n",
       "└─────────────────────────────────┴────────────────────────┴───────────────┘\n"
      ],
      "text/html": [
       "<pre style=\"white-space:pre;overflow-x:auto;line-height:normal;font-family:Menlo,'DejaVu Sans Mono',consolas,'Courier New',monospace\">┏━━━━━━━━━━━━━━━━━━━━━━━━━━━━━━━━━┳━━━━━━━━━━━━━━━━━━━━━━━━┳━━━━━━━━━━━━━━━┓\n",
       "┃<span style=\"font-weight: bold\"> Layer (type)                    </span>┃<span style=\"font-weight: bold\"> Output Shape           </span>┃<span style=\"font-weight: bold\">       Param # </span>┃\n",
       "┡━━━━━━━━━━━━━━━━━━━━━━━━━━━━━━━━━╇━━━━━━━━━━━━━━━━━━━━━━━━╇━━━━━━━━━━━━━━━┩\n",
       "│ conv2d_24 (<span style=\"color: #0087ff; text-decoration-color: #0087ff\">Conv2D</span>)              │ (<span style=\"color: #00d7ff; text-decoration-color: #00d7ff\">None</span>, <span style=\"color: #00af00; text-decoration-color: #00af00\">222</span>, <span style=\"color: #00af00; text-decoration-color: #00af00\">222</span>, <span style=\"color: #00af00; text-decoration-color: #00af00\">16</span>)   │           <span style=\"color: #00af00; text-decoration-color: #00af00\">448</span> │\n",
       "├─────────────────────────────────┼────────────────────────┼───────────────┤\n",
       "│ max_pooling2d_16 (<span style=\"color: #0087ff; text-decoration-color: #0087ff\">MaxPooling2D</span>) │ (<span style=\"color: #00d7ff; text-decoration-color: #00d7ff\">None</span>, <span style=\"color: #00af00; text-decoration-color: #00af00\">111</span>, <span style=\"color: #00af00; text-decoration-color: #00af00\">111</span>, <span style=\"color: #00af00; text-decoration-color: #00af00\">16</span>)   │             <span style=\"color: #00af00; text-decoration-color: #00af00\">0</span> │\n",
       "├─────────────────────────────────┼────────────────────────┼───────────────┤\n",
       "│ conv2d_25 (<span style=\"color: #0087ff; text-decoration-color: #0087ff\">Conv2D</span>)              │ (<span style=\"color: #00d7ff; text-decoration-color: #00d7ff\">None</span>, <span style=\"color: #00af00; text-decoration-color: #00af00\">109</span>, <span style=\"color: #00af00; text-decoration-color: #00af00\">109</span>, <span style=\"color: #00af00; text-decoration-color: #00af00\">32</span>)   │         <span style=\"color: #00af00; text-decoration-color: #00af00\">4,640</span> │\n",
       "├─────────────────────────────────┼────────────────────────┼───────────────┤\n",
       "│ max_pooling2d_17 (<span style=\"color: #0087ff; text-decoration-color: #0087ff\">MaxPooling2D</span>) │ (<span style=\"color: #00d7ff; text-decoration-color: #00d7ff\">None</span>, <span style=\"color: #00af00; text-decoration-color: #00af00\">54</span>, <span style=\"color: #00af00; text-decoration-color: #00af00\">54</span>, <span style=\"color: #00af00; text-decoration-color: #00af00\">32</span>)     │             <span style=\"color: #00af00; text-decoration-color: #00af00\">0</span> │\n",
       "├─────────────────────────────────┼────────────────────────┼───────────────┤\n",
       "│ conv2d_26 (<span style=\"color: #0087ff; text-decoration-color: #0087ff\">Conv2D</span>)              │ (<span style=\"color: #00d7ff; text-decoration-color: #00d7ff\">None</span>, <span style=\"color: #00af00; text-decoration-color: #00af00\">52</span>, <span style=\"color: #00af00; text-decoration-color: #00af00\">52</span>, <span style=\"color: #00af00; text-decoration-color: #00af00\">64</span>)     │        <span style=\"color: #00af00; text-decoration-color: #00af00\">18,496</span> │\n",
       "├─────────────────────────────────┼────────────────────────┼───────────────┤\n",
       "│ global_average_pooling2d_8      │ (<span style=\"color: #00d7ff; text-decoration-color: #00d7ff\">None</span>, <span style=\"color: #00af00; text-decoration-color: #00af00\">64</span>)             │             <span style=\"color: #00af00; text-decoration-color: #00af00\">0</span> │\n",
       "│ (<span style=\"color: #0087ff; text-decoration-color: #0087ff\">GlobalAveragePooling2D</span>)        │                        │               │\n",
       "├─────────────────────────────────┼────────────────────────┼───────────────┤\n",
       "│ dense_16 (<span style=\"color: #0087ff; text-decoration-color: #0087ff\">Dense</span>)                │ (<span style=\"color: #00d7ff; text-decoration-color: #00d7ff\">None</span>, <span style=\"color: #00af00; text-decoration-color: #00af00\">64</span>)             │         <span style=\"color: #00af00; text-decoration-color: #00af00\">4,160</span> │\n",
       "├─────────────────────────────────┼────────────────────────┼───────────────┤\n",
       "│ dense_17 (<span style=\"color: #0087ff; text-decoration-color: #0087ff\">Dense</span>)                │ (<span style=\"color: #00d7ff; text-decoration-color: #00d7ff\">None</span>, <span style=\"color: #00af00; text-decoration-color: #00af00\">1</span>)              │            <span style=\"color: #00af00; text-decoration-color: #00af00\">65</span> │\n",
       "└─────────────────────────────────┴────────────────────────┴───────────────┘\n",
       "</pre>\n"
      ]
     },
     "metadata": {},
     "output_type": "display_data",
     "jetTransient": {
      "display_id": null
     }
    },
    {
     "data": {
      "text/plain": [
       "\u001B[1m Total params: \u001B[0m\u001B[38;5;34m27,809\u001B[0m (108.63 KB)\n"
      ],
      "text/html": [
       "<pre style=\"white-space:pre;overflow-x:auto;line-height:normal;font-family:Menlo,'DejaVu Sans Mono',consolas,'Courier New',monospace\"><span style=\"font-weight: bold\"> Total params: </span><span style=\"color: #00af00; text-decoration-color: #00af00\">27,809</span> (108.63 KB)\n",
       "</pre>\n"
      ]
     },
     "metadata": {},
     "output_type": "display_data",
     "jetTransient": {
      "display_id": null
     }
    },
    {
     "data": {
      "text/plain": [
       "\u001B[1m Trainable params: \u001B[0m\u001B[38;5;34m27,809\u001B[0m (108.63 KB)\n"
      ],
      "text/html": [
       "<pre style=\"white-space:pre;overflow-x:auto;line-height:normal;font-family:Menlo,'DejaVu Sans Mono',consolas,'Courier New',monospace\"><span style=\"font-weight: bold\"> Trainable params: </span><span style=\"color: #00af00; text-decoration-color: #00af00\">27,809</span> (108.63 KB)\n",
       "</pre>\n"
      ]
     },
     "metadata": {},
     "output_type": "display_data",
     "jetTransient": {
      "display_id": null
     }
    },
    {
     "data": {
      "text/plain": [
       "\u001B[1m Non-trainable params: \u001B[0m\u001B[38;5;34m0\u001B[0m (0.00 B)\n"
      ],
      "text/html": [
       "<pre style=\"white-space:pre;overflow-x:auto;line-height:normal;font-family:Menlo,'DejaVu Sans Mono',consolas,'Courier New',monospace\"><span style=\"font-weight: bold\"> Non-trainable params: </span><span style=\"color: #00af00; text-decoration-color: #00af00\">0</span> (0.00 B)\n",
       "</pre>\n"
      ]
     },
     "metadata": {},
     "output_type": "display_data",
     "jetTransient": {
      "display_id": null
     }
    },
    {
     "name": "stdout",
     "output_type": "stream",
     "text": [
      "Epoch 1/30\n",
      "\u001B[1m4/4\u001B[0m \u001B[32m━━━━━━━━━━━━━━━━━━━━\u001B[0m\u001B[37m\u001B[0m \u001B[1m3s\u001B[0m 419ms/step - loss: 68.8057 - mae: 68.8057 - val_loss: 64.0611 - val_mae: 64.0611\n",
      "Epoch 2/30\n",
      "\u001B[1m4/4\u001B[0m \u001B[32m━━━━━━━━━━━━━━━━━━━━\u001B[0m\u001B[37m\u001B[0m \u001B[1m0s\u001B[0m 25ms/step - loss: 67.9234 - mae: 67.9234 - val_loss: 62.6355 - val_mae: 62.6355\n",
      "Epoch 3/30\n",
      "\u001B[1m4/4\u001B[0m \u001B[32m━━━━━━━━━━━━━━━━━━━━\u001B[0m\u001B[37m\u001B[0m \u001B[1m0s\u001B[0m 26ms/step - loss: 65.9992 - mae: 65.9992 - val_loss: 59.4643 - val_mae: 59.4643\n",
      "Epoch 4/30\n",
      "\u001B[1m4/4\u001B[0m \u001B[32m━━━━━━━━━━━━━━━━━━━━\u001B[0m\u001B[37m\u001B[0m \u001B[1m0s\u001B[0m 25ms/step - loss: 61.7711 - mae: 61.7711 - val_loss: 52.6407 - val_mae: 52.6407\n",
      "Epoch 5/30\n",
      "\u001B[1m4/4\u001B[0m \u001B[32m━━━━━━━━━━━━━━━━━━━━\u001B[0m\u001B[37m\u001B[0m \u001B[1m0s\u001B[0m 25ms/step - loss: 52.9296 - mae: 52.9296 - val_loss: 39.0372 - val_mae: 39.0372\n",
      "Epoch 6/30\n",
      "\u001B[1m4/4\u001B[0m \u001B[32m━━━━━━━━━━━━━━━━━━━━\u001B[0m\u001B[37m\u001B[0m \u001B[1m0s\u001B[0m 25ms/step - loss: 35.8701 - mae: 35.8701 - val_loss: 17.6673 - val_mae: 17.6673\n",
      "Epoch 7/30\n",
      "\u001B[1m4/4\u001B[0m \u001B[32m━━━━━━━━━━━━━━━━━━━━\u001B[0m\u001B[37m\u001B[0m \u001B[1m0s\u001B[0m 24ms/step - loss: 19.3024 - mae: 19.3024 - val_loss: 25.0755 - val_mae: 25.0755\n",
      "Epoch 8/30\n",
      "\u001B[1m4/4\u001B[0m \u001B[32m━━━━━━━━━━━━━━━━━━━━\u001B[0m\u001B[37m\u001B[0m \u001B[1m0s\u001B[0m 25ms/step - loss: 24.3033 - mae: 24.3033 - val_loss: 26.8543 - val_mae: 26.8543\n",
      "Epoch 9/30\n",
      "\u001B[1m4/4\u001B[0m \u001B[32m━━━━━━━━━━━━━━━━━━━━\u001B[0m\u001B[37m\u001B[0m \u001B[1m0s\u001B[0m 24ms/step - loss: 22.1167 - mae: 22.1167 - val_loss: 21.2712 - val_mae: 21.2712\n",
      "Epoch 10/30\n",
      "\u001B[1m4/4\u001B[0m \u001B[32m━━━━━━━━━━━━━━━━━━━━\u001B[0m\u001B[37m\u001B[0m \u001B[1m0s\u001B[0m 25ms/step - loss: 18.5357 - mae: 18.5357 - val_loss: 18.1230 - val_mae: 18.1230\n",
      "Epoch 11/30\n",
      "\u001B[1m4/4\u001B[0m \u001B[32m━━━━━━━━━━━━━━━━━━━━\u001B[0m\u001B[37m\u001B[0m \u001B[1m0s\u001B[0m 26ms/step - loss: 19.8126 - mae: 19.8126 - val_loss: 17.6925 - val_mae: 17.6925\n",
      "\u001B[1m1/1\u001B[0m \u001B[32m━━━━━━━━━━━━━━━━━━━━\u001B[0m\u001B[37m\u001B[0m \u001B[1m0s\u001B[0m 265ms/step\n",
      "CNN: MAE=17.667, R2=-0.433\n"
     ]
    },
    {
     "data": {
      "text/plain": [
       "<Figure size 640x480 with 1 Axes>"
      ],
      "image/png": "[encoded data removed]"
     },
     "metadata": {},
     "output_type": "display_data",
     "jetTransient": {
      "display_id": null
     }
    }
   ],
   "execution_count": 66
  },
  {
   "cell_type": "markdown",
   "metadata": {},
   "source": [
    "## 5) Save predictions (optional)"
   ],
   "id": "7e0f39405ae7fcab"
  },
  {
   "cell_type": "code",
   "metadata": {
    "ExecuteTime": {
     "end_time": "2025-09-15T13:22:04.904591Z",
     "start_time": "2025-09-15T13:22:04.902070Z"
    }
   },
   "source": [
    "# # Example for saving predictions from the GBR feature-based model\n",
    "# if 'GBR' in locals():\n",
    "#     full_pred = None\n",
    "#     try:\n",
    "#         full_pred = models['GBR'].predict(df_feat[use_cols].values)\n",
    "#     except:\n",
    "#         pass\n",
    "#     if full_pred is not None:\n",
    "#         out = df_feat.copy()\n",
    "#         out['pred_volume_ml_gbr'] = full_pred\n",
    "#         OUT_CSV = '/mnt/data/volume_predictions.csv'\n",
    "#         out.to_csv(OUT_CSV, index=False)\n",
    "#         print('Saved:', OUT_CSV)"
   ],
   "id": "ae08d009224489f7",
   "outputs": [],
   "execution_count": 67
  },
  {
   "metadata": {
    "ExecuteTime": {
     "end_time": "2025-09-15T13:22:04.957915Z",
     "start_time": "2025-09-15T13:22:04.948026Z"
    }
   },
   "cell_type": "code",
   "source": [
    "from sklearn.model_selection import KFold\n",
    "from sklearn.metrics import mean_absolute_error, mean_squared_error, r2_score\n",
    "from sklearn.linear_model import Ridge\n",
    "\n",
    "X = train_df[use_cols].values\n",
    "y = train_df['volumes_(ml)'].values\n",
    "\n",
    "kf = KFold(n_splits=5, shuffle=True, random_state=42)\n",
    "maes, rmses, r2s = [], [], []\n",
    "\n",
    "for tr, va in kf.split(X):\n",
    "    model = Ridge(alpha=1.0)  # ลอง 0.1, 1, 10 แล้ว���ลือกที่ดีที่สุด\n",
    "    model.fit(X[tr], y[tr])\n",
    "    p = model.predict(X[va])\n",
    "    maes.append(mean_absolute_error(y[va], p))\n",
    "    # rmses.append(mean_squared_error(y[va], p, squared=False))\n",
    "    r2s.append(r2_score(y[va], p))\n",
    "\n",
    "print(f\"Ridge 5-fold: MAE={np.mean(maes):.3f}±{np.std(maes):.3f}, \"\n",
    "      f\"R2={np.mean(r2s):.3f}±{np.std(r2s):.3f}\")\n"
   ],
   "id": "367c2253e8933d9a",
   "outputs": [
    {
     "name": "stdout",
     "output_type": "stream",
     "text": [
      "Ridge 5-fold: MAE=19.584±2.870, R2=-0.144±0.093\n"
     ]
    }
   ],
   "execution_count": 68
  }
 ],
 "metadata": {
  "kernelspec": {
   "display_name": "Python 3",
   "language": "python",
   "name": "python3"
  },
  "language_info": {
   "name": "python",
   "version": "3.10"
  },
  "authors": [
   {
    "name": "ChatGPT"
   }
  ],
  "created": "2025-09-15T12:52:35.899177Z"
 },
 "nbformat": 4,
 "nbformat_minor": 5
}
