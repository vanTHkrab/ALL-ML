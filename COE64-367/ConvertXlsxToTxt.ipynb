{
 "cells": [
  {
   "metadata": {
    "ExecuteTime": {
     "end_time": "2025-08-31T10:09:55.570113Z",
     "start_time": "2025-08-31T10:09:55.566483Z"
    }
   },
   "cell_type": "code",
   "source": [
    "import pandas as pd\n",
    "import os"
   ],
   "id": "d05e625e02005d5a",
   "outputs": [],
   "execution_count": 2
  },
  {
   "metadata": {
    "ExecuteTime": {
     "end_time": "2025-08-31T10:11:47.334787Z",
     "start_time": "2025-08-31T10:11:47.305833Z"
    }
   },
   "cell_type": "code",
   "source": [
    "df = pd.read_csv(\"./data/mangosteen.csv\")\n",
    "df.head()"
   ],
   "id": "ad26a5227e74e6be",
   "outputs": [
    {
     "data": {
      "text/plain": [
       "   ID  Weight (g)  มิลิลิต  ปริมาตร   ลักษณะ  น้ำช่วงแรก:  400\n",
       "0   1        86.6      500      100      ยาง          NaN  NaN\n",
       "1   2        53.7      450       50  ชุ่มฉ่ำ          NaN  NaN\n",
       "2   3        85.7      500      100  ชุ่มฉ่ำ          NaN  NaN\n",
       "3   4        62.8      470       70  ชุ่มฉ่ำ          NaN  NaN\n",
       "4   5        45.1      450       50     แก้ว          NaN  NaN"
      ],
      "text/html": [
       "<div>\n",
       "<style scoped>\n",
       "    .dataframe tbody tr th:only-of-type {\n",
       "        vertical-align: middle;\n",
       "    }\n",
       "\n",
       "    .dataframe tbody tr th {\n",
       "        vertical-align: top;\n",
       "    }\n",
       "\n",
       "    .dataframe thead th {\n",
       "        text-align: right;\n",
       "    }\n",
       "</style>\n",
       "<table border=\"1\" class=\"dataframe\">\n",
       "  <thead>\n",
       "    <tr style=\"text-align: right;\">\n",
       "      <th></th>\n",
       "      <th>ID</th>\n",
       "      <th>Weight (g)</th>\n",
       "      <th>มิลิลิต</th>\n",
       "      <th>ปริมาตร</th>\n",
       "      <th>ลักษณะ</th>\n",
       "      <th>น้ำช่วงแรก:</th>\n",
       "      <th>400</th>\n",
       "    </tr>\n",
       "  </thead>\n",
       "  <tbody>\n",
       "    <tr>\n",
       "      <th>0</th>\n",
       "      <td>1</td>\n",
       "      <td>86.6</td>\n",
       "      <td>500</td>\n",
       "      <td>100</td>\n",
       "      <td>ยาง</td>\n",
       "      <td>NaN</td>\n",
       "      <td>NaN</td>\n",
       "    </tr>\n",
       "    <tr>\n",
       "      <th>1</th>\n",
       "      <td>2</td>\n",
       "      <td>53.7</td>\n",
       "      <td>450</td>\n",
       "      <td>50</td>\n",
       "      <td>ชุ่มฉ่ำ</td>\n",
       "      <td>NaN</td>\n",
       "      <td>NaN</td>\n",
       "    </tr>\n",
       "    <tr>\n",
       "      <th>2</th>\n",
       "      <td>3</td>\n",
       "      <td>85.7</td>\n",
       "      <td>500</td>\n",
       "      <td>100</td>\n",
       "      <td>ชุ่มฉ่ำ</td>\n",
       "      <td>NaN</td>\n",
       "      <td>NaN</td>\n",
       "    </tr>\n",
       "    <tr>\n",
       "      <th>3</th>\n",
       "      <td>4</td>\n",
       "      <td>62.8</td>\n",
       "      <td>470</td>\n",
       "      <td>70</td>\n",
       "      <td>ชุ่มฉ่ำ</td>\n",
       "      <td>NaN</td>\n",
       "      <td>NaN</td>\n",
       "    </tr>\n",
       "    <tr>\n",
       "      <th>4</th>\n",
       "      <td>5</td>\n",
       "      <td>45.1</td>\n",
       "      <td>450</td>\n",
       "      <td>50</td>\n",
       "      <td>แก้ว</td>\n",
       "      <td>NaN</td>\n",
       "      <td>NaN</td>\n",
       "    </tr>\n",
       "  </tbody>\n",
       "</table>\n",
       "</div>"
      ]
     },
     "execution_count": 7,
     "metadata": {},
     "output_type": "execute_result"
    }
   ],
   "execution_count": 7
  },
  {
   "metadata": {
    "ExecuteTime": {
     "end_time": "2025-08-31T10:11:51.169364Z",
     "start_time": "2025-08-31T10:11:51.152852Z"
    }
   },
   "cell_type": "code",
   "source": [
    "output_dir = \"./data/prepared\"\n",
    "os.makedirs(output_dir, exist_ok=True)\n",
    "\n",
    "for i, val in enumerate(df[\"ปริมาตร\"], start=1):\n",
    "    filename = f\"i{i:03d}_mangosteen_grid.txt\"\n",
    "    filepath = os.path.join(output_dir, filename)\n",
    "    with open(filepath, \"w\", encoding=\"utf-8\") as f:\n",
    "        f.write(str(val))\n",
    "    print(f\"✅ Saved {filepath}\")\n"
   ],
   "id": "1d9ffeec9e92d1a8",
   "outputs": [
    {
     "name": "stdout",
     "output_type": "stream",
     "text": [
      "✅ Saved ./data/prepared/i001_mangosteen_grid.txt\n",
      "✅ Saved ./data/prepared/i002_mangosteen_grid.txt\n",
      "✅ Saved ./data/prepared/i003_mangosteen_grid.txt\n",
      "✅ Saved ./data/prepared/i004_mangosteen_grid.txt\n",
      "✅ Saved ./data/prepared/i005_mangosteen_grid.txt\n",
      "✅ Saved ./data/prepared/i006_mangosteen_grid.txt\n",
      "✅ Saved ./data/prepared/i007_mangosteen_grid.txt\n",
      "✅ Saved ./data/prepared/i008_mangosteen_grid.txt\n",
      "✅ Saved ./data/prepared/i009_mangosteen_grid.txt\n",
      "✅ Saved ./data/prepared/i010_mangosteen_grid.txt\n",
      "✅ Saved ./data/prepared/i011_mangosteen_grid.txt\n",
      "✅ Saved ./data/prepared/i012_mangosteen_grid.txt\n",
      "✅ Saved ./data/prepared/i013_mangosteen_grid.txt\n",
      "✅ Saved ./data/prepared/i014_mangosteen_grid.txt\n",
      "✅ Saved ./data/prepared/i015_mangosteen_grid.txt\n",
      "✅ Saved ./data/prepared/i016_mangosteen_grid.txt\n",
      "✅ Saved ./data/prepared/i017_mangosteen_grid.txt\n",
      "✅ Saved ./data/prepared/i018_mangosteen_grid.txt\n",
      "✅ Saved ./data/prepared/i019_mangosteen_grid.txt\n",
      "✅ Saved ./data/prepared/i020_mangosteen_grid.txt\n",
      "✅ Saved ./data/prepared/i021_mangosteen_grid.txt\n",
      "✅ Saved ./data/prepared/i022_mangosteen_grid.txt\n",
      "✅ Saved ./data/prepared/i023_mangosteen_grid.txt\n",
      "✅ Saved ./data/prepared/i024_mangosteen_grid.txt\n",
      "✅ Saved ./data/prepared/i025_mangosteen_grid.txt\n",
      "✅ Saved ./data/prepared/i026_mangosteen_grid.txt\n",
      "✅ Saved ./data/prepared/i027_mangosteen_grid.txt\n",
      "✅ Saved ./data/prepared/i028_mangosteen_grid.txt\n",
      "✅ Saved ./data/prepared/i029_mangosteen_grid.txt\n",
      "✅ Saved ./data/prepared/i030_mangosteen_grid.txt\n",
      "✅ Saved ./data/prepared/i031_mangosteen_grid.txt\n",
      "✅ Saved ./data/prepared/i032_mangosteen_grid.txt\n",
      "✅ Saved ./data/prepared/i033_mangosteen_grid.txt\n",
      "✅ Saved ./data/prepared/i034_mangosteen_grid.txt\n",
      "✅ Saved ./data/prepared/i035_mangosteen_grid.txt\n",
      "✅ Saved ./data/prepared/i036_mangosteen_grid.txt\n",
      "✅ Saved ./data/prepared/i037_mangosteen_grid.txt\n",
      "✅ Saved ./data/prepared/i038_mangosteen_grid.txt\n",
      "✅ Saved ./data/prepared/i039_mangosteen_grid.txt\n",
      "✅ Saved ./data/prepared/i040_mangosteen_grid.txt\n",
      "✅ Saved ./data/prepared/i041_mangosteen_grid.txt\n",
      "✅ Saved ./data/prepared/i042_mangosteen_grid.txt\n",
      "✅ Saved ./data/prepared/i043_mangosteen_grid.txt\n",
      "✅ Saved ./data/prepared/i044_mangosteen_grid.txt\n",
      "✅ Saved ./data/prepared/i045_mangosteen_grid.txt\n",
      "✅ Saved ./data/prepared/i046_mangosteen_grid.txt\n",
      "✅ Saved ./data/prepared/i047_mangosteen_grid.txt\n",
      "✅ Saved ./data/prepared/i048_mangosteen_grid.txt\n",
      "✅ Saved ./data/prepared/i049_mangosteen_grid.txt\n",
      "✅ Saved ./data/prepared/i050_mangosteen_grid.txt\n",
      "✅ Saved ./data/prepared/i051_mangosteen_grid.txt\n",
      "✅ Saved ./data/prepared/i052_mangosteen_grid.txt\n",
      "✅ Saved ./data/prepared/i053_mangosteen_grid.txt\n",
      "✅ Saved ./data/prepared/i054_mangosteen_grid.txt\n",
      "✅ Saved ./data/prepared/i055_mangosteen_grid.txt\n",
      "✅ Saved ./data/prepared/i056_mangosteen_grid.txt\n",
      "✅ Saved ./data/prepared/i057_mangosteen_grid.txt\n",
      "✅ Saved ./data/prepared/i058_mangosteen_grid.txt\n",
      "✅ Saved ./data/prepared/i059_mangosteen_grid.txt\n",
      "✅ Saved ./data/prepared/i060_mangosteen_grid.txt\n",
      "✅ Saved ./data/prepared/i061_mangosteen_grid.txt\n",
      "✅ Saved ./data/prepared/i062_mangosteen_grid.txt\n",
      "✅ Saved ./data/prepared/i063_mangosteen_grid.txt\n",
      "✅ Saved ./data/prepared/i064_mangosteen_grid.txt\n",
      "✅ Saved ./data/prepared/i065_mangosteen_grid.txt\n",
      "✅ Saved ./data/prepared/i066_mangosteen_grid.txt\n",
      "✅ Saved ./data/prepared/i067_mangosteen_grid.txt\n",
      "✅ Saved ./data/prepared/i068_mangosteen_grid.txt\n",
      "✅ Saved ./data/prepared/i069_mangosteen_grid.txt\n",
      "✅ Saved ./data/prepared/i070_mangosteen_grid.txt\n",
      "✅ Saved ./data/prepared/i071_mangosteen_grid.txt\n",
      "✅ Saved ./data/prepared/i072_mangosteen_grid.txt\n",
      "✅ Saved ./data/prepared/i073_mangosteen_grid.txt\n",
      "✅ Saved ./data/prepared/i074_mangosteen_grid.txt\n",
      "✅ Saved ./data/prepared/i075_mangosteen_grid.txt\n"
     ]
    }
   ],
   "execution_count": 8
  }
 ],
 "metadata": {
  "kernelspec": {
   "display_name": "Python 3",
   "language": "python",
   "name": "python3"
  },
  "language_info": {
   "codemirror_mode": {
    "name": "ipython",
    "version": 2
   },
   "file_extension": ".py",
   "mimetype": "text/x-python",
   "name": "python",
   "nbconvert_exporter": "python",
   "pygments_lexer": "ipython2",
   "version": "2.7.6"
  }
 },
 "nbformat": 4,
 "nbformat_minor": 5
}
