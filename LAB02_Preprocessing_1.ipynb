{
 "cells": [
  {
   "cell_type": "markdown",
   "id": "c4f1a54c-52b5-4826-a42e-be650dfca3a7",
   "metadata": {
    "id": "c4f1a54c-52b5-4826-a42e-be650dfca3a7"
   },
   "source": [
    "### Python Crash Course\n",
    "1. https://www.youtube.com/watch?v=kqtD5dpn9C8\n",
    "2. https://www.youtube.com/watch?v=VchuKL44s6E"
   ]
  },
  {
   "cell_type": "code",
   "source": [
    "# from google.colab import drive\n",
    "# drive.mount('/content/drive')"
   ],
   "metadata": {
    "id": "MbQpRS9Kw1HG",
    "ExecuteTime": {
     "end_time": "2025-06-27T09:52:37.983045Z",
     "start_time": "2025-06-27T09:52:37.979369Z"
    }
   },
   "id": "MbQpRS9Kw1HG",
   "outputs": [],
   "execution_count": 204
  },
  {
   "cell_type": "markdown",
   "id": "c5c860bef11a54a1",
   "metadata": {
    "collapsed": false,
    "jupyter": {
     "outputs_hidden": false
    },
    "id": "c5c860bef11a54a1"
   },
   "source": [
    "Series can be created from Python dict, arrays, or scalar values (like 1, 2, 3, etc.).\n",
    "To create a series, we can use the .Series() function."
   ]
  },
  {
   "cell_type": "code",
   "id": "021310ae-972b-45b2-8618-cbb81b7c6bca",
   "metadata": {
    "id": "021310ae-972b-45b2-8618-cbb81b7c6bca",
    "ExecuteTime": {
     "end_time": "2025-06-27T09:52:38.040383Z",
     "start_time": "2025-06-27T09:52:38.037457Z"
    }
   },
   "source": [
    "# %pip install pandas\n",
    "# %pip install numpy\n",
    "# %pip install seaborn\n",
    "# %pip install matplotlib"
   ],
   "outputs": [],
   "execution_count": 205
  },
  {
   "cell_type": "code",
   "id": "0571f2ce-947e-474b-b68a-1a7d3a18ab08",
   "metadata": {
    "id": "0571f2ce-947e-474b-b68a-1a7d3a18ab08",
    "ExecuteTime": {
     "end_time": "2025-06-27T09:52:38.108143Z",
     "start_time": "2025-06-27T09:52:38.104142Z"
    }
   },
   "source": [
    "import pandas as pd\n",
    "import numpy as np\n",
    "import seaborn as sns\n",
    "import matplotlib.pyplot as plt"
   ],
   "outputs": [],
   "execution_count": 206
  },
  {
   "cell_type": "code",
   "id": "3c337adb-facd-4f94-acef-a940dc52aa02",
   "metadata": {
    "id": "3c337adb-facd-4f94-acef-a940dc52aa02",
    "ExecuteTime": {
     "end_time": "2025-06-27T09:52:38.202475Z",
     "start_time": "2025-06-27T09:52:38.197513Z"
    }
   },
   "source": [
    "np.random.rand(4)"
   ],
   "outputs": [
    {
     "data": {
      "text/plain": [
       "array([0.52341258, 0.75040986, 0.66901324, 0.46775286])"
      ]
     },
     "execution_count": 207,
     "metadata": {},
     "output_type": "execute_result"
    }
   ],
   "execution_count": 207
  },
  {
   "cell_type": "code",
   "id": "ff34891e-587e-45f2-86a0-9a05c18399f6",
   "metadata": {
    "id": "ff34891e-587e-45f2-86a0-9a05c18399f6",
    "ExecuteTime": {
     "end_time": "2025-06-27T09:52:38.367358Z",
     "start_time": "2025-06-27T09:52:38.364115Z"
    }
   },
   "source": [
    "data = {'first_column': np.random.rand(4), 'col2':['a','b',None,'d']}"
   ],
   "outputs": [],
   "execution_count": 208
  },
  {
   "cell_type": "code",
   "id": "93be73cb-4bb4-4085-a5f0-e39039b621e6",
   "metadata": {
    "id": "93be73cb-4bb4-4085-a5f0-e39039b621e6",
    "ExecuteTime": {
     "end_time": "2025-06-27T09:52:38.485061Z",
     "start_time": "2025-06-27T09:52:38.479935Z"
    }
   },
   "source": [
    "data"
   ],
   "outputs": [
    {
     "data": {
      "text/plain": [
       "{'first_column': array([0.20484909, 0.49076589, 0.37238469, 0.47740115]),\n",
       " 'col2': ['a', 'b', None, 'd']}"
      ]
     },
     "execution_count": 209,
     "metadata": {},
     "output_type": "execute_result"
    }
   ],
   "execution_count": 209
  },
  {
   "cell_type": "code",
   "id": "9544b925-7411-4142-b78d-475bf3e956ba",
   "metadata": {
    "id": "9544b925-7411-4142-b78d-475bf3e956ba",
    "ExecuteTime": {
     "end_time": "2025-06-27T09:52:38.702377Z",
     "start_time": "2025-06-27T09:52:38.692763Z"
    }
   },
   "source": [
    "df = pd.DataFrame(data)\n",
    "df"
   ],
   "outputs": [
    {
     "data": {
      "text/plain": [
       "   first_column  col2\n",
       "0      0.204849     a\n",
       "1      0.490766     b\n",
       "2      0.372385  None\n",
       "3      0.477401     d"
      ],
      "text/html": [
       "<div>\n",
       "<style scoped>\n",
       "    .dataframe tbody tr th:only-of-type {\n",
       "        vertical-align: middle;\n",
       "    }\n",
       "\n",
       "    .dataframe tbody tr th {\n",
       "        vertical-align: top;\n",
       "    }\n",
       "\n",
       "    .dataframe thead th {\n",
       "        text-align: right;\n",
       "    }\n",
       "</style>\n",
       "<table border=\"1\" class=\"dataframe\">\n",
       "  <thead>\n",
       "    <tr style=\"text-align: right;\">\n",
       "      <th></th>\n",
       "      <th>first_column</th>\n",
       "      <th>col2</th>\n",
       "    </tr>\n",
       "  </thead>\n",
       "  <tbody>\n",
       "    <tr>\n",
       "      <th>0</th>\n",
       "      <td>0.204849</td>\n",
       "      <td>a</td>\n",
       "    </tr>\n",
       "    <tr>\n",
       "      <th>1</th>\n",
       "      <td>0.490766</td>\n",
       "      <td>b</td>\n",
       "    </tr>\n",
       "    <tr>\n",
       "      <th>2</th>\n",
       "      <td>0.372385</td>\n",
       "      <td>None</td>\n",
       "    </tr>\n",
       "    <tr>\n",
       "      <th>3</th>\n",
       "      <td>0.477401</td>\n",
       "      <td>d</td>\n",
       "    </tr>\n",
       "  </tbody>\n",
       "</table>\n",
       "</div>"
      ]
     },
     "execution_count": 210,
     "metadata": {},
     "output_type": "execute_result"
    }
   ],
   "execution_count": 210
  },
  {
   "cell_type": "code",
   "id": "7dd4837c-a21f-4e4e-8209-5fc96e2ccb32",
   "metadata": {
    "id": "7dd4837c-a21f-4e4e-8209-5fc96e2ccb32",
    "ExecuteTime": {
     "end_time": "2025-06-27T09:52:38.925758Z",
     "start_time": "2025-06-27T09:52:38.911250Z"
    }
   },
   "source": [
    "df.describe(include='all')"
   ],
   "outputs": [
    {
     "data": {
      "text/plain": [
       "        first_column col2\n",
       "count       4.000000    3\n",
       "unique           NaN    3\n",
       "top              NaN    a\n",
       "freq             NaN    1\n",
       "mean        0.386350  NaN\n",
       "std         0.132074  NaN\n",
       "min         0.204849  NaN\n",
       "25%         0.330501  NaN\n",
       "50%         0.424893  NaN\n",
       "75%         0.480742  NaN\n",
       "max         0.490766  NaN"
      ],
      "text/html": [
       "<div>\n",
       "<style scoped>\n",
       "    .dataframe tbody tr th:only-of-type {\n",
       "        vertical-align: middle;\n",
       "    }\n",
       "\n",
       "    .dataframe tbody tr th {\n",
       "        vertical-align: top;\n",
       "    }\n",
       "\n",
       "    .dataframe thead th {\n",
       "        text-align: right;\n",
       "    }\n",
       "</style>\n",
       "<table border=\"1\" class=\"dataframe\">\n",
       "  <thead>\n",
       "    <tr style=\"text-align: right;\">\n",
       "      <th></th>\n",
       "      <th>first_column</th>\n",
       "      <th>col2</th>\n",
       "    </tr>\n",
       "  </thead>\n",
       "  <tbody>\n",
       "    <tr>\n",
       "      <th>count</th>\n",
       "      <td>4.000000</td>\n",
       "      <td>3</td>\n",
       "    </tr>\n",
       "    <tr>\n",
       "      <th>unique</th>\n",
       "      <td>NaN</td>\n",
       "      <td>3</td>\n",
       "    </tr>\n",
       "    <tr>\n",
       "      <th>top</th>\n",
       "      <td>NaN</td>\n",
       "      <td>a</td>\n",
       "    </tr>\n",
       "    <tr>\n",
       "      <th>freq</th>\n",
       "      <td>NaN</td>\n",
       "      <td>1</td>\n",
       "    </tr>\n",
       "    <tr>\n",
       "      <th>mean</th>\n",
       "      <td>0.386350</td>\n",
       "      <td>NaN</td>\n",
       "    </tr>\n",
       "    <tr>\n",
       "      <th>std</th>\n",
       "      <td>0.132074</td>\n",
       "      <td>NaN</td>\n",
       "    </tr>\n",
       "    <tr>\n",
       "      <th>min</th>\n",
       "      <td>0.204849</td>\n",
       "      <td>NaN</td>\n",
       "    </tr>\n",
       "    <tr>\n",
       "      <th>25%</th>\n",
       "      <td>0.330501</td>\n",
       "      <td>NaN</td>\n",
       "    </tr>\n",
       "    <tr>\n",
       "      <th>50%</th>\n",
       "      <td>0.424893</td>\n",
       "      <td>NaN</td>\n",
       "    </tr>\n",
       "    <tr>\n",
       "      <th>75%</th>\n",
       "      <td>0.480742</td>\n",
       "      <td>NaN</td>\n",
       "    </tr>\n",
       "    <tr>\n",
       "      <th>max</th>\n",
       "      <td>0.490766</td>\n",
       "      <td>NaN</td>\n",
       "    </tr>\n",
       "  </tbody>\n",
       "</table>\n",
       "</div>"
      ]
     },
     "execution_count": 211,
     "metadata": {},
     "output_type": "execute_result"
    }
   ],
   "execution_count": 211
  },
  {
   "cell_type": "code",
   "id": "72cf18c8-e88c-4517-b795-4eb1ce1e5de7",
   "metadata": {
    "id": "72cf18c8-e88c-4517-b795-4eb1ce1e5de7",
    "ExecuteTime": {
     "end_time": "2025-06-27T09:52:39.285607Z",
     "start_time": "2025-06-27T09:52:39.279743Z"
    }
   },
   "source": [
    "df.count()"
   ],
   "outputs": [
    {
     "data": {
      "text/plain": [
       "first_column    4\n",
       "col2            3\n",
       "dtype: int64"
      ]
     },
     "execution_count": 212,
     "metadata": {},
     "output_type": "execute_result"
    }
   ],
   "execution_count": 212
  },
  {
   "cell_type": "code",
   "id": "10af10bd-3da8-4ce3-9a01-0297032c0e26",
   "metadata": {
    "id": "10af10bd-3da8-4ce3-9a01-0297032c0e26",
    "ExecuteTime": {
     "end_time": "2025-06-27T09:52:39.830593Z",
     "start_time": "2025-06-27T09:52:39.826539Z"
    }
   },
   "source": [
    "len(df)"
   ],
   "outputs": [
    {
     "data": {
      "text/plain": [
       "4"
      ]
     },
     "execution_count": 213,
     "metadata": {},
     "output_type": "execute_result"
    }
   ],
   "execution_count": 213
  },
  {
   "cell_type": "markdown",
   "id": "26426daf87171721",
   "metadata": {
    "collapsed": false,
    "jupyter": {
     "outputs_hidden": false
    },
    "id": "26426daf87171721"
   },
   "source": [
    "DataFrame can be created from a Python dictionary, list, 2D array, object series, etc. Create using the .DataFrame() function."
   ]
  },
  {
   "cell_type": "code",
   "id": "01fc7a13-1df7-4eca-bd4e-7440b998e4ca",
   "metadata": {
    "id": "01fc7a13-1df7-4eca-bd4e-7440b998e4ca",
    "ExecuteTime": {
     "end_time": "2025-06-27T09:52:40.225887Z",
     "start_time": "2025-06-27T09:52:40.218914Z"
    }
   },
   "source": [
    "# creating from a dictionary\n",
    "dictionary = {\"Name\": [\"Takashi\", \"Jason\", \"Nakamura\", \"Olivia\"], \"Grade\": [100, 90, None, 80]}\n",
    "df2 = pd.DataFrame(dictionary)\n",
    "df2"
   ],
   "outputs": [
    {
     "data": {
      "text/plain": [
       "       Name  Grade\n",
       "0   Takashi  100.0\n",
       "1     Jason   90.0\n",
       "2  Nakamura    NaN\n",
       "3    Olivia   80.0"
      ],
      "text/html": [
       "<div>\n",
       "<style scoped>\n",
       "    .dataframe tbody tr th:only-of-type {\n",
       "        vertical-align: middle;\n",
       "    }\n",
       "\n",
       "    .dataframe tbody tr th {\n",
       "        vertical-align: top;\n",
       "    }\n",
       "\n",
       "    .dataframe thead th {\n",
       "        text-align: right;\n",
       "    }\n",
       "</style>\n",
       "<table border=\"1\" class=\"dataframe\">\n",
       "  <thead>\n",
       "    <tr style=\"text-align: right;\">\n",
       "      <th></th>\n",
       "      <th>Name</th>\n",
       "      <th>Grade</th>\n",
       "    </tr>\n",
       "  </thead>\n",
       "  <tbody>\n",
       "    <tr>\n",
       "      <th>0</th>\n",
       "      <td>Takashi</td>\n",
       "      <td>100.0</td>\n",
       "    </tr>\n",
       "    <tr>\n",
       "      <th>1</th>\n",
       "      <td>Jason</td>\n",
       "      <td>90.0</td>\n",
       "    </tr>\n",
       "    <tr>\n",
       "      <th>2</th>\n",
       "      <td>Nakamura</td>\n",
       "      <td>NaN</td>\n",
       "    </tr>\n",
       "    <tr>\n",
       "      <th>3</th>\n",
       "      <td>Olivia</td>\n",
       "      <td>80.0</td>\n",
       "    </tr>\n",
       "  </tbody>\n",
       "</table>\n",
       "</div>"
      ]
     },
     "execution_count": 214,
     "metadata": {},
     "output_type": "execute_result"
    }
   ],
   "execution_count": 214
  },
  {
   "cell_type": "code",
   "id": "e7e86290-ad1a-410d-bc71-cd3cfebaf54d",
   "metadata": {
    "id": "e7e86290-ad1a-410d-bc71-cd3cfebaf54d",
    "ExecuteTime": {
     "end_time": "2025-06-27T09:52:40.548672Z",
     "start_time": "2025-06-27T09:52:40.544241Z"
    }
   },
   "source": [
    "type(pd.DataFrame())"
   ],
   "outputs": [
    {
     "data": {
      "text/plain": [
       "pandas.core.frame.DataFrame"
      ]
     },
     "execution_count": 215,
     "metadata": {},
     "output_type": "execute_result"
    }
   ],
   "execution_count": 215
  },
  {
   "cell_type": "code",
   "id": "2a64df27254e0e30",
   "metadata": {
    "jupyter": {
     "outputs_hidden": false
    },
    "id": "2a64df27254e0e30",
    "ExecuteTime": {
     "end_time": "2025-06-27T09:52:41.007659Z",
     "start_time": "2025-06-27T09:52:41.001704Z"
    }
   },
   "source": [
    "# creating an empty DataFrame object and then add columns and rows\n",
    "df1 = pd.DataFrame()\n",
    "df1"
   ],
   "outputs": [
    {
     "data": {
      "text/plain": [
       "Empty DataFrame\n",
       "Columns: []\n",
       "Index: []"
      ],
      "text/html": [
       "<div>\n",
       "<style scoped>\n",
       "    .dataframe tbody tr th:only-of-type {\n",
       "        vertical-align: middle;\n",
       "    }\n",
       "\n",
       "    .dataframe tbody tr th {\n",
       "        vertical-align: top;\n",
       "    }\n",
       "\n",
       "    .dataframe thead th {\n",
       "        text-align: right;\n",
       "    }\n",
       "</style>\n",
       "<table border=\"1\" class=\"dataframe\">\n",
       "  <thead>\n",
       "    <tr style=\"text-align: right;\">\n",
       "      <th></th>\n",
       "    </tr>\n",
       "  </thead>\n",
       "  <tbody>\n",
       "  </tbody>\n",
       "</table>\n",
       "</div>"
      ]
     },
     "execution_count": 216,
     "metadata": {},
     "output_type": "execute_result"
    }
   ],
   "execution_count": 216
  },
  {
   "cell_type": "code",
   "id": "9bc6aea0-dbef-4107-bc6e-44df777dc357",
   "metadata": {
    "id": "9bc6aea0-dbef-4107-bc6e-44df777dc357",
    "ExecuteTime": {
     "end_time": "2025-06-27T09:52:41.270980Z",
     "start_time": "2025-06-27T09:52:41.266387Z"
    }
   },
   "source": [
    "df1[\"Name\"] = [\"Takashi\", \"Jason\", \"Nakamura\", \"Olivia\"]\n",
    "df1[\"Grade\"] = [100, 90, 70, 80]\n",
    "df1['another_col'] = [1,2,3,4]"
   ],
   "outputs": [],
   "execution_count": 217
  },
  {
   "cell_type": "code",
   "id": "5f874132-2e0e-4470-ad60-7c537d833a7d",
   "metadata": {
    "id": "5f874132-2e0e-4470-ad60-7c537d833a7d",
    "ExecuteTime": {
     "end_time": "2025-06-27T09:52:41.595137Z",
     "start_time": "2025-06-27T09:52:41.585899Z"
    }
   },
   "source": [
    "df1"
   ],
   "outputs": [
    {
     "data": {
      "text/plain": [
       "       Name  Grade  another_col\n",
       "0   Takashi    100            1\n",
       "1     Jason     90            2\n",
       "2  Nakamura     70            3\n",
       "3    Olivia     80            4"
      ],
      "text/html": [
       "<div>\n",
       "<style scoped>\n",
       "    .dataframe tbody tr th:only-of-type {\n",
       "        vertical-align: middle;\n",
       "    }\n",
       "\n",
       "    .dataframe tbody tr th {\n",
       "        vertical-align: top;\n",
       "    }\n",
       "\n",
       "    .dataframe thead th {\n",
       "        text-align: right;\n",
       "    }\n",
       "</style>\n",
       "<table border=\"1\" class=\"dataframe\">\n",
       "  <thead>\n",
       "    <tr style=\"text-align: right;\">\n",
       "      <th></th>\n",
       "      <th>Name</th>\n",
       "      <th>Grade</th>\n",
       "      <th>another_col</th>\n",
       "    </tr>\n",
       "  </thead>\n",
       "  <tbody>\n",
       "    <tr>\n",
       "      <th>0</th>\n",
       "      <td>Takashi</td>\n",
       "      <td>100</td>\n",
       "      <td>1</td>\n",
       "    </tr>\n",
       "    <tr>\n",
       "      <th>1</th>\n",
       "      <td>Jason</td>\n",
       "      <td>90</td>\n",
       "      <td>2</td>\n",
       "    </tr>\n",
       "    <tr>\n",
       "      <th>2</th>\n",
       "      <td>Nakamura</td>\n",
       "      <td>70</td>\n",
       "      <td>3</td>\n",
       "    </tr>\n",
       "    <tr>\n",
       "      <th>3</th>\n",
       "      <td>Olivia</td>\n",
       "      <td>80</td>\n",
       "      <td>4</td>\n",
       "    </tr>\n",
       "  </tbody>\n",
       "</table>\n",
       "</div>"
      ]
     },
     "execution_count": 218,
     "metadata": {},
     "output_type": "execute_result"
    }
   ],
   "execution_count": 218
  },
  {
   "cell_type": "code",
   "id": "e23690c7-fd24-4332-ac2f-02c451fca64e",
   "metadata": {
    "id": "e23690c7-fd24-4332-ac2f-02c451fca64e",
    "ExecuteTime": {
     "end_time": "2025-06-27T09:52:41.886063Z",
     "start_time": "2025-06-27T09:52:41.876159Z"
    }
   },
   "source": [
    "df1"
   ],
   "outputs": [
    {
     "data": {
      "text/plain": [
       "       Name  Grade  another_col\n",
       "0   Takashi    100            1\n",
       "1     Jason     90            2\n",
       "2  Nakamura     70            3\n",
       "3    Olivia     80            4"
      ],
      "text/html": [
       "<div>\n",
       "<style scoped>\n",
       "    .dataframe tbody tr th:only-of-type {\n",
       "        vertical-align: middle;\n",
       "    }\n",
       "\n",
       "    .dataframe tbody tr th {\n",
       "        vertical-align: top;\n",
       "    }\n",
       "\n",
       "    .dataframe thead th {\n",
       "        text-align: right;\n",
       "    }\n",
       "</style>\n",
       "<table border=\"1\" class=\"dataframe\">\n",
       "  <thead>\n",
       "    <tr style=\"text-align: right;\">\n",
       "      <th></th>\n",
       "      <th>Name</th>\n",
       "      <th>Grade</th>\n",
       "      <th>another_col</th>\n",
       "    </tr>\n",
       "  </thead>\n",
       "  <tbody>\n",
       "    <tr>\n",
       "      <th>0</th>\n",
       "      <td>Takashi</td>\n",
       "      <td>100</td>\n",
       "      <td>1</td>\n",
       "    </tr>\n",
       "    <tr>\n",
       "      <th>1</th>\n",
       "      <td>Jason</td>\n",
       "      <td>90</td>\n",
       "      <td>2</td>\n",
       "    </tr>\n",
       "    <tr>\n",
       "      <th>2</th>\n",
       "      <td>Nakamura</td>\n",
       "      <td>70</td>\n",
       "      <td>3</td>\n",
       "    </tr>\n",
       "    <tr>\n",
       "      <th>3</th>\n",
       "      <td>Olivia</td>\n",
       "      <td>80</td>\n",
       "      <td>4</td>\n",
       "    </tr>\n",
       "  </tbody>\n",
       "</table>\n",
       "</div>"
      ]
     },
     "execution_count": 219,
     "metadata": {},
     "output_type": "execute_result"
    }
   ],
   "execution_count": 219
  },
  {
   "cell_type": "code",
   "id": "6b7e1034-d6e5-4b68-8d5d-03b65ad9370a",
   "metadata": {
    "id": "6b7e1034-d6e5-4b68-8d5d-03b65ad9370a",
    "ExecuteTime": {
     "end_time": "2025-06-27T09:52:42.228908Z",
     "start_time": "2025-06-27T09:52:42.222045Z"
    }
   },
   "source": [
    "df1.drop([0,1], inplace=True)\n",
    "df1"
   ],
   "outputs": [
    {
     "data": {
      "text/plain": [
       "       Name  Grade  another_col\n",
       "2  Nakamura     70            3\n",
       "3    Olivia     80            4"
      ],
      "text/html": [
       "<div>\n",
       "<style scoped>\n",
       "    .dataframe tbody tr th:only-of-type {\n",
       "        vertical-align: middle;\n",
       "    }\n",
       "\n",
       "    .dataframe tbody tr th {\n",
       "        vertical-align: top;\n",
       "    }\n",
       "\n",
       "    .dataframe thead th {\n",
       "        text-align: right;\n",
       "    }\n",
       "</style>\n",
       "<table border=\"1\" class=\"dataframe\">\n",
       "  <thead>\n",
       "    <tr style=\"text-align: right;\">\n",
       "      <th></th>\n",
       "      <th>Name</th>\n",
       "      <th>Grade</th>\n",
       "      <th>another_col</th>\n",
       "    </tr>\n",
       "  </thead>\n",
       "  <tbody>\n",
       "    <tr>\n",
       "      <th>2</th>\n",
       "      <td>Nakamura</td>\n",
       "      <td>70</td>\n",
       "      <td>3</td>\n",
       "    </tr>\n",
       "    <tr>\n",
       "      <th>3</th>\n",
       "      <td>Olivia</td>\n",
       "      <td>80</td>\n",
       "      <td>4</td>\n",
       "    </tr>\n",
       "  </tbody>\n",
       "</table>\n",
       "</div>"
      ]
     },
     "execution_count": 220,
     "metadata": {},
     "output_type": "execute_result"
    }
   ],
   "execution_count": 220
  },
  {
   "cell_type": "code",
   "id": "6d59d74c-ec21-44e8-b5ea-d6aeb028f1f1",
   "metadata": {
    "id": "6d59d74c-ec21-44e8-b5ea-d6aeb028f1f1",
    "ExecuteTime": {
     "end_time": "2025-06-27T09:52:42.768849Z",
     "start_time": "2025-06-27T09:52:42.759366Z"
    }
   },
   "source": [
    "df1"
   ],
   "outputs": [
    {
     "data": {
      "text/plain": [
       "       Name  Grade  another_col\n",
       "2  Nakamura     70            3\n",
       "3    Olivia     80            4"
      ],
      "text/html": [
       "<div>\n",
       "<style scoped>\n",
       "    .dataframe tbody tr th:only-of-type {\n",
       "        vertical-align: middle;\n",
       "    }\n",
       "\n",
       "    .dataframe tbody tr th {\n",
       "        vertical-align: top;\n",
       "    }\n",
       "\n",
       "    .dataframe thead th {\n",
       "        text-align: right;\n",
       "    }\n",
       "</style>\n",
       "<table border=\"1\" class=\"dataframe\">\n",
       "  <thead>\n",
       "    <tr style=\"text-align: right;\">\n",
       "      <th></th>\n",
       "      <th>Name</th>\n",
       "      <th>Grade</th>\n",
       "      <th>another_col</th>\n",
       "    </tr>\n",
       "  </thead>\n",
       "  <tbody>\n",
       "    <tr>\n",
       "      <th>2</th>\n",
       "      <td>Nakamura</td>\n",
       "      <td>70</td>\n",
       "      <td>3</td>\n",
       "    </tr>\n",
       "    <tr>\n",
       "      <th>3</th>\n",
       "      <td>Olivia</td>\n",
       "      <td>80</td>\n",
       "      <td>4</td>\n",
       "    </tr>\n",
       "  </tbody>\n",
       "</table>\n",
       "</div>"
      ]
     },
     "execution_count": 221,
     "metadata": {},
     "output_type": "execute_result"
    }
   ],
   "execution_count": 221
  },
  {
   "cell_type": "code",
   "id": "d8dfbdbb-48f5-4ee5-8733-5724857089de",
   "metadata": {
    "id": "d8dfbdbb-48f5-4ee5-8733-5724857089de",
    "ExecuteTime": {
     "end_time": "2025-06-27T09:52:43.264698Z",
     "start_time": "2025-06-27T09:52:43.261642Z"
    }
   },
   "source": [],
   "outputs": [],
   "execution_count": null
  },
  {
   "cell_type": "code",
   "id": "20eab103-498b-40a7-9c32-f2d0a2df71d1",
   "metadata": {
    "id": "20eab103-498b-40a7-9c32-f2d0a2df71d1",
    "ExecuteTime": {
     "end_time": "2025-06-27T09:52:43.698087Z",
     "start_time": "2025-06-27T09:52:43.686832Z"
    }
   },
   "source": [
    "# creating from a list, in which we then specify the column names\n",
    "a = [90, 100, 95]\n",
    "b = [81, 89, 85]\n",
    "c = [75, 70, 77]\n",
    "df3 = pd.DataFrame([a,b,c], columns=['A', 'B', 'C'])\n",
    "df3"
   ],
   "outputs": [
    {
     "data": {
      "text/plain": [
       "    A    B   C\n",
       "0  90  100  95\n",
       "1  81   89  85\n",
       "2  75   70  77"
      ],
      "text/html": [
       "<div>\n",
       "<style scoped>\n",
       "    .dataframe tbody tr th:only-of-type {\n",
       "        vertical-align: middle;\n",
       "    }\n",
       "\n",
       "    .dataframe tbody tr th {\n",
       "        vertical-align: top;\n",
       "    }\n",
       "\n",
       "    .dataframe thead th {\n",
       "        text-align: right;\n",
       "    }\n",
       "</style>\n",
       "<table border=\"1\" class=\"dataframe\">\n",
       "  <thead>\n",
       "    <tr style=\"text-align: right;\">\n",
       "      <th></th>\n",
       "      <th>A</th>\n",
       "      <th>B</th>\n",
       "      <th>C</th>\n",
       "    </tr>\n",
       "  </thead>\n",
       "  <tbody>\n",
       "    <tr>\n",
       "      <th>0</th>\n",
       "      <td>90</td>\n",
       "      <td>100</td>\n",
       "      <td>95</td>\n",
       "    </tr>\n",
       "    <tr>\n",
       "      <th>1</th>\n",
       "      <td>81</td>\n",
       "      <td>89</td>\n",
       "      <td>85</td>\n",
       "    </tr>\n",
       "    <tr>\n",
       "      <th>2</th>\n",
       "      <td>75</td>\n",
       "      <td>70</td>\n",
       "      <td>77</td>\n",
       "    </tr>\n",
       "  </tbody>\n",
       "</table>\n",
       "</div>"
      ]
     },
     "execution_count": 222,
     "metadata": {},
     "output_type": "execute_result"
    }
   ],
   "execution_count": 222
  },
  {
   "cell_type": "code",
   "id": "42d38cf0-5dd9-41f1-b0a8-8a0f666d603b",
   "metadata": {
    "id": "42d38cf0-5dd9-41f1-b0a8-8a0f666d603b",
    "ExecuteTime": {
     "end_time": "2025-06-27T09:52:43.989907Z",
     "start_time": "2025-06-27T09:52:43.986720Z"
    }
   },
   "source": [],
   "outputs": [],
   "execution_count": null
  },
  {
   "cell_type": "code",
   "id": "f90e586603d68c29",
   "metadata": {
    "jupyter": {
     "outputs_hidden": false
    },
    "id": "f90e586603d68c29",
    "ExecuteTime": {
     "end_time": "2025-06-27T09:52:44.351839Z",
     "start_time": "2025-06-27T09:52:44.345840Z"
    }
   },
   "source": [
    "# creating series\n",
    "s1 = pd.Series([\"apple\", \"banana\", \"lemon\", \"mango\"])\n",
    "\n",
    "# creating series from a dict\n",
    "s2 = pd.Series({\"A\": 1, \"B\": 2, \"C\": 3, \"D\": 4})\n",
    "\n",
    "# .Series() has index and name parameters that we can customize as needed.\n",
    "s3 = pd.Series([1, 2, 3, 4, 5], index=[\"A\", \"B\", \"C\", \"D\", \"E\"], name=\"simple series\")\n",
    "\n",
    "print(s1)\n",
    "print(s2)\n",
    "print(s3)"
   ],
   "outputs": [
    {
     "name": "stdout",
     "output_type": "stream",
     "text": [
      "0     apple\n",
      "1    banana\n",
      "2     lemon\n",
      "3     mango\n",
      "dtype: object\n",
      "A    1\n",
      "B    2\n",
      "C    3\n",
      "D    4\n",
      "dtype: int64\n",
      "A    1\n",
      "B    2\n",
      "C    3\n",
      "D    4\n",
      "E    5\n",
      "Name: simple series, dtype: int64\n"
     ]
    }
   ],
   "execution_count": 223
  },
  {
   "cell_type": "code",
   "id": "9a0d1795-a204-4c75-a9e5-c554d3fb9282",
   "metadata": {
    "id": "9a0d1795-a204-4c75-a9e5-c554d3fb9282",
    "ExecuteTime": {
     "end_time": "2025-06-27T09:52:44.642059Z",
     "start_time": "2025-06-27T09:52:44.637753Z"
    }
   },
   "source": [
    "np.random.rand(5)"
   ],
   "outputs": [
    {
     "data": {
      "text/plain": [
       "array([0.36589039, 0.83791799, 0.76864751, 0.31399468, 0.57262533])"
      ]
     },
     "execution_count": 224,
     "metadata": {},
     "output_type": "execute_result"
    }
   ],
   "execution_count": 224
  },
  {
   "cell_type": "code",
   "id": "b1e0f46f-0ed1-4874-9419-85c0419df4eb",
   "metadata": {
    "id": "b1e0f46f-0ed1-4874-9419-85c0419df4eb",
    "ExecuteTime": {
     "end_time": "2025-06-27T09:52:44.832474Z",
     "start_time": "2025-06-27T09:52:44.829473Z"
    }
   },
   "source": [],
   "outputs": [],
   "execution_count": null
  },
  {
   "cell_type": "markdown",
   "id": "adc87c5e-bb58-4fb3-b5a8-cfce2aac0719",
   "metadata": {
    "id": "adc87c5e-bb58-4fb3-b5a8-cfce2aac0719"
   },
   "source": [
    "## Reading data from a CSV file"
   ]
  },
  {
   "cell_type": "code",
   "id": "584ef9ea-2268-4f29-8c61-e9c92c143b36",
   "metadata": {
    "id": "584ef9ea-2268-4f29-8c61-e9c92c143b36",
    "ExecuteTime": {
     "end_time": "2025-06-27T09:52:44.940551Z",
     "start_time": "2025-06-27T09:52:44.934734Z"
    }
   },
   "source": [
    "iris = pd.read_csv('iris.csv')"
   ],
   "outputs": [],
   "execution_count": 225
  },
  {
   "cell_type": "code",
   "id": "57113a24-f454-429c-9443-10bd6ccf0673",
   "metadata": {
    "id": "57113a24-f454-429c-9443-10bd6ccf0673",
    "ExecuteTime": {
     "end_time": "2025-06-27T09:52:45.019980Z",
     "start_time": "2025-06-27T09:52:45.011016Z"
    }
   },
   "source": [
    "iris.head()"
   ],
   "outputs": [
    {
     "data": {
      "text/plain": [
       "   Id  SepalLengthCm  SepalWidthCm  PetalLengthCm  PetalWidthCm      Species\n",
       "0   1            5.1           3.5            1.4           0.2  Iris-setosa\n",
       "1   2            4.9           3.0            1.4           0.2  Iris-setosa\n",
       "2   3            4.7           3.2            1.3           0.2  Iris-setosa\n",
       "3   4            4.6           3.1            1.5           0.2  Iris-setosa\n",
       "4   5            5.0           3.6            1.4           0.2  Iris-setosa"
      ],
      "text/html": [
       "<div>\n",
       "<style scoped>\n",
       "    .dataframe tbody tr th:only-of-type {\n",
       "        vertical-align: middle;\n",
       "    }\n",
       "\n",
       "    .dataframe tbody tr th {\n",
       "        vertical-align: top;\n",
       "    }\n",
       "\n",
       "    .dataframe thead th {\n",
       "        text-align: right;\n",
       "    }\n",
       "</style>\n",
       "<table border=\"1\" class=\"dataframe\">\n",
       "  <thead>\n",
       "    <tr style=\"text-align: right;\">\n",
       "      <th></th>\n",
       "      <th>Id</th>\n",
       "      <th>SepalLengthCm</th>\n",
       "      <th>SepalWidthCm</th>\n",
       "      <th>PetalLengthCm</th>\n",
       "      <th>PetalWidthCm</th>\n",
       "      <th>Species</th>\n",
       "    </tr>\n",
       "  </thead>\n",
       "  <tbody>\n",
       "    <tr>\n",
       "      <th>0</th>\n",
       "      <td>1</td>\n",
       "      <td>5.1</td>\n",
       "      <td>3.5</td>\n",
       "      <td>1.4</td>\n",
       "      <td>0.2</td>\n",
       "      <td>Iris-setosa</td>\n",
       "    </tr>\n",
       "    <tr>\n",
       "      <th>1</th>\n",
       "      <td>2</td>\n",
       "      <td>4.9</td>\n",
       "      <td>3.0</td>\n",
       "      <td>1.4</td>\n",
       "      <td>0.2</td>\n",
       "      <td>Iris-setosa</td>\n",
       "    </tr>\n",
       "    <tr>\n",
       "      <th>2</th>\n",
       "      <td>3</td>\n",
       "      <td>4.7</td>\n",
       "      <td>3.2</td>\n",
       "      <td>1.3</td>\n",
       "      <td>0.2</td>\n",
       "      <td>Iris-setosa</td>\n",
       "    </tr>\n",
       "    <tr>\n",
       "      <th>3</th>\n",
       "      <td>4</td>\n",
       "      <td>4.6</td>\n",
       "      <td>3.1</td>\n",
       "      <td>1.5</td>\n",
       "      <td>0.2</td>\n",
       "      <td>Iris-setosa</td>\n",
       "    </tr>\n",
       "    <tr>\n",
       "      <th>4</th>\n",
       "      <td>5</td>\n",
       "      <td>5.0</td>\n",
       "      <td>3.6</td>\n",
       "      <td>1.4</td>\n",
       "      <td>0.2</td>\n",
       "      <td>Iris-setosa</td>\n",
       "    </tr>\n",
       "  </tbody>\n",
       "</table>\n",
       "</div>"
      ]
     },
     "execution_count": 226,
     "metadata": {},
     "output_type": "execute_result"
    }
   ],
   "execution_count": 226
  },
  {
   "cell_type": "code",
   "id": "1c309588-d441-466a-91ec-db2a5299f7b8",
   "metadata": {
    "id": "1c309588-d441-466a-91ec-db2a5299f7b8",
    "ExecuteTime": {
     "end_time": "2025-06-27T09:52:45.178185Z",
     "start_time": "2025-06-27T09:52:45.172596Z"
    }
   },
   "source": [
    "len(iris)"
   ],
   "outputs": [
    {
     "data": {
      "text/plain": [
       "150"
      ]
     },
     "execution_count": 227,
     "metadata": {},
     "output_type": "execute_result"
    }
   ],
   "execution_count": 227
  },
  {
   "cell_type": "code",
   "id": "2db23f46-8ffc-4f79-a0a8-ce1acd5df8b9",
   "metadata": {
    "id": "2db23f46-8ffc-4f79-a0a8-ce1acd5df8b9",
    "ExecuteTime": {
     "end_time": "2025-06-27T09:52:45.447842Z",
     "start_time": "2025-06-27T09:52:45.426635Z"
    }
   },
   "source": [
    "iris.describe(include='all')"
   ],
   "outputs": [
    {
     "data": {
      "text/plain": [
       "                Id  SepalLengthCm  SepalWidthCm  PetalLengthCm  PetalWidthCm  \\\n",
       "count   150.000000     150.000000    150.000000     150.000000    150.000000   \n",
       "unique         NaN            NaN           NaN            NaN           NaN   \n",
       "top            NaN            NaN           NaN            NaN           NaN   \n",
       "freq           NaN            NaN           NaN            NaN           NaN   \n",
       "mean     75.500000       5.843333      3.054000       3.758667      1.198667   \n",
       "std      43.445368       0.828066      0.433594       1.764420      0.763161   \n",
       "min       1.000000       4.300000      2.000000       1.000000      0.100000   \n",
       "25%      38.250000       5.100000      2.800000       1.600000      0.300000   \n",
       "50%      75.500000       5.800000      3.000000       4.350000      1.300000   \n",
       "75%     112.750000       6.400000      3.300000       5.100000      1.800000   \n",
       "max     150.000000       7.900000      4.400000       6.900000      2.500000   \n",
       "\n",
       "            Species  \n",
       "count           150  \n",
       "unique            3  \n",
       "top     Iris-setosa  \n",
       "freq             50  \n",
       "mean            NaN  \n",
       "std             NaN  \n",
       "min             NaN  \n",
       "25%             NaN  \n",
       "50%             NaN  \n",
       "75%             NaN  \n",
       "max             NaN  "
      ],
      "text/html": [
       "<div>\n",
       "<style scoped>\n",
       "    .dataframe tbody tr th:only-of-type {\n",
       "        vertical-align: middle;\n",
       "    }\n",
       "\n",
       "    .dataframe tbody tr th {\n",
       "        vertical-align: top;\n",
       "    }\n",
       "\n",
       "    .dataframe thead th {\n",
       "        text-align: right;\n",
       "    }\n",
       "</style>\n",
       "<table border=\"1\" class=\"dataframe\">\n",
       "  <thead>\n",
       "    <tr style=\"text-align: right;\">\n",
       "      <th></th>\n",
       "      <th>Id</th>\n",
       "      <th>SepalLengthCm</th>\n",
       "      <th>SepalWidthCm</th>\n",
       "      <th>PetalLengthCm</th>\n",
       "      <th>PetalWidthCm</th>\n",
       "      <th>Species</th>\n",
       "    </tr>\n",
       "  </thead>\n",
       "  <tbody>\n",
       "    <tr>\n",
       "      <th>count</th>\n",
       "      <td>150.000000</td>\n",
       "      <td>150.000000</td>\n",
       "      <td>150.000000</td>\n",
       "      <td>150.000000</td>\n",
       "      <td>150.000000</td>\n",
       "      <td>150</td>\n",
       "    </tr>\n",
       "    <tr>\n",
       "      <th>unique</th>\n",
       "      <td>NaN</td>\n",
       "      <td>NaN</td>\n",
       "      <td>NaN</td>\n",
       "      <td>NaN</td>\n",
       "      <td>NaN</td>\n",
       "      <td>3</td>\n",
       "    </tr>\n",
       "    <tr>\n",
       "      <th>top</th>\n",
       "      <td>NaN</td>\n",
       "      <td>NaN</td>\n",
       "      <td>NaN</td>\n",
       "      <td>NaN</td>\n",
       "      <td>NaN</td>\n",
       "      <td>Iris-setosa</td>\n",
       "    </tr>\n",
       "    <tr>\n",
       "      <th>freq</th>\n",
       "      <td>NaN</td>\n",
       "      <td>NaN</td>\n",
       "      <td>NaN</td>\n",
       "      <td>NaN</td>\n",
       "      <td>NaN</td>\n",
       "      <td>50</td>\n",
       "    </tr>\n",
       "    <tr>\n",
       "      <th>mean</th>\n",
       "      <td>75.500000</td>\n",
       "      <td>5.843333</td>\n",
       "      <td>3.054000</td>\n",
       "      <td>3.758667</td>\n",
       "      <td>1.198667</td>\n",
       "      <td>NaN</td>\n",
       "    </tr>\n",
       "    <tr>\n",
       "      <th>std</th>\n",
       "      <td>43.445368</td>\n",
       "      <td>0.828066</td>\n",
       "      <td>0.433594</td>\n",
       "      <td>1.764420</td>\n",
       "      <td>0.763161</td>\n",
       "      <td>NaN</td>\n",
       "    </tr>\n",
       "    <tr>\n",
       "      <th>min</th>\n",
       "      <td>1.000000</td>\n",
       "      <td>4.300000</td>\n",
       "      <td>2.000000</td>\n",
       "      <td>1.000000</td>\n",
       "      <td>0.100000</td>\n",
       "      <td>NaN</td>\n",
       "    </tr>\n",
       "    <tr>\n",
       "      <th>25%</th>\n",
       "      <td>38.250000</td>\n",
       "      <td>5.100000</td>\n",
       "      <td>2.800000</td>\n",
       "      <td>1.600000</td>\n",
       "      <td>0.300000</td>\n",
       "      <td>NaN</td>\n",
       "    </tr>\n",
       "    <tr>\n",
       "      <th>50%</th>\n",
       "      <td>75.500000</td>\n",
       "      <td>5.800000</td>\n",
       "      <td>3.000000</td>\n",
       "      <td>4.350000</td>\n",
       "      <td>1.300000</td>\n",
       "      <td>NaN</td>\n",
       "    </tr>\n",
       "    <tr>\n",
       "      <th>75%</th>\n",
       "      <td>112.750000</td>\n",
       "      <td>6.400000</td>\n",
       "      <td>3.300000</td>\n",
       "      <td>5.100000</td>\n",
       "      <td>1.800000</td>\n",
       "      <td>NaN</td>\n",
       "    </tr>\n",
       "    <tr>\n",
       "      <th>max</th>\n",
       "      <td>150.000000</td>\n",
       "      <td>7.900000</td>\n",
       "      <td>4.400000</td>\n",
       "      <td>6.900000</td>\n",
       "      <td>2.500000</td>\n",
       "      <td>NaN</td>\n",
       "    </tr>\n",
       "  </tbody>\n",
       "</table>\n",
       "</div>"
      ]
     },
     "execution_count": 228,
     "metadata": {},
     "output_type": "execute_result"
    }
   ],
   "execution_count": 228
  },
  {
   "cell_type": "code",
   "id": "329afecb-0cfe-4c01-bdc7-eb7c5191013e",
   "metadata": {
    "id": "329afecb-0cfe-4c01-bdc7-eb7c5191013e",
    "ExecuteTime": {
     "end_time": "2025-06-27T09:52:45.669896Z",
     "start_time": "2025-06-27T09:52:45.661840Z"
    }
   },
   "source": [
    "iris[['SepalLengthCm', 'SepalWidthCm']].head(3)\n",
    "# select t.sepal_length, t.sepal_width from table AS t limit 5;"
   ],
   "outputs": [
    {
     "data": {
      "text/plain": [
       "   SepalLengthCm  SepalWidthCm\n",
       "0            5.1           3.5\n",
       "1            4.9           3.0\n",
       "2            4.7           3.2"
      ],
      "text/html": [
       "<div>\n",
       "<style scoped>\n",
       "    .dataframe tbody tr th:only-of-type {\n",
       "        vertical-align: middle;\n",
       "    }\n",
       "\n",
       "    .dataframe tbody tr th {\n",
       "        vertical-align: top;\n",
       "    }\n",
       "\n",
       "    .dataframe thead th {\n",
       "        text-align: right;\n",
       "    }\n",
       "</style>\n",
       "<table border=\"1\" class=\"dataframe\">\n",
       "  <thead>\n",
       "    <tr style=\"text-align: right;\">\n",
       "      <th></th>\n",
       "      <th>SepalLengthCm</th>\n",
       "      <th>SepalWidthCm</th>\n",
       "    </tr>\n",
       "  </thead>\n",
       "  <tbody>\n",
       "    <tr>\n",
       "      <th>0</th>\n",
       "      <td>5.1</td>\n",
       "      <td>3.5</td>\n",
       "    </tr>\n",
       "    <tr>\n",
       "      <th>1</th>\n",
       "      <td>4.9</td>\n",
       "      <td>3.0</td>\n",
       "    </tr>\n",
       "    <tr>\n",
       "      <th>2</th>\n",
       "      <td>4.7</td>\n",
       "      <td>3.2</td>\n",
       "    </tr>\n",
       "  </tbody>\n",
       "</table>\n",
       "</div>"
      ]
     },
     "execution_count": 229,
     "metadata": {},
     "output_type": "execute_result"
    }
   ],
   "execution_count": 229
  },
  {
   "cell_type": "code",
   "id": "f6d05dd3-bab0-4731-a74b-52c2b4839cfa",
   "metadata": {
    "id": "f6d05dd3-bab0-4731-a74b-52c2b4839cfa",
    "ExecuteTime": {
     "end_time": "2025-06-27T09:52:45.926148Z",
     "start_time": "2025-06-27T09:52:45.921049Z"
    }
   },
   "source": "iris['SepalLengthCm']",
   "outputs": [
    {
     "data": {
      "text/plain": [
       "0      5.1\n",
       "1      4.9\n",
       "2      4.7\n",
       "3      4.6\n",
       "4      5.0\n",
       "      ... \n",
       "145    6.7\n",
       "146    6.3\n",
       "147    6.5\n",
       "148    6.2\n",
       "149    5.9\n",
       "Name: SepalLengthCm, Length: 150, dtype: float64"
      ]
     },
     "execution_count": 230,
     "metadata": {},
     "output_type": "execute_result"
    }
   ],
   "execution_count": 230
  },
  {
   "cell_type": "code",
   "id": "2fe8bcbb-7e7d-4bd4-b2ec-5a4e89fffda9",
   "metadata": {
    "id": "2fe8bcbb-7e7d-4bd4-b2ec-5a4e89fffda9",
    "ExecuteTime": {
     "end_time": "2025-06-27T09:52:46.291676Z",
     "start_time": "2025-06-27T09:52:46.286593Z"
    }
   },
   "source": "iris['SepalLengthCm'] > 5",
   "outputs": [
    {
     "data": {
      "text/plain": [
       "0       True\n",
       "1      False\n",
       "2      False\n",
       "3      False\n",
       "4      False\n",
       "       ...  \n",
       "145     True\n",
       "146     True\n",
       "147     True\n",
       "148     True\n",
       "149     True\n",
       "Name: SepalLengthCm, Length: 150, dtype: bool"
      ]
     },
     "execution_count": 231,
     "metadata": {},
     "output_type": "execute_result"
    }
   ],
   "execution_count": 231
  },
  {
   "cell_type": "code",
   "id": "05510185-9135-4f40-a51f-30ce0e4ec03f",
   "metadata": {
    "id": "05510185-9135-4f40-a51f-30ce0e4ec03f",
    "ExecuteTime": {
     "end_time": "2025-06-27T09:52:46.516812Z",
     "start_time": "2025-06-27T09:52:46.508097Z"
    }
   },
   "source": "iris[iris['SepalLengthCm'] > 5] # select * from iris where iris.sepal_length > 5",
   "outputs": [
    {
     "data": {
      "text/plain": [
       "      Id  SepalLengthCm  SepalWidthCm  PetalLengthCm  PetalWidthCm  \\\n",
       "0      1            5.1           3.5            1.4           0.2   \n",
       "5      6            5.4           3.9            1.7           0.4   \n",
       "10    11            5.4           3.7            1.5           0.2   \n",
       "14    15            5.8           4.0            1.2           0.2   \n",
       "15    16            5.7           4.4            1.5           0.4   \n",
       "..   ...            ...           ...            ...           ...   \n",
       "145  146            6.7           3.0            5.2           2.3   \n",
       "146  147            6.3           2.5            5.0           1.9   \n",
       "147  148            6.5           3.0            5.2           2.0   \n",
       "148  149            6.2           3.4            5.4           2.3   \n",
       "149  150            5.9           3.0            5.1           1.8   \n",
       "\n",
       "            Species  \n",
       "0       Iris-setosa  \n",
       "5       Iris-setosa  \n",
       "10      Iris-setosa  \n",
       "14      Iris-setosa  \n",
       "15      Iris-setosa  \n",
       "..              ...  \n",
       "145  Iris-virginica  \n",
       "146  Iris-virginica  \n",
       "147  Iris-virginica  \n",
       "148  Iris-virginica  \n",
       "149  Iris-virginica  \n",
       "\n",
       "[118 rows x 6 columns]"
      ],
      "text/html": [
       "<div>\n",
       "<style scoped>\n",
       "    .dataframe tbody tr th:only-of-type {\n",
       "        vertical-align: middle;\n",
       "    }\n",
       "\n",
       "    .dataframe tbody tr th {\n",
       "        vertical-align: top;\n",
       "    }\n",
       "\n",
       "    .dataframe thead th {\n",
       "        text-align: right;\n",
       "    }\n",
       "</style>\n",
       "<table border=\"1\" class=\"dataframe\">\n",
       "  <thead>\n",
       "    <tr style=\"text-align: right;\">\n",
       "      <th></th>\n",
       "      <th>Id</th>\n",
       "      <th>SepalLengthCm</th>\n",
       "      <th>SepalWidthCm</th>\n",
       "      <th>PetalLengthCm</th>\n",
       "      <th>PetalWidthCm</th>\n",
       "      <th>Species</th>\n",
       "    </tr>\n",
       "  </thead>\n",
       "  <tbody>\n",
       "    <tr>\n",
       "      <th>0</th>\n",
       "      <td>1</td>\n",
       "      <td>5.1</td>\n",
       "      <td>3.5</td>\n",
       "      <td>1.4</td>\n",
       "      <td>0.2</td>\n",
       "      <td>Iris-setosa</td>\n",
       "    </tr>\n",
       "    <tr>\n",
       "      <th>5</th>\n",
       "      <td>6</td>\n",
       "      <td>5.4</td>\n",
       "      <td>3.9</td>\n",
       "      <td>1.7</td>\n",
       "      <td>0.4</td>\n",
       "      <td>Iris-setosa</td>\n",
       "    </tr>\n",
       "    <tr>\n",
       "      <th>10</th>\n",
       "      <td>11</td>\n",
       "      <td>5.4</td>\n",
       "      <td>3.7</td>\n",
       "      <td>1.5</td>\n",
       "      <td>0.2</td>\n",
       "      <td>Iris-setosa</td>\n",
       "    </tr>\n",
       "    <tr>\n",
       "      <th>14</th>\n",
       "      <td>15</td>\n",
       "      <td>5.8</td>\n",
       "      <td>4.0</td>\n",
       "      <td>1.2</td>\n",
       "      <td>0.2</td>\n",
       "      <td>Iris-setosa</td>\n",
       "    </tr>\n",
       "    <tr>\n",
       "      <th>15</th>\n",
       "      <td>16</td>\n",
       "      <td>5.7</td>\n",
       "      <td>4.4</td>\n",
       "      <td>1.5</td>\n",
       "      <td>0.4</td>\n",
       "      <td>Iris-setosa</td>\n",
       "    </tr>\n",
       "    <tr>\n",
       "      <th>...</th>\n",
       "      <td>...</td>\n",
       "      <td>...</td>\n",
       "      <td>...</td>\n",
       "      <td>...</td>\n",
       "      <td>...</td>\n",
       "      <td>...</td>\n",
       "    </tr>\n",
       "    <tr>\n",
       "      <th>145</th>\n",
       "      <td>146</td>\n",
       "      <td>6.7</td>\n",
       "      <td>3.0</td>\n",
       "      <td>5.2</td>\n",
       "      <td>2.3</td>\n",
       "      <td>Iris-virginica</td>\n",
       "    </tr>\n",
       "    <tr>\n",
       "      <th>146</th>\n",
       "      <td>147</td>\n",
       "      <td>6.3</td>\n",
       "      <td>2.5</td>\n",
       "      <td>5.0</td>\n",
       "      <td>1.9</td>\n",
       "      <td>Iris-virginica</td>\n",
       "    </tr>\n",
       "    <tr>\n",
       "      <th>147</th>\n",
       "      <td>148</td>\n",
       "      <td>6.5</td>\n",
       "      <td>3.0</td>\n",
       "      <td>5.2</td>\n",
       "      <td>2.0</td>\n",
       "      <td>Iris-virginica</td>\n",
       "    </tr>\n",
       "    <tr>\n",
       "      <th>148</th>\n",
       "      <td>149</td>\n",
       "      <td>6.2</td>\n",
       "      <td>3.4</td>\n",
       "      <td>5.4</td>\n",
       "      <td>2.3</td>\n",
       "      <td>Iris-virginica</td>\n",
       "    </tr>\n",
       "    <tr>\n",
       "      <th>149</th>\n",
       "      <td>150</td>\n",
       "      <td>5.9</td>\n",
       "      <td>3.0</td>\n",
       "      <td>5.1</td>\n",
       "      <td>1.8</td>\n",
       "      <td>Iris-virginica</td>\n",
       "    </tr>\n",
       "  </tbody>\n",
       "</table>\n",
       "<p>118 rows × 6 columns</p>\n",
       "</div>"
      ]
     },
     "execution_count": 232,
     "metadata": {},
     "output_type": "execute_result"
    }
   ],
   "execution_count": 232
  },
  {
   "cell_type": "code",
   "id": "04dca3bb-9c0a-4848-b997-d7b58ae591a4",
   "metadata": {
    "id": "04dca3bb-9c0a-4848-b997-d7b58ae591a4",
    "ExecuteTime": {
     "end_time": "2025-06-27T09:52:46.711069Z",
     "start_time": "2025-06-27T09:52:46.709314Z"
    }
   },
   "source": [],
   "outputs": [],
   "execution_count": null
  },
  {
   "cell_type": "code",
   "id": "10759a4d-3b4c-45e4-b3db-7bcc028ab465",
   "metadata": {
    "id": "10759a4d-3b4c-45e4-b3db-7bcc028ab465",
    "ExecuteTime": {
     "end_time": "2025-06-27T09:52:46.890755Z",
     "start_time": "2025-06-27T09:52:46.884194Z"
    }
   },
   "source": [
    "df4 = pd.read_csv(\"data/prep-data01.csv\")\n",
    "df4.head()"
   ],
   "outputs": [
    {
     "data": {
      "text/plain": [
       "              Name  Age  Gender                    Major  Marks\n",
       "0         John Doe   25    Male         Computer Science     85\n",
       "1       Jane Smith   22  Female       English Literature     92\n",
       "2  Michael Johnson   31    Male  Business Administration     78\n",
       "3   Emily Williams   19  Female                  Biology     91\n",
       "4      David Brown   27    Male   Mechanical Engineering     83"
      ],
      "text/html": [
       "<div>\n",
       "<style scoped>\n",
       "    .dataframe tbody tr th:only-of-type {\n",
       "        vertical-align: middle;\n",
       "    }\n",
       "\n",
       "    .dataframe tbody tr th {\n",
       "        vertical-align: top;\n",
       "    }\n",
       "\n",
       "    .dataframe thead th {\n",
       "        text-align: right;\n",
       "    }\n",
       "</style>\n",
       "<table border=\"1\" class=\"dataframe\">\n",
       "  <thead>\n",
       "    <tr style=\"text-align: right;\">\n",
       "      <th></th>\n",
       "      <th>Name</th>\n",
       "      <th>Age</th>\n",
       "      <th>Gender</th>\n",
       "      <th>Major</th>\n",
       "      <th>Marks</th>\n",
       "    </tr>\n",
       "  </thead>\n",
       "  <tbody>\n",
       "    <tr>\n",
       "      <th>0</th>\n",
       "      <td>John Doe</td>\n",
       "      <td>25</td>\n",
       "      <td>Male</td>\n",
       "      <td>Computer Science</td>\n",
       "      <td>85</td>\n",
       "    </tr>\n",
       "    <tr>\n",
       "      <th>1</th>\n",
       "      <td>Jane Smith</td>\n",
       "      <td>22</td>\n",
       "      <td>Female</td>\n",
       "      <td>English Literature</td>\n",
       "      <td>92</td>\n",
       "    </tr>\n",
       "    <tr>\n",
       "      <th>2</th>\n",
       "      <td>Michael Johnson</td>\n",
       "      <td>31</td>\n",
       "      <td>Male</td>\n",
       "      <td>Business Administration</td>\n",
       "      <td>78</td>\n",
       "    </tr>\n",
       "    <tr>\n",
       "      <th>3</th>\n",
       "      <td>Emily Williams</td>\n",
       "      <td>19</td>\n",
       "      <td>Female</td>\n",
       "      <td>Biology</td>\n",
       "      <td>91</td>\n",
       "    </tr>\n",
       "    <tr>\n",
       "      <th>4</th>\n",
       "      <td>David Brown</td>\n",
       "      <td>27</td>\n",
       "      <td>Male</td>\n",
       "      <td>Mechanical Engineering</td>\n",
       "      <td>83</td>\n",
       "    </tr>\n",
       "  </tbody>\n",
       "</table>\n",
       "</div>"
      ]
     },
     "execution_count": 233,
     "metadata": {},
     "output_type": "execute_result"
    }
   ],
   "execution_count": 233
  },
  {
   "cell_type": "code",
   "id": "94264049-f3ba-40ea-a921-299a815ea575",
   "metadata": {
    "id": "94264049-f3ba-40ea-a921-299a815ea575",
    "ExecuteTime": {
     "end_time": "2025-06-27T09:52:47.042317Z",
     "start_time": "2025-06-27T09:52:47.035601Z"
    }
   },
   "source": [
    "df4.describe()"
   ],
   "outputs": [
    {
     "data": {
      "text/plain": [
       "            Age      Marks\n",
       "count  39.00000  39.000000\n",
       "mean   22.74359  86.589744\n",
       "std     2.56205   4.660686\n",
       "min    19.00000  78.000000\n",
       "25%    21.00000  83.500000\n",
       "50%    22.00000  87.000000\n",
       "75%    24.00000  90.500000\n",
       "max    31.00000  94.000000"
      ],
      "text/html": [
       "<div>\n",
       "<style scoped>\n",
       "    .dataframe tbody tr th:only-of-type {\n",
       "        vertical-align: middle;\n",
       "    }\n",
       "\n",
       "    .dataframe tbody tr th {\n",
       "        vertical-align: top;\n",
       "    }\n",
       "\n",
       "    .dataframe thead th {\n",
       "        text-align: right;\n",
       "    }\n",
       "</style>\n",
       "<table border=\"1\" class=\"dataframe\">\n",
       "  <thead>\n",
       "    <tr style=\"text-align: right;\">\n",
       "      <th></th>\n",
       "      <th>Age</th>\n",
       "      <th>Marks</th>\n",
       "    </tr>\n",
       "  </thead>\n",
       "  <tbody>\n",
       "    <tr>\n",
       "      <th>count</th>\n",
       "      <td>39.00000</td>\n",
       "      <td>39.000000</td>\n",
       "    </tr>\n",
       "    <tr>\n",
       "      <th>mean</th>\n",
       "      <td>22.74359</td>\n",
       "      <td>86.589744</td>\n",
       "    </tr>\n",
       "    <tr>\n",
       "      <th>std</th>\n",
       "      <td>2.56205</td>\n",
       "      <td>4.660686</td>\n",
       "    </tr>\n",
       "    <tr>\n",
       "      <th>min</th>\n",
       "      <td>19.00000</td>\n",
       "      <td>78.000000</td>\n",
       "    </tr>\n",
       "    <tr>\n",
       "      <th>25%</th>\n",
       "      <td>21.00000</td>\n",
       "      <td>83.500000</td>\n",
       "    </tr>\n",
       "    <tr>\n",
       "      <th>50%</th>\n",
       "      <td>22.00000</td>\n",
       "      <td>87.000000</td>\n",
       "    </tr>\n",
       "    <tr>\n",
       "      <th>75%</th>\n",
       "      <td>24.00000</td>\n",
       "      <td>90.500000</td>\n",
       "    </tr>\n",
       "    <tr>\n",
       "      <th>max</th>\n",
       "      <td>31.00000</td>\n",
       "      <td>94.000000</td>\n",
       "    </tr>\n",
       "  </tbody>\n",
       "</table>\n",
       "</div>"
      ]
     },
     "execution_count": 234,
     "metadata": {},
     "output_type": "execute_result"
    }
   ],
   "execution_count": 234
  },
  {
   "cell_type": "code",
   "id": "9d4c67cc-47b4-4634-a470-d32cbb003bc7",
   "metadata": {
    "id": "9d4c67cc-47b4-4634-a470-d32cbb003bc7",
    "ExecuteTime": {
     "end_time": "2025-06-27T09:52:47.200040Z",
     "start_time": "2025-06-27T09:52:47.189651Z"
    }
   },
   "source": [
    "df4.describe(include=\"all\")"
   ],
   "outputs": [
    {
     "data": {
      "text/plain": [
       "            Name       Age  Gender             Major      Marks\n",
       "count         39  39.00000      39                39  39.000000\n",
       "unique        39       NaN       2                20        NaN\n",
       "top     John Doe       NaN  Female  Computer Science        NaN\n",
       "freq           1       NaN      20                 3        NaN\n",
       "mean         NaN  22.74359     NaN               NaN  86.589744\n",
       "std          NaN   2.56205     NaN               NaN   4.660686\n",
       "min          NaN  19.00000     NaN               NaN  78.000000\n",
       "25%          NaN  21.00000     NaN               NaN  83.500000\n",
       "50%          NaN  22.00000     NaN               NaN  87.000000\n",
       "75%          NaN  24.00000     NaN               NaN  90.500000\n",
       "max          NaN  31.00000     NaN               NaN  94.000000"
      ],
      "text/html": [
       "<div>\n",
       "<style scoped>\n",
       "    .dataframe tbody tr th:only-of-type {\n",
       "        vertical-align: middle;\n",
       "    }\n",
       "\n",
       "    .dataframe tbody tr th {\n",
       "        vertical-align: top;\n",
       "    }\n",
       "\n",
       "    .dataframe thead th {\n",
       "        text-align: right;\n",
       "    }\n",
       "</style>\n",
       "<table border=\"1\" class=\"dataframe\">\n",
       "  <thead>\n",
       "    <tr style=\"text-align: right;\">\n",
       "      <th></th>\n",
       "      <th>Name</th>\n",
       "      <th>Age</th>\n",
       "      <th>Gender</th>\n",
       "      <th>Major</th>\n",
       "      <th>Marks</th>\n",
       "    </tr>\n",
       "  </thead>\n",
       "  <tbody>\n",
       "    <tr>\n",
       "      <th>count</th>\n",
       "      <td>39</td>\n",
       "      <td>39.00000</td>\n",
       "      <td>39</td>\n",
       "      <td>39</td>\n",
       "      <td>39.000000</td>\n",
       "    </tr>\n",
       "    <tr>\n",
       "      <th>unique</th>\n",
       "      <td>39</td>\n",
       "      <td>NaN</td>\n",
       "      <td>2</td>\n",
       "      <td>20</td>\n",
       "      <td>NaN</td>\n",
       "    </tr>\n",
       "    <tr>\n",
       "      <th>top</th>\n",
       "      <td>John Doe</td>\n",
       "      <td>NaN</td>\n",
       "      <td>Female</td>\n",
       "      <td>Computer Science</td>\n",
       "      <td>NaN</td>\n",
       "    </tr>\n",
       "    <tr>\n",
       "      <th>freq</th>\n",
       "      <td>1</td>\n",
       "      <td>NaN</td>\n",
       "      <td>20</td>\n",
       "      <td>3</td>\n",
       "      <td>NaN</td>\n",
       "    </tr>\n",
       "    <tr>\n",
       "      <th>mean</th>\n",
       "      <td>NaN</td>\n",
       "      <td>22.74359</td>\n",
       "      <td>NaN</td>\n",
       "      <td>NaN</td>\n",
       "      <td>86.589744</td>\n",
       "    </tr>\n",
       "    <tr>\n",
       "      <th>std</th>\n",
       "      <td>NaN</td>\n",
       "      <td>2.56205</td>\n",
       "      <td>NaN</td>\n",
       "      <td>NaN</td>\n",
       "      <td>4.660686</td>\n",
       "    </tr>\n",
       "    <tr>\n",
       "      <th>min</th>\n",
       "      <td>NaN</td>\n",
       "      <td>19.00000</td>\n",
       "      <td>NaN</td>\n",
       "      <td>NaN</td>\n",
       "      <td>78.000000</td>\n",
       "    </tr>\n",
       "    <tr>\n",
       "      <th>25%</th>\n",
       "      <td>NaN</td>\n",
       "      <td>21.00000</td>\n",
       "      <td>NaN</td>\n",
       "      <td>NaN</td>\n",
       "      <td>83.500000</td>\n",
       "    </tr>\n",
       "    <tr>\n",
       "      <th>50%</th>\n",
       "      <td>NaN</td>\n",
       "      <td>22.00000</td>\n",
       "      <td>NaN</td>\n",
       "      <td>NaN</td>\n",
       "      <td>87.000000</td>\n",
       "    </tr>\n",
       "    <tr>\n",
       "      <th>75%</th>\n",
       "      <td>NaN</td>\n",
       "      <td>24.00000</td>\n",
       "      <td>NaN</td>\n",
       "      <td>NaN</td>\n",
       "      <td>90.500000</td>\n",
       "    </tr>\n",
       "    <tr>\n",
       "      <th>max</th>\n",
       "      <td>NaN</td>\n",
       "      <td>31.00000</td>\n",
       "      <td>NaN</td>\n",
       "      <td>NaN</td>\n",
       "      <td>94.000000</td>\n",
       "    </tr>\n",
       "  </tbody>\n",
       "</table>\n",
       "</div>"
      ]
     },
     "execution_count": 235,
     "metadata": {},
     "output_type": "execute_result"
    }
   ],
   "execution_count": 235
  },
  {
   "cell_type": "code",
   "id": "55a8ddc9-8b82-4eef-9972-7639945d2201",
   "metadata": {
    "id": "55a8ddc9-8b82-4eef-9972-7639945d2201",
    "ExecuteTime": {
     "end_time": "2025-06-27T09:52:47.366521Z",
     "start_time": "2025-06-27T09:52:47.361712Z"
    }
   },
   "source": [
    "df4.info()"
   ],
   "outputs": [
    {
     "name": "stdout",
     "output_type": "stream",
     "text": [
      "<class 'pandas.core.frame.DataFrame'>\n",
      "RangeIndex: 39 entries, 0 to 38\n",
      "Data columns (total 5 columns):\n",
      " #   Column  Non-Null Count  Dtype \n",
      "---  ------  --------------  ----- \n",
      " 0   Name    39 non-null     object\n",
      " 1   Age     39 non-null     int64 \n",
      " 2   Gender  39 non-null     object\n",
      " 3   Major   39 non-null     object\n",
      " 4   Marks   39 non-null     int64 \n",
      "dtypes: int64(2), object(3)\n",
      "memory usage: 1.7+ KB\n"
     ]
    }
   ],
   "execution_count": 236
  },
  {
   "cell_type": "markdown",
   "id": "35bc097512149c80",
   "metadata": {
    "collapsed": false,
    "jupyter": {
     "outputs_hidden": false
    },
    "id": "35bc097512149c80"
   },
   "source": [
    "# Working with Rows and Columns\n",
    "We will create a dummy dataset from a random integer number using the NumPy package."
   ]
  },
  {
   "cell_type": "code",
   "id": "3964efd5-a50d-426e-a388-9cc83b36ac29",
   "metadata": {
    "id": "3964efd5-a50d-426e-a388-9cc83b36ac29",
    "ExecuteTime": {
     "end_time": "2025-06-27T09:52:47.516201Z",
     "start_time": "2025-06-27T09:52:47.514376Z"
    }
   },
   "source": [
    "np.random.seed(7)"
   ],
   "outputs": [],
   "execution_count": 237
  },
  {
   "cell_type": "code",
   "id": "fa373d90-dfe9-4448-b496-b1fdc07a3dbd",
   "metadata": {
    "id": "fa373d90-dfe9-4448-b496-b1fdc07a3dbd",
    "ExecuteTime": {
     "end_time": "2025-06-27T09:52:47.587933Z",
     "start_time": "2025-06-27T09:52:47.586298Z"
    }
   },
   "source": [],
   "outputs": [],
   "execution_count": null
  },
  {
   "cell_type": "code",
   "id": "c492cc7b339b82d7",
   "metadata": {
    "jupyter": {
     "outputs_hidden": false
    },
    "id": "c492cc7b339b82d7",
    "ExecuteTime": {
     "end_time": "2025-06-27T09:52:47.649574Z",
     "start_time": "2025-06-27T09:52:47.645235Z"
    }
   },
   "source": [
    "data = np.random.randint(0, 20, size=(5, 4)) # 5 rows and 4 columns\n",
    "df = pd.DataFrame(data, columns=list(\"ABCD\"))\n",
    "df"
   ],
   "outputs": [
    {
     "data": {
      "text/plain": [
       "    A   B  C   D\n",
       "0  15   4  3  19\n",
       "1   7  14  8  14\n",
       "2  10   8  7   6\n",
       "3   4  16  7  12\n",
       "4   0  11  6  19"
      ],
      "text/html": [
       "<div>\n",
       "<style scoped>\n",
       "    .dataframe tbody tr th:only-of-type {\n",
       "        vertical-align: middle;\n",
       "    }\n",
       "\n",
       "    .dataframe tbody tr th {\n",
       "        vertical-align: top;\n",
       "    }\n",
       "\n",
       "    .dataframe thead th {\n",
       "        text-align: right;\n",
       "    }\n",
       "</style>\n",
       "<table border=\"1\" class=\"dataframe\">\n",
       "  <thead>\n",
       "    <tr style=\"text-align: right;\">\n",
       "      <th></th>\n",
       "      <th>A</th>\n",
       "      <th>B</th>\n",
       "      <th>C</th>\n",
       "      <th>D</th>\n",
       "    </tr>\n",
       "  </thead>\n",
       "  <tbody>\n",
       "    <tr>\n",
       "      <th>0</th>\n",
       "      <td>15</td>\n",
       "      <td>4</td>\n",
       "      <td>3</td>\n",
       "      <td>19</td>\n",
       "    </tr>\n",
       "    <tr>\n",
       "      <th>1</th>\n",
       "      <td>7</td>\n",
       "      <td>14</td>\n",
       "      <td>8</td>\n",
       "      <td>14</td>\n",
       "    </tr>\n",
       "    <tr>\n",
       "      <th>2</th>\n",
       "      <td>10</td>\n",
       "      <td>8</td>\n",
       "      <td>7</td>\n",
       "      <td>6</td>\n",
       "    </tr>\n",
       "    <tr>\n",
       "      <th>3</th>\n",
       "      <td>4</td>\n",
       "      <td>16</td>\n",
       "      <td>7</td>\n",
       "      <td>12</td>\n",
       "    </tr>\n",
       "    <tr>\n",
       "      <th>4</th>\n",
       "      <td>0</td>\n",
       "      <td>11</td>\n",
       "      <td>6</td>\n",
       "      <td>19</td>\n",
       "    </tr>\n",
       "  </tbody>\n",
       "</table>\n",
       "</div>"
      ]
     },
     "execution_count": 238,
     "metadata": {},
     "output_type": "execute_result"
    }
   ],
   "execution_count": 238
  },
  {
   "cell_type": "code",
   "id": "76feb8ea-5069-422b-b2b1-18affb1b1931",
   "metadata": {
    "id": "76feb8ea-5069-422b-b2b1-18affb1b1931",
    "ExecuteTime": {
     "end_time": "2025-06-27T09:52:47.726448Z",
     "start_time": "2025-06-27T09:52:47.722091Z"
    }
   },
   "source": [
    "# copy df and drop columns C and D\n",
    "dfDrop = df.copy()\n",
    "dfDrop.drop(columns=[\"C\", \"D\"], inplace=True)\n",
    "dfDrop"
   ],
   "outputs": [
    {
     "data": {
      "text/plain": [
       "    A   B\n",
       "0  15   4\n",
       "1   7  14\n",
       "2  10   8\n",
       "3   4  16\n",
       "4   0  11"
      ],
      "text/html": [
       "<div>\n",
       "<style scoped>\n",
       "    .dataframe tbody tr th:only-of-type {\n",
       "        vertical-align: middle;\n",
       "    }\n",
       "\n",
       "    .dataframe tbody tr th {\n",
       "        vertical-align: top;\n",
       "    }\n",
       "\n",
       "    .dataframe thead th {\n",
       "        text-align: right;\n",
       "    }\n",
       "</style>\n",
       "<table border=\"1\" class=\"dataframe\">\n",
       "  <thead>\n",
       "    <tr style=\"text-align: right;\">\n",
       "      <th></th>\n",
       "      <th>A</th>\n",
       "      <th>B</th>\n",
       "    </tr>\n",
       "  </thead>\n",
       "  <tbody>\n",
       "    <tr>\n",
       "      <th>0</th>\n",
       "      <td>15</td>\n",
       "      <td>4</td>\n",
       "    </tr>\n",
       "    <tr>\n",
       "      <th>1</th>\n",
       "      <td>7</td>\n",
       "      <td>14</td>\n",
       "    </tr>\n",
       "    <tr>\n",
       "      <th>2</th>\n",
       "      <td>10</td>\n",
       "      <td>8</td>\n",
       "    </tr>\n",
       "    <tr>\n",
       "      <th>3</th>\n",
       "      <td>4</td>\n",
       "      <td>16</td>\n",
       "    </tr>\n",
       "    <tr>\n",
       "      <th>4</th>\n",
       "      <td>0</td>\n",
       "      <td>11</td>\n",
       "    </tr>\n",
       "  </tbody>\n",
       "</table>\n",
       "</div>"
      ]
     },
     "execution_count": 239,
     "metadata": {},
     "output_type": "execute_result"
    }
   ],
   "execution_count": 239
  },
  {
   "cell_type": "code",
   "id": "fe835129-94ed-49d8-919f-a5a621a4f21f",
   "metadata": {
    "id": "fe835129-94ed-49d8-919f-a5a621a4f21f",
    "ExecuteTime": {
     "end_time": "2025-06-27T09:52:47.837225Z",
     "start_time": "2025-06-27T09:52:47.832238Z"
    }
   },
   "source": [
    "# copy df and add new column E with numpy random\n",
    "dfAdd = df.copy()\n",
    "dfAdd[\"E\"] = np.random.randint(0, 20, size=(5, 1))\n",
    "dfAdd"
   ],
   "outputs": [
    {
     "data": {
      "text/plain": [
       "    A   B  C   D   E\n",
       "0  15   4  3  19  12\n",
       "1   7  14  8  14   5\n",
       "2  10   8  7   6  16\n",
       "3   4  16  7  12   0\n",
       "4   0  11  6  19   2"
      ],
      "text/html": [
       "<div>\n",
       "<style scoped>\n",
       "    .dataframe tbody tr th:only-of-type {\n",
       "        vertical-align: middle;\n",
       "    }\n",
       "\n",
       "    .dataframe tbody tr th {\n",
       "        vertical-align: top;\n",
       "    }\n",
       "\n",
       "    .dataframe thead th {\n",
       "        text-align: right;\n",
       "    }\n",
       "</style>\n",
       "<table border=\"1\" class=\"dataframe\">\n",
       "  <thead>\n",
       "    <tr style=\"text-align: right;\">\n",
       "      <th></th>\n",
       "      <th>A</th>\n",
       "      <th>B</th>\n",
       "      <th>C</th>\n",
       "      <th>D</th>\n",
       "      <th>E</th>\n",
       "    </tr>\n",
       "  </thead>\n",
       "  <tbody>\n",
       "    <tr>\n",
       "      <th>0</th>\n",
       "      <td>15</td>\n",
       "      <td>4</td>\n",
       "      <td>3</td>\n",
       "      <td>19</td>\n",
       "      <td>12</td>\n",
       "    </tr>\n",
       "    <tr>\n",
       "      <th>1</th>\n",
       "      <td>7</td>\n",
       "      <td>14</td>\n",
       "      <td>8</td>\n",
       "      <td>14</td>\n",
       "      <td>5</td>\n",
       "    </tr>\n",
       "    <tr>\n",
       "      <th>2</th>\n",
       "      <td>10</td>\n",
       "      <td>8</td>\n",
       "      <td>7</td>\n",
       "      <td>6</td>\n",
       "      <td>16</td>\n",
       "    </tr>\n",
       "    <tr>\n",
       "      <th>3</th>\n",
       "      <td>4</td>\n",
       "      <td>16</td>\n",
       "      <td>7</td>\n",
       "      <td>12</td>\n",
       "      <td>0</td>\n",
       "    </tr>\n",
       "    <tr>\n",
       "      <th>4</th>\n",
       "      <td>0</td>\n",
       "      <td>11</td>\n",
       "      <td>6</td>\n",
       "      <td>19</td>\n",
       "      <td>2</td>\n",
       "    </tr>\n",
       "  </tbody>\n",
       "</table>\n",
       "</div>"
      ]
     },
     "execution_count": 240,
     "metadata": {},
     "output_type": "execute_result"
    }
   ],
   "execution_count": 240
  },
  {
   "cell_type": "code",
   "id": "ec8a817c-8909-40a5-bf03-65d60f2e1359",
   "metadata": {
    "id": "ec8a817c-8909-40a5-bf03-65d60f2e1359",
    "ExecuteTime": {
     "end_time": "2025-06-27T09:52:47.972387Z",
     "start_time": "2025-06-27T09:52:47.970776Z"
    }
   },
   "source": [],
   "outputs": [],
   "execution_count": null
  },
  {
   "cell_type": "markdown",
   "id": "113c5dcc-e510-45cd-8b25-0e96ab0b8c61",
   "metadata": {
    "id": "113c5dcc-e510-45cd-8b25-0e96ab0b8c61"
   },
   "source": [
    "## Data filtering & selection"
   ]
  },
  {
   "cell_type": "code",
   "id": "914c011f-fa18-4993-a269-22eacb46419b",
   "metadata": {
    "id": "914c011f-fa18-4993-a269-22eacb46419b",
    "ExecuteTime": {
     "end_time": "2025-06-27T09:52:48.286160Z",
     "start_time": "2025-06-27T09:52:48.281960Z"
    }
   },
   "source": [
    "df"
   ],
   "outputs": [
    {
     "data": {
      "text/plain": [
       "    A   B  C   D\n",
       "0  15   4  3  19\n",
       "1   7  14  8  14\n",
       "2  10   8  7   6\n",
       "3   4  16  7  12\n",
       "4   0  11  6  19"
      ],
      "text/html": [
       "<div>\n",
       "<style scoped>\n",
       "    .dataframe tbody tr th:only-of-type {\n",
       "        vertical-align: middle;\n",
       "    }\n",
       "\n",
       "    .dataframe tbody tr th {\n",
       "        vertical-align: top;\n",
       "    }\n",
       "\n",
       "    .dataframe thead th {\n",
       "        text-align: right;\n",
       "    }\n",
       "</style>\n",
       "<table border=\"1\" class=\"dataframe\">\n",
       "  <thead>\n",
       "    <tr style=\"text-align: right;\">\n",
       "      <th></th>\n",
       "      <th>A</th>\n",
       "      <th>B</th>\n",
       "      <th>C</th>\n",
       "      <th>D</th>\n",
       "    </tr>\n",
       "  </thead>\n",
       "  <tbody>\n",
       "    <tr>\n",
       "      <th>0</th>\n",
       "      <td>15</td>\n",
       "      <td>4</td>\n",
       "      <td>3</td>\n",
       "      <td>19</td>\n",
       "    </tr>\n",
       "    <tr>\n",
       "      <th>1</th>\n",
       "      <td>7</td>\n",
       "      <td>14</td>\n",
       "      <td>8</td>\n",
       "      <td>14</td>\n",
       "    </tr>\n",
       "    <tr>\n",
       "      <th>2</th>\n",
       "      <td>10</td>\n",
       "      <td>8</td>\n",
       "      <td>7</td>\n",
       "      <td>6</td>\n",
       "    </tr>\n",
       "    <tr>\n",
       "      <th>3</th>\n",
       "      <td>4</td>\n",
       "      <td>16</td>\n",
       "      <td>7</td>\n",
       "      <td>12</td>\n",
       "    </tr>\n",
       "    <tr>\n",
       "      <th>4</th>\n",
       "      <td>0</td>\n",
       "      <td>11</td>\n",
       "      <td>6</td>\n",
       "      <td>19</td>\n",
       "    </tr>\n",
       "  </tbody>\n",
       "</table>\n",
       "</div>"
      ]
     },
     "execution_count": 241,
     "metadata": {},
     "output_type": "execute_result"
    }
   ],
   "execution_count": 241
  },
  {
   "cell_type": "code",
   "id": "a827988d-613a-43b6-8359-e36c402726c5",
   "metadata": {
    "id": "a827988d-613a-43b6-8359-e36c402726c5",
    "ExecuteTime": {
     "end_time": "2025-06-27T09:52:48.416327Z",
     "start_time": "2025-06-27T09:52:48.412622Z"
    }
   },
   "source": [
    "df['A']"
   ],
   "outputs": [
    {
     "data": {
      "text/plain": [
       "0    15\n",
       "1     7\n",
       "2    10\n",
       "3     4\n",
       "4     0\n",
       "Name: A, dtype: int64"
      ]
     },
     "execution_count": 242,
     "metadata": {},
     "output_type": "execute_result"
    }
   ],
   "execution_count": 242
  },
  {
   "cell_type": "code",
   "id": "e9bb764b-5309-439b-ae34-8acf9b3b0ea8",
   "metadata": {
    "id": "e9bb764b-5309-439b-ae34-8acf9b3b0ea8",
    "ExecuteTime": {
     "end_time": "2025-06-27T09:52:48.572218Z",
     "start_time": "2025-06-27T09:52:48.569024Z"
    }
   },
   "source": [
    "df.loc[0] # label = 0 (label can be string)"
   ],
   "outputs": [
    {
     "data": {
      "text/plain": [
       "A    15\n",
       "B     4\n",
       "C     3\n",
       "D    19\n",
       "Name: 0, dtype: int64"
      ]
     },
     "execution_count": 243,
     "metadata": {},
     "output_type": "execute_result"
    }
   ],
   "execution_count": 243
  },
  {
   "cell_type": "code",
   "id": "f0e12171-7ea6-487c-907b-a3e8a0aef254",
   "metadata": {
    "id": "f0e12171-7ea6-487c-907b-a3e8a0aef254",
    "ExecuteTime": {
     "end_time": "2025-06-27T09:52:48.726575Z",
     "start_time": "2025-06-27T09:52:48.723277Z"
    }
   },
   "source": [
    "df.iloc[0]"
   ],
   "outputs": [
    {
     "data": {
      "text/plain": [
       "A    15\n",
       "B     4\n",
       "C     3\n",
       "D    19\n",
       "Name: 0, dtype: int64"
      ]
     },
     "execution_count": 244,
     "metadata": {},
     "output_type": "execute_result"
    }
   ],
   "execution_count": 244
  },
  {
   "cell_type": "code",
   "id": "bef58ce0-71d9-4f74-b5af-205503944dbe",
   "metadata": {
    "id": "bef58ce0-71d9-4f74-b5af-205503944dbe",
    "ExecuteTime": {
     "end_time": "2025-06-27T09:52:48.904983Z",
     "start_time": "2025-06-27T09:52:48.900546Z"
    }
   },
   "source": [
    "df[0:2]"
   ],
   "outputs": [
    {
     "data": {
      "text/plain": [
       "    A   B  C   D\n",
       "0  15   4  3  19\n",
       "1   7  14  8  14"
      ],
      "text/html": [
       "<div>\n",
       "<style scoped>\n",
       "    .dataframe tbody tr th:only-of-type {\n",
       "        vertical-align: middle;\n",
       "    }\n",
       "\n",
       "    .dataframe tbody tr th {\n",
       "        vertical-align: top;\n",
       "    }\n",
       "\n",
       "    .dataframe thead th {\n",
       "        text-align: right;\n",
       "    }\n",
       "</style>\n",
       "<table border=\"1\" class=\"dataframe\">\n",
       "  <thead>\n",
       "    <tr style=\"text-align: right;\">\n",
       "      <th></th>\n",
       "      <th>A</th>\n",
       "      <th>B</th>\n",
       "      <th>C</th>\n",
       "      <th>D</th>\n",
       "    </tr>\n",
       "  </thead>\n",
       "  <tbody>\n",
       "    <tr>\n",
       "      <th>0</th>\n",
       "      <td>15</td>\n",
       "      <td>4</td>\n",
       "      <td>3</td>\n",
       "      <td>19</td>\n",
       "    </tr>\n",
       "    <tr>\n",
       "      <th>1</th>\n",
       "      <td>7</td>\n",
       "      <td>14</td>\n",
       "      <td>8</td>\n",
       "      <td>14</td>\n",
       "    </tr>\n",
       "  </tbody>\n",
       "</table>\n",
       "</div>"
      ]
     },
     "execution_count": 245,
     "metadata": {},
     "output_type": "execute_result"
    }
   ],
   "execution_count": 245
  },
  {
   "cell_type": "code",
   "id": "0c42e58b-83c3-4c13-8f2e-67b54a158d8f",
   "metadata": {
    "id": "0c42e58b-83c3-4c13-8f2e-67b54a158d8f",
    "ExecuteTime": {
     "end_time": "2025-06-27T09:52:49.163705Z",
     "start_time": "2025-06-27T09:52:49.159291Z"
    }
   },
   "source": [
    "df"
   ],
   "outputs": [
    {
     "data": {
      "text/plain": [
       "    A   B  C   D\n",
       "0  15   4  3  19\n",
       "1   7  14  8  14\n",
       "2  10   8  7   6\n",
       "3   4  16  7  12\n",
       "4   0  11  6  19"
      ],
      "text/html": [
       "<div>\n",
       "<style scoped>\n",
       "    .dataframe tbody tr th:only-of-type {\n",
       "        vertical-align: middle;\n",
       "    }\n",
       "\n",
       "    .dataframe tbody tr th {\n",
       "        vertical-align: top;\n",
       "    }\n",
       "\n",
       "    .dataframe thead th {\n",
       "        text-align: right;\n",
       "    }\n",
       "</style>\n",
       "<table border=\"1\" class=\"dataframe\">\n",
       "  <thead>\n",
       "    <tr style=\"text-align: right;\">\n",
       "      <th></th>\n",
       "      <th>A</th>\n",
       "      <th>B</th>\n",
       "      <th>C</th>\n",
       "      <th>D</th>\n",
       "    </tr>\n",
       "  </thead>\n",
       "  <tbody>\n",
       "    <tr>\n",
       "      <th>0</th>\n",
       "      <td>15</td>\n",
       "      <td>4</td>\n",
       "      <td>3</td>\n",
       "      <td>19</td>\n",
       "    </tr>\n",
       "    <tr>\n",
       "      <th>1</th>\n",
       "      <td>7</td>\n",
       "      <td>14</td>\n",
       "      <td>8</td>\n",
       "      <td>14</td>\n",
       "    </tr>\n",
       "    <tr>\n",
       "      <th>2</th>\n",
       "      <td>10</td>\n",
       "      <td>8</td>\n",
       "      <td>7</td>\n",
       "      <td>6</td>\n",
       "    </tr>\n",
       "    <tr>\n",
       "      <th>3</th>\n",
       "      <td>4</td>\n",
       "      <td>16</td>\n",
       "      <td>7</td>\n",
       "      <td>12</td>\n",
       "    </tr>\n",
       "    <tr>\n",
       "      <th>4</th>\n",
       "      <td>0</td>\n",
       "      <td>11</td>\n",
       "      <td>6</td>\n",
       "      <td>19</td>\n",
       "    </tr>\n",
       "  </tbody>\n",
       "</table>\n",
       "</div>"
      ]
     },
     "execution_count": 246,
     "metadata": {},
     "output_type": "execute_result"
    }
   ],
   "execution_count": 246
  },
  {
   "cell_type": "code",
   "id": "273181b6-24d1-402a-bcb9-4b7b7dcae7eb",
   "metadata": {
    "id": "273181b6-24d1-402a-bcb9-4b7b7dcae7eb",
    "ExecuteTime": {
     "end_time": "2025-06-27T09:52:49.309220Z",
     "start_time": "2025-06-27T09:52:49.304822Z"
    }
   },
   "source": [
    "df['B'] > 5"
   ],
   "outputs": [
    {
     "data": {
      "text/plain": [
       "0    False\n",
       "1     True\n",
       "2     True\n",
       "3     True\n",
       "4     True\n",
       "Name: B, dtype: bool"
      ]
     },
     "execution_count": 247,
     "metadata": {},
     "output_type": "execute_result"
    }
   ],
   "execution_count": 247
  },
  {
   "cell_type": "code",
   "id": "7d441933-fa69-4273-b947-30839e4950a2",
   "metadata": {
    "id": "7d441933-fa69-4273-b947-30839e4950a2",
    "ExecuteTime": {
     "end_time": "2025-06-27T09:52:49.589519Z",
     "start_time": "2025-06-27T09:52:49.583729Z"
    }
   },
   "source": [
    "df[df['B'] > 5]"
   ],
   "outputs": [
    {
     "data": {
      "text/plain": [
       "    A   B  C   D\n",
       "1   7  14  8  14\n",
       "2  10   8  7   6\n",
       "3   4  16  7  12\n",
       "4   0  11  6  19"
      ],
      "text/html": [
       "<div>\n",
       "<style scoped>\n",
       "    .dataframe tbody tr th:only-of-type {\n",
       "        vertical-align: middle;\n",
       "    }\n",
       "\n",
       "    .dataframe tbody tr th {\n",
       "        vertical-align: top;\n",
       "    }\n",
       "\n",
       "    .dataframe thead th {\n",
       "        text-align: right;\n",
       "    }\n",
       "</style>\n",
       "<table border=\"1\" class=\"dataframe\">\n",
       "  <thead>\n",
       "    <tr style=\"text-align: right;\">\n",
       "      <th></th>\n",
       "      <th>A</th>\n",
       "      <th>B</th>\n",
       "      <th>C</th>\n",
       "      <th>D</th>\n",
       "    </tr>\n",
       "  </thead>\n",
       "  <tbody>\n",
       "    <tr>\n",
       "      <th>1</th>\n",
       "      <td>7</td>\n",
       "      <td>14</td>\n",
       "      <td>8</td>\n",
       "      <td>14</td>\n",
       "    </tr>\n",
       "    <tr>\n",
       "      <th>2</th>\n",
       "      <td>10</td>\n",
       "      <td>8</td>\n",
       "      <td>7</td>\n",
       "      <td>6</td>\n",
       "    </tr>\n",
       "    <tr>\n",
       "      <th>3</th>\n",
       "      <td>4</td>\n",
       "      <td>16</td>\n",
       "      <td>7</td>\n",
       "      <td>12</td>\n",
       "    </tr>\n",
       "    <tr>\n",
       "      <th>4</th>\n",
       "      <td>0</td>\n",
       "      <td>11</td>\n",
       "      <td>6</td>\n",
       "      <td>19</td>\n",
       "    </tr>\n",
       "  </tbody>\n",
       "</table>\n",
       "</div>"
      ]
     },
     "execution_count": 248,
     "metadata": {},
     "output_type": "execute_result"
    }
   ],
   "execution_count": 248
  },
  {
   "cell_type": "code",
   "id": "32c6bffc-78c4-458c-9e13-5db0b1bc117f",
   "metadata": {
    "id": "32c6bffc-78c4-458c-9e13-5db0b1bc117f",
    "ExecuteTime": {
     "end_time": "2025-06-27T09:52:49.776140Z",
     "start_time": "2025-06-27T09:52:49.774661Z"
    }
   },
   "source": [],
   "outputs": [],
   "execution_count": null
  },
  {
   "cell_type": "code",
   "id": "08297545-0552-40fb-ad53-52e62c827596",
   "metadata": {
    "id": "08297545-0552-40fb-ad53-52e62c827596",
    "ExecuteTime": {
     "end_time": "2025-06-27T09:52:49.949056Z",
     "start_time": "2025-06-27T09:52:49.946758Z"
    }
   },
   "source": [],
   "outputs": [],
   "execution_count": null
  },
  {
   "cell_type": "markdown",
   "id": "57f5faba6be235ca",
   "metadata": {
    "collapsed": false,
    "jupyter": {
     "outputs_hidden": false
    },
    "id": "57f5faba6be235ca"
   },
   "source": [
    "# Splitting Data"
   ]
  },
  {
   "cell_type": "code",
   "id": "6ae4be27-c1a3-4286-9107-a814d9307596",
   "metadata": {
    "id": "6ae4be27-c1a3-4286-9107-a814d9307596",
    "ExecuteTime": {
     "end_time": "2025-06-27T09:52:50.080915Z",
     "start_time": "2025-06-27T09:52:50.075426Z"
    }
   },
   "source": [
    "df"
   ],
   "outputs": [
    {
     "data": {
      "text/plain": [
       "    A   B  C   D\n",
       "0  15   4  3  19\n",
       "1   7  14  8  14\n",
       "2  10   8  7   6\n",
       "3   4  16  7  12\n",
       "4   0  11  6  19"
      ],
      "text/html": [
       "<div>\n",
       "<style scoped>\n",
       "    .dataframe tbody tr th:only-of-type {\n",
       "        vertical-align: middle;\n",
       "    }\n",
       "\n",
       "    .dataframe tbody tr th {\n",
       "        vertical-align: top;\n",
       "    }\n",
       "\n",
       "    .dataframe thead th {\n",
       "        text-align: right;\n",
       "    }\n",
       "</style>\n",
       "<table border=\"1\" class=\"dataframe\">\n",
       "  <thead>\n",
       "    <tr style=\"text-align: right;\">\n",
       "      <th></th>\n",
       "      <th>A</th>\n",
       "      <th>B</th>\n",
       "      <th>C</th>\n",
       "      <th>D</th>\n",
       "    </tr>\n",
       "  </thead>\n",
       "  <tbody>\n",
       "    <tr>\n",
       "      <th>0</th>\n",
       "      <td>15</td>\n",
       "      <td>4</td>\n",
       "      <td>3</td>\n",
       "      <td>19</td>\n",
       "    </tr>\n",
       "    <tr>\n",
       "      <th>1</th>\n",
       "      <td>7</td>\n",
       "      <td>14</td>\n",
       "      <td>8</td>\n",
       "      <td>14</td>\n",
       "    </tr>\n",
       "    <tr>\n",
       "      <th>2</th>\n",
       "      <td>10</td>\n",
       "      <td>8</td>\n",
       "      <td>7</td>\n",
       "      <td>6</td>\n",
       "    </tr>\n",
       "    <tr>\n",
       "      <th>3</th>\n",
       "      <td>4</td>\n",
       "      <td>16</td>\n",
       "      <td>7</td>\n",
       "      <td>12</td>\n",
       "    </tr>\n",
       "    <tr>\n",
       "      <th>4</th>\n",
       "      <td>0</td>\n",
       "      <td>11</td>\n",
       "      <td>6</td>\n",
       "      <td>19</td>\n",
       "    </tr>\n",
       "  </tbody>\n",
       "</table>\n",
       "</div>"
      ]
     },
     "execution_count": 249,
     "metadata": {},
     "output_type": "execute_result"
    }
   ],
   "execution_count": 249
  },
  {
   "cell_type": "code",
   "id": "26c2be6d-f1d1-458d-bbd3-925af244149b",
   "metadata": {
    "id": "26c2be6d-f1d1-458d-bbd3-925af244149b",
    "ExecuteTime": {
     "end_time": "2025-06-27T09:52:50.186577Z",
     "start_time": "2025-06-27T09:52:50.180910Z"
    }
   },
   "source": [
    "# .iloc[row index, column index], : = selecting values between\n",
    "df.iloc[:, :]"
   ],
   "outputs": [
    {
     "data": {
      "text/plain": [
       "    A   B  C   D\n",
       "0  15   4  3  19\n",
       "1   7  14  8  14\n",
       "2  10   8  7   6\n",
       "3   4  16  7  12\n",
       "4   0  11  6  19"
      ],
      "text/html": [
       "<div>\n",
       "<style scoped>\n",
       "    .dataframe tbody tr th:only-of-type {\n",
       "        vertical-align: middle;\n",
       "    }\n",
       "\n",
       "    .dataframe tbody tr th {\n",
       "        vertical-align: top;\n",
       "    }\n",
       "\n",
       "    .dataframe thead th {\n",
       "        text-align: right;\n",
       "    }\n",
       "</style>\n",
       "<table border=\"1\" class=\"dataframe\">\n",
       "  <thead>\n",
       "    <tr style=\"text-align: right;\">\n",
       "      <th></th>\n",
       "      <th>A</th>\n",
       "      <th>B</th>\n",
       "      <th>C</th>\n",
       "      <th>D</th>\n",
       "    </tr>\n",
       "  </thead>\n",
       "  <tbody>\n",
       "    <tr>\n",
       "      <th>0</th>\n",
       "      <td>15</td>\n",
       "      <td>4</td>\n",
       "      <td>3</td>\n",
       "      <td>19</td>\n",
       "    </tr>\n",
       "    <tr>\n",
       "      <th>1</th>\n",
       "      <td>7</td>\n",
       "      <td>14</td>\n",
       "      <td>8</td>\n",
       "      <td>14</td>\n",
       "    </tr>\n",
       "    <tr>\n",
       "      <th>2</th>\n",
       "      <td>10</td>\n",
       "      <td>8</td>\n",
       "      <td>7</td>\n",
       "      <td>6</td>\n",
       "    </tr>\n",
       "    <tr>\n",
       "      <th>3</th>\n",
       "      <td>4</td>\n",
       "      <td>16</td>\n",
       "      <td>7</td>\n",
       "      <td>12</td>\n",
       "    </tr>\n",
       "    <tr>\n",
       "      <th>4</th>\n",
       "      <td>0</td>\n",
       "      <td>11</td>\n",
       "      <td>6</td>\n",
       "      <td>19</td>\n",
       "    </tr>\n",
       "  </tbody>\n",
       "</table>\n",
       "</div>"
      ]
     },
     "execution_count": 250,
     "metadata": {},
     "output_type": "execute_result"
    }
   ],
   "execution_count": 250
  },
  {
   "cell_type": "code",
   "id": "7298514f-d865-48f8-848c-296ed3eb1f59",
   "metadata": {
    "id": "7298514f-d865-48f8-848c-296ed3eb1f59",
    "ExecuteTime": {
     "end_time": "2025-06-27T09:52:50.278443Z",
     "start_time": "2025-06-27T09:52:50.276335Z"
    }
   },
   "source": [],
   "outputs": [],
   "execution_count": null
  },
  {
   "cell_type": "markdown",
   "id": "1ccfbfdc-6bf3-4660-9d63-e43a3bcba46c",
   "metadata": {
    "id": "1ccfbfdc-6bf3-4660-9d63-e43a3bcba46c"
   },
   "source": [
    "#### Selecting rows"
   ]
  },
  {
   "cell_type": "code",
   "id": "3f12953d25f19e86",
   "metadata": {
    "jupyter": {
     "outputs_hidden": false
    },
    "id": "3f12953d25f19e86",
    "ExecuteTime": {
     "end_time": "2025-06-27T09:52:50.432672Z",
     "start_time": "2025-06-27T09:52:50.428378Z"
    }
   },
   "source": [
    "df1 = df.iloc[:2 , :] # :2 means splitting rows from index 0 to 2\n",
    "print(df1, '\\n')\n",
    "\n",
    "df2 = df.iloc[2: , :] # 2: means splitting rows from index 3 to n\n",
    "print(df2, '\\n')"
   ],
   "outputs": [
    {
     "name": "stdout",
     "output_type": "stream",
     "text": [
      "    A   B  C   D\n",
      "0  15   4  3  19\n",
      "1   7  14  8  14 \n",
      "\n",
      "    A   B  C   D\n",
      "2  10   8  7   6\n",
      "3   4  16  7  12\n",
      "4   0  11  6  19 \n",
      "\n"
     ]
    }
   ],
   "execution_count": 251
  },
  {
   "cell_type": "markdown",
   "id": "291f6f35-b141-435d-ab7d-de376cdbf25a",
   "metadata": {
    "id": "291f6f35-b141-435d-ab7d-de376cdbf25a"
   },
   "source": [
    "#### Selecting columns"
   ]
  },
  {
   "cell_type": "code",
   "id": "497643e2-c9ce-413f-b3f2-6e4265bc183f",
   "metadata": {
    "id": "497643e2-c9ce-413f-b3f2-6e4265bc183f",
    "ExecuteTime": {
     "end_time": "2025-06-27T09:52:50.588516Z",
     "start_time": "2025-06-27T09:52:50.583485Z"
    }
   },
   "source": [
    "df3 = df.iloc[: , :2] # :2 means splitting columns from index 0 to 2\n",
    "print(df3, '\\n')\n",
    "df4 = df.iloc[: , 2:] # 2: means splitting columns from index 3 to n\n",
    "print(df4, '\\n')"
   ],
   "outputs": [
    {
     "name": "stdout",
     "output_type": "stream",
     "text": [
      "    A   B\n",
      "0  15   4\n",
      "1   7  14\n",
      "2  10   8\n",
      "3   4  16\n",
      "4   0  11 \n",
      "\n",
      "   C   D\n",
      "0  3  19\n",
      "1  8  14\n",
      "2  7   6\n",
      "3  7  12\n",
      "4  6  19 \n",
      "\n"
     ]
    }
   ],
   "execution_count": 252
  },
  {
   "cell_type": "markdown",
   "id": "c02e3b94-90e5-4794-8e46-e5f8ed4d1b56",
   "metadata": {
    "id": "c02e3b94-90e5-4794-8e46-e5f8ed4d1b56"
   },
   "source": [
    "### Grouping"
   ]
  },
  {
   "cell_type": "code",
   "id": "bd82afc7-c7b8-4cfd-b797-db75d9542ca1",
   "metadata": {
    "id": "bd82afc7-c7b8-4cfd-b797-db75d9542ca1",
    "ExecuteTime": {
     "end_time": "2025-06-27T09:52:50.685518Z",
     "start_time": "2025-06-27T09:52:50.680118Z"
    }
   },
   "source": [
    "df"
   ],
   "outputs": [
    {
     "data": {
      "text/plain": [
       "    A   B  C   D\n",
       "0  15   4  3  19\n",
       "1   7  14  8  14\n",
       "2  10   8  7   6\n",
       "3   4  16  7  12\n",
       "4   0  11  6  19"
      ],
      "text/html": [
       "<div>\n",
       "<style scoped>\n",
       "    .dataframe tbody tr th:only-of-type {\n",
       "        vertical-align: middle;\n",
       "    }\n",
       "\n",
       "    .dataframe tbody tr th {\n",
       "        vertical-align: top;\n",
       "    }\n",
       "\n",
       "    .dataframe thead th {\n",
       "        text-align: right;\n",
       "    }\n",
       "</style>\n",
       "<table border=\"1\" class=\"dataframe\">\n",
       "  <thead>\n",
       "    <tr style=\"text-align: right;\">\n",
       "      <th></th>\n",
       "      <th>A</th>\n",
       "      <th>B</th>\n",
       "      <th>C</th>\n",
       "      <th>D</th>\n",
       "    </tr>\n",
       "  </thead>\n",
       "  <tbody>\n",
       "    <tr>\n",
       "      <th>0</th>\n",
       "      <td>15</td>\n",
       "      <td>4</td>\n",
       "      <td>3</td>\n",
       "      <td>19</td>\n",
       "    </tr>\n",
       "    <tr>\n",
       "      <th>1</th>\n",
       "      <td>7</td>\n",
       "      <td>14</td>\n",
       "      <td>8</td>\n",
       "      <td>14</td>\n",
       "    </tr>\n",
       "    <tr>\n",
       "      <th>2</th>\n",
       "      <td>10</td>\n",
       "      <td>8</td>\n",
       "      <td>7</td>\n",
       "      <td>6</td>\n",
       "    </tr>\n",
       "    <tr>\n",
       "      <th>3</th>\n",
       "      <td>4</td>\n",
       "      <td>16</td>\n",
       "      <td>7</td>\n",
       "      <td>12</td>\n",
       "    </tr>\n",
       "    <tr>\n",
       "      <th>4</th>\n",
       "      <td>0</td>\n",
       "      <td>11</td>\n",
       "      <td>6</td>\n",
       "      <td>19</td>\n",
       "    </tr>\n",
       "  </tbody>\n",
       "</table>\n",
       "</div>"
      ]
     },
     "execution_count": 253,
     "metadata": {},
     "output_type": "execute_result"
    }
   ],
   "execution_count": 253
  },
  {
   "cell_type": "code",
   "id": "301b62ac-7816-4653-9353-f4431d06b82f",
   "metadata": {
    "id": "301b62ac-7816-4653-9353-f4431d06b82f",
    "ExecuteTime": {
     "end_time": "2025-06-27T09:52:50.768995Z",
     "start_time": "2025-06-27T09:52:50.765089Z"
    }
   },
   "source": [
    "# .groupby() function is used to split the DataFrame based on some values\n",
    "grouped = df.groupby(df.A)\n",
    "print('Groups:', grouped.groups, '\\n')\n",
    "print('Keys:', grouped.keys)"
   ],
   "outputs": [
    {
     "name": "stdout",
     "output_type": "stream",
     "text": [
      "Groups: {0: [4], 4: [3], 7: [1], 10: [2], 15: [0]} \n",
      "\n",
      "Keys: 0    15\n",
      "1     7\n",
      "2    10\n",
      "3     4\n",
      "4     0\n",
      "Name: A, dtype: int64\n"
     ]
    }
   ],
   "execution_count": 254
  },
  {
   "cell_type": "code",
   "id": "9d824b96-2a23-4fe1-9e52-1a64c97cf8d8",
   "metadata": {
    "id": "9d824b96-2a23-4fe1-9e52-1a64c97cf8d8",
    "ExecuteTime": {
     "end_time": "2025-06-27T09:52:50.838631Z",
     "start_time": "2025-06-27T09:52:50.833468Z"
    }
   },
   "source": [
    "# we can select specified groups using the get_group() function\n",
    "df5 = grouped.get_group(10) # pass in a group key\n",
    "df5"
   ],
   "outputs": [
    {
     "data": {
      "text/plain": [
       "    A  B  C  D\n",
       "2  10  8  7  6"
      ],
      "text/html": [
       "<div>\n",
       "<style scoped>\n",
       "    .dataframe tbody tr th:only-of-type {\n",
       "        vertical-align: middle;\n",
       "    }\n",
       "\n",
       "    .dataframe tbody tr th {\n",
       "        vertical-align: top;\n",
       "    }\n",
       "\n",
       "    .dataframe thead th {\n",
       "        text-align: right;\n",
       "    }\n",
       "</style>\n",
       "<table border=\"1\" class=\"dataframe\">\n",
       "  <thead>\n",
       "    <tr style=\"text-align: right;\">\n",
       "      <th></th>\n",
       "      <th>A</th>\n",
       "      <th>B</th>\n",
       "      <th>C</th>\n",
       "      <th>D</th>\n",
       "    </tr>\n",
       "  </thead>\n",
       "  <tbody>\n",
       "    <tr>\n",
       "      <th>2</th>\n",
       "      <td>10</td>\n",
       "      <td>8</td>\n",
       "      <td>7</td>\n",
       "      <td>6</td>\n",
       "    </tr>\n",
       "  </tbody>\n",
       "</table>\n",
       "</div>"
      ]
     },
     "execution_count": 255,
     "metadata": {},
     "output_type": "execute_result"
    }
   ],
   "execution_count": 255
  },
  {
   "cell_type": "code",
   "id": "4b403b4a-7b9a-4e06-87cb-81d0e1c06c7f",
   "metadata": {
    "id": "4b403b4a-7b9a-4e06-87cb-81d0e1c06c7f",
    "ExecuteTime": {
     "end_time": "2025-06-27T09:52:51.002986Z",
     "start_time": "2025-06-27T09:52:50.997912Z"
    }
   },
   "source": [
    "# n: int value, Number of random rows to generate.\n",
    "df6 = df.sample(n = 2)\n",
    "df6"
   ],
   "outputs": [
    {
     "data": {
      "text/plain": [
       "   A   B  C   D\n",
       "3  4  16  7  12\n",
       "4  0  11  6  19"
      ],
      "text/html": [
       "<div>\n",
       "<style scoped>\n",
       "    .dataframe tbody tr th:only-of-type {\n",
       "        vertical-align: middle;\n",
       "    }\n",
       "\n",
       "    .dataframe tbody tr th {\n",
       "        vertical-align: top;\n",
       "    }\n",
       "\n",
       "    .dataframe thead th {\n",
       "        text-align: right;\n",
       "    }\n",
       "</style>\n",
       "<table border=\"1\" class=\"dataframe\">\n",
       "  <thead>\n",
       "    <tr style=\"text-align: right;\">\n",
       "      <th></th>\n",
       "      <th>A</th>\n",
       "      <th>B</th>\n",
       "      <th>C</th>\n",
       "      <th>D</th>\n",
       "    </tr>\n",
       "  </thead>\n",
       "  <tbody>\n",
       "    <tr>\n",
       "      <th>3</th>\n",
       "      <td>4</td>\n",
       "      <td>16</td>\n",
       "      <td>7</td>\n",
       "      <td>12</td>\n",
       "    </tr>\n",
       "    <tr>\n",
       "      <th>4</th>\n",
       "      <td>0</td>\n",
       "      <td>11</td>\n",
       "      <td>6</td>\n",
       "      <td>19</td>\n",
       "    </tr>\n",
       "  </tbody>\n",
       "</table>\n",
       "</div>"
      ]
     },
     "execution_count": 256,
     "metadata": {},
     "output_type": "execute_result"
    }
   ],
   "execution_count": 256
  },
  {
   "cell_type": "code",
   "id": "d7647d27-10b5-484d-8fb2-b578ba862120",
   "metadata": {
    "id": "d7647d27-10b5-484d-8fb2-b578ba862120",
    "ExecuteTime": {
     "end_time": "2025-06-27T09:52:51.176365Z",
     "start_time": "2025-06-27T09:52:51.170260Z"
    }
   },
   "source": [
    "# frac: Float value, Returns (float value * length of data frame values ). frac cannot be used with n.\n",
    "df7 = df.sample(frac = 0.25)\n",
    "df7"
   ],
   "outputs": [
    {
     "data": {
      "text/plain": [
       "    A  B  C   D\n",
       "0  15  4  3  19"
      ],
      "text/html": [
       "<div>\n",
       "<style scoped>\n",
       "    .dataframe tbody tr th:only-of-type {\n",
       "        vertical-align: middle;\n",
       "    }\n",
       "\n",
       "    .dataframe tbody tr th {\n",
       "        vertical-align: top;\n",
       "    }\n",
       "\n",
       "    .dataframe thead th {\n",
       "        text-align: right;\n",
       "    }\n",
       "</style>\n",
       "<table border=\"1\" class=\"dataframe\">\n",
       "  <thead>\n",
       "    <tr style=\"text-align: right;\">\n",
       "      <th></th>\n",
       "      <th>A</th>\n",
       "      <th>B</th>\n",
       "      <th>C</th>\n",
       "      <th>D</th>\n",
       "    </tr>\n",
       "  </thead>\n",
       "  <tbody>\n",
       "    <tr>\n",
       "      <th>0</th>\n",
       "      <td>15</td>\n",
       "      <td>4</td>\n",
       "      <td>3</td>\n",
       "      <td>19</td>\n",
       "    </tr>\n",
       "  </tbody>\n",
       "</table>\n",
       "</div>"
      ]
     },
     "execution_count": 257,
     "metadata": {},
     "output_type": "execute_result"
    }
   ],
   "execution_count": 257
  },
  {
   "cell_type": "markdown",
   "id": "7d8b106229f9ec43",
   "metadata": {
    "collapsed": false,
    "jupyter": {
     "outputs_hidden": false
    },
    "id": "7d8b106229f9ec43"
   },
   "source": [
    "# Merge Data (concat, merge, join)\n",
    "1. Concatenating Data"
   ]
  },
  {
   "cell_type": "code",
   "id": "a98444e924599c1e",
   "metadata": {
    "jupyter": {
     "outputs_hidden": false
    },
    "id": "a98444e924599c1e",
    "ExecuteTime": {
     "end_time": "2025-06-27T09:52:51.289626Z",
     "start_time": "2025-06-27T09:52:51.283583Z"
    }
   },
   "source": [
    "left = pd.DataFrame({\"A\": [\"A0\", \"A1\", \"A2\"], \"B\": [\"B0\", \"B1\", \"B2\"]}, index=[\"K0\", \"K1\", \"K2\"])\n",
    "right = pd.DataFrame({\"C\": [\"C0\", \"C2\", \"C3\"], \"D\": [\"D0\", \"D2\", \"D3\"]}, index=[\"K0\", \"K1\", \"K2\"])\n",
    "print(left)\n",
    "print(right)"
   ],
   "outputs": [
    {
     "name": "stdout",
     "output_type": "stream",
     "text": [
      "     A   B\n",
      "K0  A0  B0\n",
      "K1  A1  B1\n",
      "K2  A2  B2\n",
      "     C   D\n",
      "K0  C0  D0\n",
      "K1  C2  D2\n",
      "K2  C3  D3\n"
     ]
    }
   ],
   "execution_count": 258
  },
  {
   "cell_type": "code",
   "id": "13724aee-c2ad-434c-8477-668134bd9a55",
   "metadata": {
    "id": "13724aee-c2ad-434c-8477-668134bd9a55",
    "ExecuteTime": {
     "end_time": "2025-06-27T09:52:51.439592Z",
     "start_time": "2025-06-27T09:52:51.433731Z"
    }
   },
   "source": [
    "df1 = pd.concat([left, right]) # by default axis=0\n",
    "df1"
   ],
   "outputs": [
    {
     "data": {
      "text/plain": [
       "      A    B    C    D\n",
       "K0   A0   B0  NaN  NaN\n",
       "K1   A1   B1  NaN  NaN\n",
       "K2   A2   B2  NaN  NaN\n",
       "K0  NaN  NaN   C0   D0\n",
       "K1  NaN  NaN   C2   D2\n",
       "K2  NaN  NaN   C3   D3"
      ],
      "text/html": [
       "<div>\n",
       "<style scoped>\n",
       "    .dataframe tbody tr th:only-of-type {\n",
       "        vertical-align: middle;\n",
       "    }\n",
       "\n",
       "    .dataframe tbody tr th {\n",
       "        vertical-align: top;\n",
       "    }\n",
       "\n",
       "    .dataframe thead th {\n",
       "        text-align: right;\n",
       "    }\n",
       "</style>\n",
       "<table border=\"1\" class=\"dataframe\">\n",
       "  <thead>\n",
       "    <tr style=\"text-align: right;\">\n",
       "      <th></th>\n",
       "      <th>A</th>\n",
       "      <th>B</th>\n",
       "      <th>C</th>\n",
       "      <th>D</th>\n",
       "    </tr>\n",
       "  </thead>\n",
       "  <tbody>\n",
       "    <tr>\n",
       "      <th>K0</th>\n",
       "      <td>A0</td>\n",
       "      <td>B0</td>\n",
       "      <td>NaN</td>\n",
       "      <td>NaN</td>\n",
       "    </tr>\n",
       "    <tr>\n",
       "      <th>K1</th>\n",
       "      <td>A1</td>\n",
       "      <td>B1</td>\n",
       "      <td>NaN</td>\n",
       "      <td>NaN</td>\n",
       "    </tr>\n",
       "    <tr>\n",
       "      <th>K2</th>\n",
       "      <td>A2</td>\n",
       "      <td>B2</td>\n",
       "      <td>NaN</td>\n",
       "      <td>NaN</td>\n",
       "    </tr>\n",
       "    <tr>\n",
       "      <th>K0</th>\n",
       "      <td>NaN</td>\n",
       "      <td>NaN</td>\n",
       "      <td>C0</td>\n",
       "      <td>D0</td>\n",
       "    </tr>\n",
       "    <tr>\n",
       "      <th>K1</th>\n",
       "      <td>NaN</td>\n",
       "      <td>NaN</td>\n",
       "      <td>C2</td>\n",
       "      <td>D2</td>\n",
       "    </tr>\n",
       "    <tr>\n",
       "      <th>K2</th>\n",
       "      <td>NaN</td>\n",
       "      <td>NaN</td>\n",
       "      <td>C3</td>\n",
       "      <td>D3</td>\n",
       "    </tr>\n",
       "  </tbody>\n",
       "</table>\n",
       "</div>"
      ]
     },
     "execution_count": 259,
     "metadata": {},
     "output_type": "execute_result"
    }
   ],
   "execution_count": 259
  },
  {
   "cell_type": "code",
   "id": "36f1e27c-74f6-43c6-bac3-4ae178a4586b",
   "metadata": {
    "id": "36f1e27c-74f6-43c6-bac3-4ae178a4586b",
    "ExecuteTime": {
     "end_time": "2025-06-27T09:52:51.592230Z",
     "start_time": "2025-06-27T09:52:51.586069Z"
    }
   },
   "source": [
    "# axis=0 to concat along rows, axis=1 to concat along columns.\n",
    "df2 = pd.concat([left, right], axis=0)\n",
    "df2"
   ],
   "outputs": [
    {
     "data": {
      "text/plain": [
       "      A    B    C    D\n",
       "K0   A0   B0  NaN  NaN\n",
       "K1   A1   B1  NaN  NaN\n",
       "K2   A2   B2  NaN  NaN\n",
       "K0  NaN  NaN   C0   D0\n",
       "K1  NaN  NaN   C2   D2\n",
       "K2  NaN  NaN   C3   D3"
      ],
      "text/html": [
       "<div>\n",
       "<style scoped>\n",
       "    .dataframe tbody tr th:only-of-type {\n",
       "        vertical-align: middle;\n",
       "    }\n",
       "\n",
       "    .dataframe tbody tr th {\n",
       "        vertical-align: top;\n",
       "    }\n",
       "\n",
       "    .dataframe thead th {\n",
       "        text-align: right;\n",
       "    }\n",
       "</style>\n",
       "<table border=\"1\" class=\"dataframe\">\n",
       "  <thead>\n",
       "    <tr style=\"text-align: right;\">\n",
       "      <th></th>\n",
       "      <th>A</th>\n",
       "      <th>B</th>\n",
       "      <th>C</th>\n",
       "      <th>D</th>\n",
       "    </tr>\n",
       "  </thead>\n",
       "  <tbody>\n",
       "    <tr>\n",
       "      <th>K0</th>\n",
       "      <td>A0</td>\n",
       "      <td>B0</td>\n",
       "      <td>NaN</td>\n",
       "      <td>NaN</td>\n",
       "    </tr>\n",
       "    <tr>\n",
       "      <th>K1</th>\n",
       "      <td>A1</td>\n",
       "      <td>B1</td>\n",
       "      <td>NaN</td>\n",
       "      <td>NaN</td>\n",
       "    </tr>\n",
       "    <tr>\n",
       "      <th>K2</th>\n",
       "      <td>A2</td>\n",
       "      <td>B2</td>\n",
       "      <td>NaN</td>\n",
       "      <td>NaN</td>\n",
       "    </tr>\n",
       "    <tr>\n",
       "      <th>K0</th>\n",
       "      <td>NaN</td>\n",
       "      <td>NaN</td>\n",
       "      <td>C0</td>\n",
       "      <td>D0</td>\n",
       "    </tr>\n",
       "    <tr>\n",
       "      <th>K1</th>\n",
       "      <td>NaN</td>\n",
       "      <td>NaN</td>\n",
       "      <td>C2</td>\n",
       "      <td>D2</td>\n",
       "    </tr>\n",
       "    <tr>\n",
       "      <th>K2</th>\n",
       "      <td>NaN</td>\n",
       "      <td>NaN</td>\n",
       "      <td>C3</td>\n",
       "      <td>D3</td>\n",
       "    </tr>\n",
       "  </tbody>\n",
       "</table>\n",
       "</div>"
      ]
     },
     "execution_count": 260,
     "metadata": {},
     "output_type": "execute_result"
    }
   ],
   "execution_count": 260
  },
  {
   "cell_type": "code",
   "id": "17e70ead-3abd-4811-b223-4072db3ffbc0",
   "metadata": {
    "id": "17e70ead-3abd-4811-b223-4072db3ffbc0",
    "ExecuteTime": {
     "end_time": "2025-06-27T09:52:51.741910Z",
     "start_time": "2025-06-27T09:52:51.736932Z"
    }
   },
   "source": [
    "df3 = pd.concat([left, right], axis=1)\n",
    "df3"
   ],
   "outputs": [
    {
     "data": {
      "text/plain": [
       "     A   B   C   D\n",
       "K0  A0  B0  C0  D0\n",
       "K1  A1  B1  C2  D2\n",
       "K2  A2  B2  C3  D3"
      ],
      "text/html": [
       "<div>\n",
       "<style scoped>\n",
       "    .dataframe tbody tr th:only-of-type {\n",
       "        vertical-align: middle;\n",
       "    }\n",
       "\n",
       "    .dataframe tbody tr th {\n",
       "        vertical-align: top;\n",
       "    }\n",
       "\n",
       "    .dataframe thead th {\n",
       "        text-align: right;\n",
       "    }\n",
       "</style>\n",
       "<table border=\"1\" class=\"dataframe\">\n",
       "  <thead>\n",
       "    <tr style=\"text-align: right;\">\n",
       "      <th></th>\n",
       "      <th>A</th>\n",
       "      <th>B</th>\n",
       "      <th>C</th>\n",
       "      <th>D</th>\n",
       "    </tr>\n",
       "  </thead>\n",
       "  <tbody>\n",
       "    <tr>\n",
       "      <th>K0</th>\n",
       "      <td>A0</td>\n",
       "      <td>B0</td>\n",
       "      <td>C0</td>\n",
       "      <td>D0</td>\n",
       "    </tr>\n",
       "    <tr>\n",
       "      <th>K1</th>\n",
       "      <td>A1</td>\n",
       "      <td>B1</td>\n",
       "      <td>C2</td>\n",
       "      <td>D2</td>\n",
       "    </tr>\n",
       "    <tr>\n",
       "      <th>K2</th>\n",
       "      <td>A2</td>\n",
       "      <td>B2</td>\n",
       "      <td>C3</td>\n",
       "      <td>D3</td>\n",
       "    </tr>\n",
       "  </tbody>\n",
       "</table>\n",
       "</div>"
      ]
     },
     "execution_count": 261,
     "metadata": {},
     "output_type": "execute_result"
    }
   ],
   "execution_count": 261
  },
  {
   "cell_type": "markdown",
   "id": "27115d39c7a67157",
   "metadata": {
    "collapsed": false,
    "jupyter": {
     "outputs_hidden": false
    },
    "id": "27115d39c7a67157"
   },
   "source": [
    "2. Merging Data (**database-style join**)\n",
    "\n",
    "* Merge using index"
   ]
  },
  {
   "cell_type": "code",
   "id": "2b746abd8173b337",
   "metadata": {
    "jupyter": {
     "outputs_hidden": false
    },
    "id": "2b746abd8173b337",
    "ExecuteTime": {
     "end_time": "2025-06-27T09:52:51.884117Z",
     "start_time": "2025-06-27T09:52:51.877880Z"
    }
   },
   "source": [
    "df1 = pd.DataFrame({'Courses': [\"Spark\", \"PySpark\", \"Python\", \"pandas\"],\n",
    "                    'Fee': [20000, 25000, 22000, 24000],\n",
    "                    'Name': [\"John\", \"James\", \"Peter\", \"David\"]})\n",
    "\n",
    "df2 = pd.DataFrame({'Duration': ['30day', '40days', '35days', '60days', '55days'],\n",
    "                    'Discount': [1000, 2300, 2500, 2000, 3000],\n",
    "                    'Name': [\"John\", \"Billy\", \"Marcus\", \"James\", \"David\"]\n",
    "                   })\n",
    "\n",
    "print(df1, '\\n')\n",
    "print(df2, '\\n')"
   ],
   "outputs": [
    {
     "name": "stdout",
     "output_type": "stream",
     "text": [
      "   Courses    Fee   Name\n",
      "0    Spark  20000   John\n",
      "1  PySpark  25000  James\n",
      "2   Python  22000  Peter\n",
      "3   pandas  24000  David \n",
      "\n",
      "  Duration  Discount    Name\n",
      "0    30day      1000    John\n",
      "1   40days      2300   Billy\n",
      "2   35days      2500  Marcus\n",
      "3   60days      2000   James\n",
      "4   55days      3000   David \n",
      "\n"
     ]
    }
   ],
   "execution_count": 262
  },
  {
   "cell_type": "code",
   "id": "e7e6459a-9777-48a9-ab21-e496a3fe0bf3",
   "metadata": {
    "id": "e7e6459a-9777-48a9-ab21-e496a3fe0bf3",
    "ExecuteTime": {
     "end_time": "2025-06-27T09:52:52.030264Z",
     "start_time": "2025-06-27T09:52:52.023005Z"
    }
   },
   "source": [
    "# By default, merge performs INNER JOIN on column(s) with the SAME name.\n",
    "pd.merge(df1, df2)"
   ],
   "outputs": [
    {
     "data": {
      "text/plain": [
       "   Courses    Fee   Name Duration  Discount\n",
       "0    Spark  20000   John    30day      1000\n",
       "1  PySpark  25000  James   60days      2000\n",
       "2   pandas  24000  David   55days      3000"
      ],
      "text/html": [
       "<div>\n",
       "<style scoped>\n",
       "    .dataframe tbody tr th:only-of-type {\n",
       "        vertical-align: middle;\n",
       "    }\n",
       "\n",
       "    .dataframe tbody tr th {\n",
       "        vertical-align: top;\n",
       "    }\n",
       "\n",
       "    .dataframe thead th {\n",
       "        text-align: right;\n",
       "    }\n",
       "</style>\n",
       "<table border=\"1\" class=\"dataframe\">\n",
       "  <thead>\n",
       "    <tr style=\"text-align: right;\">\n",
       "      <th></th>\n",
       "      <th>Courses</th>\n",
       "      <th>Fee</th>\n",
       "      <th>Name</th>\n",
       "      <th>Duration</th>\n",
       "      <th>Discount</th>\n",
       "    </tr>\n",
       "  </thead>\n",
       "  <tbody>\n",
       "    <tr>\n",
       "      <th>0</th>\n",
       "      <td>Spark</td>\n",
       "      <td>20000</td>\n",
       "      <td>John</td>\n",
       "      <td>30day</td>\n",
       "      <td>1000</td>\n",
       "    </tr>\n",
       "    <tr>\n",
       "      <th>1</th>\n",
       "      <td>PySpark</td>\n",
       "      <td>25000</td>\n",
       "      <td>James</td>\n",
       "      <td>60days</td>\n",
       "      <td>2000</td>\n",
       "    </tr>\n",
       "    <tr>\n",
       "      <th>2</th>\n",
       "      <td>pandas</td>\n",
       "      <td>24000</td>\n",
       "      <td>David</td>\n",
       "      <td>55days</td>\n",
       "      <td>3000</td>\n",
       "    </tr>\n",
       "  </tbody>\n",
       "</table>\n",
       "</div>"
      ]
     },
     "execution_count": 263,
     "metadata": {},
     "output_type": "execute_result"
    }
   ],
   "execution_count": 263
  },
  {
   "cell_type": "code",
   "id": "790b21cb-ed53-4e8e-8cca-7109841aaaff",
   "metadata": {
    "id": "790b21cb-ed53-4e8e-8cca-7109841aaaff",
    "ExecuteTime": {
     "end_time": "2025-06-27T09:52:52.158659Z",
     "start_time": "2025-06-27T09:52:52.152969Z"
    }
   },
   "source": [
    "# Merge two DataFrames by INDEX => using INNER JOIN\n",
    "df3 = pd.merge(df1, df2, left_index=True, right_index=True)\n",
    "df3"
   ],
   "outputs": [
    {
     "data": {
      "text/plain": [
       "   Courses    Fee Name_x Duration  Discount  Name_y\n",
       "0    Spark  20000   John    30day      1000    John\n",
       "1  PySpark  25000  James   40days      2300   Billy\n",
       "2   Python  22000  Peter   35days      2500  Marcus\n",
       "3   pandas  24000  David   60days      2000   James"
      ],
      "text/html": [
       "<div>\n",
       "<style scoped>\n",
       "    .dataframe tbody tr th:only-of-type {\n",
       "        vertical-align: middle;\n",
       "    }\n",
       "\n",
       "    .dataframe tbody tr th {\n",
       "        vertical-align: top;\n",
       "    }\n",
       "\n",
       "    .dataframe thead th {\n",
       "        text-align: right;\n",
       "    }\n",
       "</style>\n",
       "<table border=\"1\" class=\"dataframe\">\n",
       "  <thead>\n",
       "    <tr style=\"text-align: right;\">\n",
       "      <th></th>\n",
       "      <th>Courses</th>\n",
       "      <th>Fee</th>\n",
       "      <th>Name_x</th>\n",
       "      <th>Duration</th>\n",
       "      <th>Discount</th>\n",
       "      <th>Name_y</th>\n",
       "    </tr>\n",
       "  </thead>\n",
       "  <tbody>\n",
       "    <tr>\n",
       "      <th>0</th>\n",
       "      <td>Spark</td>\n",
       "      <td>20000</td>\n",
       "      <td>John</td>\n",
       "      <td>30day</td>\n",
       "      <td>1000</td>\n",
       "      <td>John</td>\n",
       "    </tr>\n",
       "    <tr>\n",
       "      <th>1</th>\n",
       "      <td>PySpark</td>\n",
       "      <td>25000</td>\n",
       "      <td>James</td>\n",
       "      <td>40days</td>\n",
       "      <td>2300</td>\n",
       "      <td>Billy</td>\n",
       "    </tr>\n",
       "    <tr>\n",
       "      <th>2</th>\n",
       "      <td>Python</td>\n",
       "      <td>22000</td>\n",
       "      <td>Peter</td>\n",
       "      <td>35days</td>\n",
       "      <td>2500</td>\n",
       "      <td>Marcus</td>\n",
       "    </tr>\n",
       "    <tr>\n",
       "      <th>3</th>\n",
       "      <td>pandas</td>\n",
       "      <td>24000</td>\n",
       "      <td>David</td>\n",
       "      <td>60days</td>\n",
       "      <td>2000</td>\n",
       "      <td>James</td>\n",
       "    </tr>\n",
       "  </tbody>\n",
       "</table>\n",
       "</div>"
      ]
     },
     "execution_count": 264,
     "metadata": {},
     "output_type": "execute_result"
    }
   ],
   "execution_count": 264
  },
  {
   "cell_type": "markdown",
   "id": "b6990e960aa94f2f",
   "metadata": {
    "collapsed": false,
    "jupyter": {
     "outputs_hidden": false
    },
    "id": "b6990e960aa94f2f"
   },
   "source": [
    "2.2 merge using column name"
   ]
  },
  {
   "cell_type": "code",
   "id": "7de75ce1fe5fa91c",
   "metadata": {
    "jupyter": {
     "outputs_hidden": false
    },
    "id": "7de75ce1fe5fa91c",
    "ExecuteTime": {
     "end_time": "2025-06-27T09:52:52.322415Z",
     "start_time": "2025-06-27T09:52:52.316100Z"
    }
   },
   "source": [
    "# Merge two DataFrames by column using pandas.merge()\n",
    "df3 = pd.merge(df1, df2, on=\"Name\")\n",
    "df3"
   ],
   "outputs": [
    {
     "data": {
      "text/plain": [
       "   Courses    Fee   Name Duration  Discount\n",
       "0    Spark  20000   John    30day      1000\n",
       "1  PySpark  25000  James   60days      2000\n",
       "2   pandas  24000  David   55days      3000"
      ],
      "text/html": [
       "<div>\n",
       "<style scoped>\n",
       "    .dataframe tbody tr th:only-of-type {\n",
       "        vertical-align: middle;\n",
       "    }\n",
       "\n",
       "    .dataframe tbody tr th {\n",
       "        vertical-align: top;\n",
       "    }\n",
       "\n",
       "    .dataframe thead th {\n",
       "        text-align: right;\n",
       "    }\n",
       "</style>\n",
       "<table border=\"1\" class=\"dataframe\">\n",
       "  <thead>\n",
       "    <tr style=\"text-align: right;\">\n",
       "      <th></th>\n",
       "      <th>Courses</th>\n",
       "      <th>Fee</th>\n",
       "      <th>Name</th>\n",
       "      <th>Duration</th>\n",
       "      <th>Discount</th>\n",
       "    </tr>\n",
       "  </thead>\n",
       "  <tbody>\n",
       "    <tr>\n",
       "      <th>0</th>\n",
       "      <td>Spark</td>\n",
       "      <td>20000</td>\n",
       "      <td>John</td>\n",
       "      <td>30day</td>\n",
       "      <td>1000</td>\n",
       "    </tr>\n",
       "    <tr>\n",
       "      <th>1</th>\n",
       "      <td>PySpark</td>\n",
       "      <td>25000</td>\n",
       "      <td>James</td>\n",
       "      <td>60days</td>\n",
       "      <td>2000</td>\n",
       "    </tr>\n",
       "    <tr>\n",
       "      <th>2</th>\n",
       "      <td>pandas</td>\n",
       "      <td>24000</td>\n",
       "      <td>David</td>\n",
       "      <td>55days</td>\n",
       "      <td>3000</td>\n",
       "    </tr>\n",
       "  </tbody>\n",
       "</table>\n",
       "</div>"
      ]
     },
     "execution_count": 265,
     "metadata": {},
     "output_type": "execute_result"
    }
   ],
   "execution_count": 265
  },
  {
   "cell_type": "code",
   "id": "6be9c56e-7849-4ef4-9f9b-793441e8c9b3",
   "metadata": {
    "id": "6be9c56e-7849-4ef4-9f9b-793441e8c9b3",
    "ExecuteTime": {
     "end_time": "2025-06-27T09:52:52.455002Z",
     "start_time": "2025-06-27T09:52:52.448077Z"
    }
   },
   "source": [
    "pd.merge(df1, df2, left_index=True, right_index=True, how='outer')"
   ],
   "outputs": [
    {
     "data": {
      "text/plain": [
       "   Courses      Fee Name_x Duration  Discount  Name_y\n",
       "0    Spark  20000.0   John    30day      1000    John\n",
       "1  PySpark  25000.0  James   40days      2300   Billy\n",
       "2   Python  22000.0  Peter   35days      2500  Marcus\n",
       "3   pandas  24000.0  David   60days      2000   James\n",
       "4      NaN      NaN    NaN   55days      3000   David"
      ],
      "text/html": [
       "<div>\n",
       "<style scoped>\n",
       "    .dataframe tbody tr th:only-of-type {\n",
       "        vertical-align: middle;\n",
       "    }\n",
       "\n",
       "    .dataframe tbody tr th {\n",
       "        vertical-align: top;\n",
       "    }\n",
       "\n",
       "    .dataframe thead th {\n",
       "        text-align: right;\n",
       "    }\n",
       "</style>\n",
       "<table border=\"1\" class=\"dataframe\">\n",
       "  <thead>\n",
       "    <tr style=\"text-align: right;\">\n",
       "      <th></th>\n",
       "      <th>Courses</th>\n",
       "      <th>Fee</th>\n",
       "      <th>Name_x</th>\n",
       "      <th>Duration</th>\n",
       "      <th>Discount</th>\n",
       "      <th>Name_y</th>\n",
       "    </tr>\n",
       "  </thead>\n",
       "  <tbody>\n",
       "    <tr>\n",
       "      <th>0</th>\n",
       "      <td>Spark</td>\n",
       "      <td>20000.0</td>\n",
       "      <td>John</td>\n",
       "      <td>30day</td>\n",
       "      <td>1000</td>\n",
       "      <td>John</td>\n",
       "    </tr>\n",
       "    <tr>\n",
       "      <th>1</th>\n",
       "      <td>PySpark</td>\n",
       "      <td>25000.0</td>\n",
       "      <td>James</td>\n",
       "      <td>40days</td>\n",
       "      <td>2300</td>\n",
       "      <td>Billy</td>\n",
       "    </tr>\n",
       "    <tr>\n",
       "      <th>2</th>\n",
       "      <td>Python</td>\n",
       "      <td>22000.0</td>\n",
       "      <td>Peter</td>\n",
       "      <td>35days</td>\n",
       "      <td>2500</td>\n",
       "      <td>Marcus</td>\n",
       "    </tr>\n",
       "    <tr>\n",
       "      <th>3</th>\n",
       "      <td>pandas</td>\n",
       "      <td>24000.0</td>\n",
       "      <td>David</td>\n",
       "      <td>60days</td>\n",
       "      <td>2000</td>\n",
       "      <td>James</td>\n",
       "    </tr>\n",
       "    <tr>\n",
       "      <th>4</th>\n",
       "      <td>NaN</td>\n",
       "      <td>NaN</td>\n",
       "      <td>NaN</td>\n",
       "      <td>55days</td>\n",
       "      <td>3000</td>\n",
       "      <td>David</td>\n",
       "    </tr>\n",
       "  </tbody>\n",
       "</table>\n",
       "</div>"
      ]
     },
     "execution_count": 266,
     "metadata": {},
     "output_type": "execute_result"
    }
   ],
   "execution_count": 266
  },
  {
   "cell_type": "markdown",
   "id": "39dfca602de13033",
   "metadata": {
    "collapsed": false,
    "jupyter": {
     "outputs_hidden": false
    },
    "id": "39dfca602de13033"
   },
   "source": [
    "3. Joining Data"
   ]
  },
  {
   "cell_type": "code",
   "id": "75221011-c762-464e-a64b-64c745139d6e",
   "metadata": {
    "id": "75221011-c762-464e-a64b-64c745139d6e",
    "ExecuteTime": {
     "end_time": "2025-06-27T09:52:52.669017Z",
     "start_time": "2025-06-27T09:52:52.662150Z"
    }
   },
   "source": [
    "# Full outer join\n",
    "df1.join(df2, lsuffix='_l', rsuffix='_r', how=\"outer\")"
   ],
   "outputs": [
    {
     "data": {
      "text/plain": [
       "   Courses      Fee Name_l Duration  Discount  Name_r\n",
       "0    Spark  20000.0   John    30day      1000    John\n",
       "1  PySpark  25000.0  James   40days      2300   Billy\n",
       "2   Python  22000.0  Peter   35days      2500  Marcus\n",
       "3   pandas  24000.0  David   60days      2000   James\n",
       "4      NaN      NaN    NaN   55days      3000   David"
      ],
      "text/html": [
       "<div>\n",
       "<style scoped>\n",
       "    .dataframe tbody tr th:only-of-type {\n",
       "        vertical-align: middle;\n",
       "    }\n",
       "\n",
       "    .dataframe tbody tr th {\n",
       "        vertical-align: top;\n",
       "    }\n",
       "\n",
       "    .dataframe thead th {\n",
       "        text-align: right;\n",
       "    }\n",
       "</style>\n",
       "<table border=\"1\" class=\"dataframe\">\n",
       "  <thead>\n",
       "    <tr style=\"text-align: right;\">\n",
       "      <th></th>\n",
       "      <th>Courses</th>\n",
       "      <th>Fee</th>\n",
       "      <th>Name_l</th>\n",
       "      <th>Duration</th>\n",
       "      <th>Discount</th>\n",
       "      <th>Name_r</th>\n",
       "    </tr>\n",
       "  </thead>\n",
       "  <tbody>\n",
       "    <tr>\n",
       "      <th>0</th>\n",
       "      <td>Spark</td>\n",
       "      <td>20000.0</td>\n",
       "      <td>John</td>\n",
       "      <td>30day</td>\n",
       "      <td>1000</td>\n",
       "      <td>John</td>\n",
       "    </tr>\n",
       "    <tr>\n",
       "      <th>1</th>\n",
       "      <td>PySpark</td>\n",
       "      <td>25000.0</td>\n",
       "      <td>James</td>\n",
       "      <td>40days</td>\n",
       "      <td>2300</td>\n",
       "      <td>Billy</td>\n",
       "    </tr>\n",
       "    <tr>\n",
       "      <th>2</th>\n",
       "      <td>Python</td>\n",
       "      <td>22000.0</td>\n",
       "      <td>Peter</td>\n",
       "      <td>35days</td>\n",
       "      <td>2500</td>\n",
       "      <td>Marcus</td>\n",
       "    </tr>\n",
       "    <tr>\n",
       "      <th>3</th>\n",
       "      <td>pandas</td>\n",
       "      <td>24000.0</td>\n",
       "      <td>David</td>\n",
       "      <td>60days</td>\n",
       "      <td>2000</td>\n",
       "      <td>James</td>\n",
       "    </tr>\n",
       "    <tr>\n",
       "      <th>4</th>\n",
       "      <td>NaN</td>\n",
       "      <td>NaN</td>\n",
       "      <td>NaN</td>\n",
       "      <td>55days</td>\n",
       "      <td>3000</td>\n",
       "      <td>David</td>\n",
       "    </tr>\n",
       "  </tbody>\n",
       "</table>\n",
       "</div>"
      ]
     },
     "execution_count": 267,
     "metadata": {},
     "output_type": "execute_result"
    }
   ],
   "execution_count": 267
  },
  {
   "cell_type": "code",
   "id": "bfb9f51e-e15c-4362-9e87-f06095dbb0cc",
   "metadata": {
    "id": "bfb9f51e-e15c-4362-9e87-f06095dbb0cc",
    "ExecuteTime": {
     "end_time": "2025-06-27T09:52:52.875978Z",
     "start_time": "2025-06-27T09:52:52.870369Z"
    }
   },
   "source": [
    "# Inner join\n",
    "df1.join(df2, lsuffix='_l', rsuffix='_r', how=\"inner\")"
   ],
   "outputs": [
    {
     "data": {
      "text/plain": [
       "   Courses    Fee Name_l Duration  Discount  Name_r\n",
       "0    Spark  20000   John    30day      1000    John\n",
       "1  PySpark  25000  James   40days      2300   Billy\n",
       "2   Python  22000  Peter   35days      2500  Marcus\n",
       "3   pandas  24000  David   60days      2000   James"
      ],
      "text/html": [
       "<div>\n",
       "<style scoped>\n",
       "    .dataframe tbody tr th:only-of-type {\n",
       "        vertical-align: middle;\n",
       "    }\n",
       "\n",
       "    .dataframe tbody tr th {\n",
       "        vertical-align: top;\n",
       "    }\n",
       "\n",
       "    .dataframe thead th {\n",
       "        text-align: right;\n",
       "    }\n",
       "</style>\n",
       "<table border=\"1\" class=\"dataframe\">\n",
       "  <thead>\n",
       "    <tr style=\"text-align: right;\">\n",
       "      <th></th>\n",
       "      <th>Courses</th>\n",
       "      <th>Fee</th>\n",
       "      <th>Name_l</th>\n",
       "      <th>Duration</th>\n",
       "      <th>Discount</th>\n",
       "      <th>Name_r</th>\n",
       "    </tr>\n",
       "  </thead>\n",
       "  <tbody>\n",
       "    <tr>\n",
       "      <th>0</th>\n",
       "      <td>Spark</td>\n",
       "      <td>20000</td>\n",
       "      <td>John</td>\n",
       "      <td>30day</td>\n",
       "      <td>1000</td>\n",
       "      <td>John</td>\n",
       "    </tr>\n",
       "    <tr>\n",
       "      <th>1</th>\n",
       "      <td>PySpark</td>\n",
       "      <td>25000</td>\n",
       "      <td>James</td>\n",
       "      <td>40days</td>\n",
       "      <td>2300</td>\n",
       "      <td>Billy</td>\n",
       "    </tr>\n",
       "    <tr>\n",
       "      <th>2</th>\n",
       "      <td>Python</td>\n",
       "      <td>22000</td>\n",
       "      <td>Peter</td>\n",
       "      <td>35days</td>\n",
       "      <td>2500</td>\n",
       "      <td>Marcus</td>\n",
       "    </tr>\n",
       "    <tr>\n",
       "      <th>3</th>\n",
       "      <td>pandas</td>\n",
       "      <td>24000</td>\n",
       "      <td>David</td>\n",
       "      <td>60days</td>\n",
       "      <td>2000</td>\n",
       "      <td>James</td>\n",
       "    </tr>\n",
       "  </tbody>\n",
       "</table>\n",
       "</div>"
      ]
     },
     "execution_count": 268,
     "metadata": {},
     "output_type": "execute_result"
    }
   ],
   "execution_count": 268
  },
  {
   "cell_type": "code",
   "id": "6ce655f0-44cd-4c5a-b52e-db686367feb1",
   "metadata": {
    "id": "6ce655f0-44cd-4c5a-b52e-db686367feb1",
    "ExecuteTime": {
     "end_time": "2025-06-27T09:52:53.038706Z",
     "start_time": "2025-06-27T09:52:53.032815Z"
    }
   },
   "source": [
    "df1.join(df2.set_index('Name'), on='Name')"
   ],
   "outputs": [
    {
     "data": {
      "text/plain": [
       "   Courses    Fee   Name Duration  Discount\n",
       "0    Spark  20000   John    30day    1000.0\n",
       "1  PySpark  25000  James   60days    2000.0\n",
       "2   Python  22000  Peter      NaN       NaN\n",
       "3   pandas  24000  David   55days    3000.0"
      ],
      "text/html": [
       "<div>\n",
       "<style scoped>\n",
       "    .dataframe tbody tr th:only-of-type {\n",
       "        vertical-align: middle;\n",
       "    }\n",
       "\n",
       "    .dataframe tbody tr th {\n",
       "        vertical-align: top;\n",
       "    }\n",
       "\n",
       "    .dataframe thead th {\n",
       "        text-align: right;\n",
       "    }\n",
       "</style>\n",
       "<table border=\"1\" class=\"dataframe\">\n",
       "  <thead>\n",
       "    <tr style=\"text-align: right;\">\n",
       "      <th></th>\n",
       "      <th>Courses</th>\n",
       "      <th>Fee</th>\n",
       "      <th>Name</th>\n",
       "      <th>Duration</th>\n",
       "      <th>Discount</th>\n",
       "    </tr>\n",
       "  </thead>\n",
       "  <tbody>\n",
       "    <tr>\n",
       "      <th>0</th>\n",
       "      <td>Spark</td>\n",
       "      <td>20000</td>\n",
       "      <td>John</td>\n",
       "      <td>30day</td>\n",
       "      <td>1000.0</td>\n",
       "    </tr>\n",
       "    <tr>\n",
       "      <th>1</th>\n",
       "      <td>PySpark</td>\n",
       "      <td>25000</td>\n",
       "      <td>James</td>\n",
       "      <td>60days</td>\n",
       "      <td>2000.0</td>\n",
       "    </tr>\n",
       "    <tr>\n",
       "      <th>2</th>\n",
       "      <td>Python</td>\n",
       "      <td>22000</td>\n",
       "      <td>Peter</td>\n",
       "      <td>NaN</td>\n",
       "      <td>NaN</td>\n",
       "    </tr>\n",
       "    <tr>\n",
       "      <th>3</th>\n",
       "      <td>pandas</td>\n",
       "      <td>24000</td>\n",
       "      <td>David</td>\n",
       "      <td>55days</td>\n",
       "      <td>3000.0</td>\n",
       "    </tr>\n",
       "  </tbody>\n",
       "</table>\n",
       "</div>"
      ]
     },
     "execution_count": 269,
     "metadata": {},
     "output_type": "execute_result"
    }
   ],
   "execution_count": 269
  },
  {
   "cell_type": "markdown",
   "id": "f0426c1134d208fa",
   "metadata": {
    "collapsed": false,
    "jupyter": {
     "outputs_hidden": false
    },
    "id": "f0426c1134d208fa"
   },
   "source": [
    "# Missing Values Handling"
   ]
  },
  {
   "cell_type": "code",
   "id": "a88ff139a93788c4",
   "metadata": {
    "jupyter": {
     "outputs_hidden": false
    },
    "id": "a88ff139a93788c4",
    "ExecuteTime": {
     "end_time": "2025-06-27T09:52:53.186903Z",
     "start_time": "2025-06-27T09:52:53.180427Z"
    }
   },
   "source": [
    "# 1. Load the dataset\n",
    "df = pd.read_csv(\"data/prep-data02.csv\")\n",
    "df.head()"
   ],
   "outputs": [
    {
     "data": {
      "text/plain": [
       "        Timestamp  Temperature  Humidity  Airflow Weather Condition\n",
       "0   5/1/2023 0:00         22.5      65.0      1.2             Clear\n",
       "1   5/1/2023 3:00          NaN      70.0      0.8     Partly Cloudy\n",
       "2   5/1/2023 6:00         19.2      75.0      NaN            Cloudy\n",
       "3   5/1/2023 9:00         24.1      60.0      2.1             Sunny\n",
       "4  5/1/2023 12:00         27.8      55.0      NaN             Sunny"
      ],
      "text/html": [
       "<div>\n",
       "<style scoped>\n",
       "    .dataframe tbody tr th:only-of-type {\n",
       "        vertical-align: middle;\n",
       "    }\n",
       "\n",
       "    .dataframe tbody tr th {\n",
       "        vertical-align: top;\n",
       "    }\n",
       "\n",
       "    .dataframe thead th {\n",
       "        text-align: right;\n",
       "    }\n",
       "</style>\n",
       "<table border=\"1\" class=\"dataframe\">\n",
       "  <thead>\n",
       "    <tr style=\"text-align: right;\">\n",
       "      <th></th>\n",
       "      <th>Timestamp</th>\n",
       "      <th>Temperature</th>\n",
       "      <th>Humidity</th>\n",
       "      <th>Airflow</th>\n",
       "      <th>Weather Condition</th>\n",
       "    </tr>\n",
       "  </thead>\n",
       "  <tbody>\n",
       "    <tr>\n",
       "      <th>0</th>\n",
       "      <td>5/1/2023 0:00</td>\n",
       "      <td>22.5</td>\n",
       "      <td>65.0</td>\n",
       "      <td>1.2</td>\n",
       "      <td>Clear</td>\n",
       "    </tr>\n",
       "    <tr>\n",
       "      <th>1</th>\n",
       "      <td>5/1/2023 3:00</td>\n",
       "      <td>NaN</td>\n",
       "      <td>70.0</td>\n",
       "      <td>0.8</td>\n",
       "      <td>Partly Cloudy</td>\n",
       "    </tr>\n",
       "    <tr>\n",
       "      <th>2</th>\n",
       "      <td>5/1/2023 6:00</td>\n",
       "      <td>19.2</td>\n",
       "      <td>75.0</td>\n",
       "      <td>NaN</td>\n",
       "      <td>Cloudy</td>\n",
       "    </tr>\n",
       "    <tr>\n",
       "      <th>3</th>\n",
       "      <td>5/1/2023 9:00</td>\n",
       "      <td>24.1</td>\n",
       "      <td>60.0</td>\n",
       "      <td>2.1</td>\n",
       "      <td>Sunny</td>\n",
       "    </tr>\n",
       "    <tr>\n",
       "      <th>4</th>\n",
       "      <td>5/1/2023 12:00</td>\n",
       "      <td>27.8</td>\n",
       "      <td>55.0</td>\n",
       "      <td>NaN</td>\n",
       "      <td>Sunny</td>\n",
       "    </tr>\n",
       "  </tbody>\n",
       "</table>\n",
       "</div>"
      ]
     },
     "execution_count": 270,
     "metadata": {},
     "output_type": "execute_result"
    }
   ],
   "execution_count": 270
  },
  {
   "cell_type": "code",
   "id": "f33e481b-784d-4a8d-8c5a-aa23b8c85980",
   "metadata": {
    "id": "f33e481b-784d-4a8d-8c5a-aa23b8c85980",
    "ExecuteTime": {
     "end_time": "2025-06-27T09:52:53.334065Z",
     "start_time": "2025-06-27T09:52:53.331543Z"
    }
   },
   "source": [
    "len(df)"
   ],
   "outputs": [
    {
     "data": {
      "text/plain": [
       "67"
      ]
     },
     "execution_count": 271,
     "metadata": {},
     "output_type": "execute_result"
    }
   ],
   "execution_count": 271
  },
  {
   "cell_type": "code",
   "id": "9ac6608c-1915-401f-b0b3-f6767f45eaba",
   "metadata": {
    "id": "9ac6608c-1915-401f-b0b3-f6767f45eaba",
    "ExecuteTime": {
     "end_time": "2025-06-27T09:52:53.462496Z",
     "start_time": "2025-06-27T09:52:53.451130Z"
    }
   },
   "source": [
    "df.describe(include='all')"
   ],
   "outputs": [
    {
     "data": {
      "text/plain": [
       "            Timestamp  Temperature   Humidity    Airflow Weather Condition\n",
       "count              67    62.000000  64.000000  63.000000                67\n",
       "unique             37          NaN        NaN        NaN                 5\n",
       "top     5/1/2023 0:00          NaN        NaN        NaN     Partly Cloudy\n",
       "freq                2          NaN        NaN        NaN                23\n",
       "mean              NaN    22.432258  67.078125   1.826984               NaN\n",
       "std               NaN     3.375018   8.794487   0.981475               NaN\n",
       "min               NaN    16.500000  50.000000   0.500000               NaN\n",
       "25%               NaN    19.900000  60.000000   1.000000               NaN\n",
       "50%               NaN    22.000000  67.500000   1.600000               NaN\n",
       "75%               NaN    24.700000  74.250000   2.450000               NaN\n",
       "max               NaN    29.500000  82.000000   3.800000               NaN"
      ],
      "text/html": [
       "<div>\n",
       "<style scoped>\n",
       "    .dataframe tbody tr th:only-of-type {\n",
       "        vertical-align: middle;\n",
       "    }\n",
       "\n",
       "    .dataframe tbody tr th {\n",
       "        vertical-align: top;\n",
       "    }\n",
       "\n",
       "    .dataframe thead th {\n",
       "        text-align: right;\n",
       "    }\n",
       "</style>\n",
       "<table border=\"1\" class=\"dataframe\">\n",
       "  <thead>\n",
       "    <tr style=\"text-align: right;\">\n",
       "      <th></th>\n",
       "      <th>Timestamp</th>\n",
       "      <th>Temperature</th>\n",
       "      <th>Humidity</th>\n",
       "      <th>Airflow</th>\n",
       "      <th>Weather Condition</th>\n",
       "    </tr>\n",
       "  </thead>\n",
       "  <tbody>\n",
       "    <tr>\n",
       "      <th>count</th>\n",
       "      <td>67</td>\n",
       "      <td>62.000000</td>\n",
       "      <td>64.000000</td>\n",
       "      <td>63.000000</td>\n",
       "      <td>67</td>\n",
       "    </tr>\n",
       "    <tr>\n",
       "      <th>unique</th>\n",
       "      <td>37</td>\n",
       "      <td>NaN</td>\n",
       "      <td>NaN</td>\n",
       "      <td>NaN</td>\n",
       "      <td>5</td>\n",
       "    </tr>\n",
       "    <tr>\n",
       "      <th>top</th>\n",
       "      <td>5/1/2023 0:00</td>\n",
       "      <td>NaN</td>\n",
       "      <td>NaN</td>\n",
       "      <td>NaN</td>\n",
       "      <td>Partly Cloudy</td>\n",
       "    </tr>\n",
       "    <tr>\n",
       "      <th>freq</th>\n",
       "      <td>2</td>\n",
       "      <td>NaN</td>\n",
       "      <td>NaN</td>\n",
       "      <td>NaN</td>\n",
       "      <td>23</td>\n",
       "    </tr>\n",
       "    <tr>\n",
       "      <th>mean</th>\n",
       "      <td>NaN</td>\n",
       "      <td>22.432258</td>\n",
       "      <td>67.078125</td>\n",
       "      <td>1.826984</td>\n",
       "      <td>NaN</td>\n",
       "    </tr>\n",
       "    <tr>\n",
       "      <th>std</th>\n",
       "      <td>NaN</td>\n",
       "      <td>3.375018</td>\n",
       "      <td>8.794487</td>\n",
       "      <td>0.981475</td>\n",
       "      <td>NaN</td>\n",
       "    </tr>\n",
       "    <tr>\n",
       "      <th>min</th>\n",
       "      <td>NaN</td>\n",
       "      <td>16.500000</td>\n",
       "      <td>50.000000</td>\n",
       "      <td>0.500000</td>\n",
       "      <td>NaN</td>\n",
       "    </tr>\n",
       "    <tr>\n",
       "      <th>25%</th>\n",
       "      <td>NaN</td>\n",
       "      <td>19.900000</td>\n",
       "      <td>60.000000</td>\n",
       "      <td>1.000000</td>\n",
       "      <td>NaN</td>\n",
       "    </tr>\n",
       "    <tr>\n",
       "      <th>50%</th>\n",
       "      <td>NaN</td>\n",
       "      <td>22.000000</td>\n",
       "      <td>67.500000</td>\n",
       "      <td>1.600000</td>\n",
       "      <td>NaN</td>\n",
       "    </tr>\n",
       "    <tr>\n",
       "      <th>75%</th>\n",
       "      <td>NaN</td>\n",
       "      <td>24.700000</td>\n",
       "      <td>74.250000</td>\n",
       "      <td>2.450000</td>\n",
       "      <td>NaN</td>\n",
       "    </tr>\n",
       "    <tr>\n",
       "      <th>max</th>\n",
       "      <td>NaN</td>\n",
       "      <td>29.500000</td>\n",
       "      <td>82.000000</td>\n",
       "      <td>3.800000</td>\n",
       "      <td>NaN</td>\n",
       "    </tr>\n",
       "  </tbody>\n",
       "</table>\n",
       "</div>"
      ]
     },
     "execution_count": 272,
     "metadata": {},
     "output_type": "execute_result"
    }
   ],
   "execution_count": 272
  },
  {
   "cell_type": "code",
   "id": "0d6b5e0f-35ff-46b1-9b2a-a9af3fd7a74c",
   "metadata": {
    "id": "0d6b5e0f-35ff-46b1-9b2a-a9af3fd7a74c",
    "ExecuteTime": {
     "end_time": "2025-06-27T09:52:53.575105Z",
     "start_time": "2025-06-27T09:52:53.573498Z"
    }
   },
   "source": [],
   "outputs": [],
   "execution_count": null
  },
  {
   "cell_type": "code",
   "id": "b2c5809b-7b0e-408a-ad34-eec53c941cc3",
   "metadata": {
    "id": "b2c5809b-7b0e-408a-ad34-eec53c941cc3",
    "ExecuteTime": {
     "end_time": "2025-06-27T09:52:53.772425Z",
     "start_time": "2025-06-27T09:52:53.771033Z"
    }
   },
   "source": [],
   "outputs": [],
   "execution_count": null
  },
  {
   "cell_type": "code",
   "id": "3cfb04e4-9cd7-44e8-b254-3c190fad1ff2",
   "metadata": {
    "id": "3cfb04e4-9cd7-44e8-b254-3c190fad1ff2",
    "ExecuteTime": {
     "end_time": "2025-06-27T09:52:53.812562Z",
     "start_time": "2025-06-27T09:52:53.808544Z"
    }
   },
   "source": [
    "# # 2. Check the datatype for each column\n",
    "df.dtypes"
   ],
   "outputs": [
    {
     "data": {
      "text/plain": [
       "Timestamp             object\n",
       "Temperature          float64\n",
       "Humidity             float64\n",
       "Airflow              float64\n",
       "Weather Condition     object\n",
       "dtype: object"
      ]
     },
     "execution_count": 273,
     "metadata": {},
     "output_type": "execute_result"
    }
   ],
   "execution_count": 273
  },
  {
   "cell_type": "code",
   "id": "f8b06ed3-86c8-4709-8738-2f88c4f5c314",
   "metadata": {
    "id": "f8b06ed3-86c8-4709-8738-2f88c4f5c314",
    "ExecuteTime": {
     "end_time": "2025-06-27T09:52:53.917596Z",
     "start_time": "2025-06-27T09:52:53.907114Z"
    }
   },
   "source": [
    "# 3. Data Summary\n",
    "df.describe(include='all')"
   ],
   "outputs": [
    {
     "data": {
      "text/plain": [
       "            Timestamp  Temperature   Humidity    Airflow Weather Condition\n",
       "count              67    62.000000  64.000000  63.000000                67\n",
       "unique             37          NaN        NaN        NaN                 5\n",
       "top     5/1/2023 0:00          NaN        NaN        NaN     Partly Cloudy\n",
       "freq                2          NaN        NaN        NaN                23\n",
       "mean              NaN    22.432258  67.078125   1.826984               NaN\n",
       "std               NaN     3.375018   8.794487   0.981475               NaN\n",
       "min               NaN    16.500000  50.000000   0.500000               NaN\n",
       "25%               NaN    19.900000  60.000000   1.000000               NaN\n",
       "50%               NaN    22.000000  67.500000   1.600000               NaN\n",
       "75%               NaN    24.700000  74.250000   2.450000               NaN\n",
       "max               NaN    29.500000  82.000000   3.800000               NaN"
      ],
      "text/html": [
       "<div>\n",
       "<style scoped>\n",
       "    .dataframe tbody tr th:only-of-type {\n",
       "        vertical-align: middle;\n",
       "    }\n",
       "\n",
       "    .dataframe tbody tr th {\n",
       "        vertical-align: top;\n",
       "    }\n",
       "\n",
       "    .dataframe thead th {\n",
       "        text-align: right;\n",
       "    }\n",
       "</style>\n",
       "<table border=\"1\" class=\"dataframe\">\n",
       "  <thead>\n",
       "    <tr style=\"text-align: right;\">\n",
       "      <th></th>\n",
       "      <th>Timestamp</th>\n",
       "      <th>Temperature</th>\n",
       "      <th>Humidity</th>\n",
       "      <th>Airflow</th>\n",
       "      <th>Weather Condition</th>\n",
       "    </tr>\n",
       "  </thead>\n",
       "  <tbody>\n",
       "    <tr>\n",
       "      <th>count</th>\n",
       "      <td>67</td>\n",
       "      <td>62.000000</td>\n",
       "      <td>64.000000</td>\n",
       "      <td>63.000000</td>\n",
       "      <td>67</td>\n",
       "    </tr>\n",
       "    <tr>\n",
       "      <th>unique</th>\n",
       "      <td>37</td>\n",
       "      <td>NaN</td>\n",
       "      <td>NaN</td>\n",
       "      <td>NaN</td>\n",
       "      <td>5</td>\n",
       "    </tr>\n",
       "    <tr>\n",
       "      <th>top</th>\n",
       "      <td>5/1/2023 0:00</td>\n",
       "      <td>NaN</td>\n",
       "      <td>NaN</td>\n",
       "      <td>NaN</td>\n",
       "      <td>Partly Cloudy</td>\n",
       "    </tr>\n",
       "    <tr>\n",
       "      <th>freq</th>\n",
       "      <td>2</td>\n",
       "      <td>NaN</td>\n",
       "      <td>NaN</td>\n",
       "      <td>NaN</td>\n",
       "      <td>23</td>\n",
       "    </tr>\n",
       "    <tr>\n",
       "      <th>mean</th>\n",
       "      <td>NaN</td>\n",
       "      <td>22.432258</td>\n",
       "      <td>67.078125</td>\n",
       "      <td>1.826984</td>\n",
       "      <td>NaN</td>\n",
       "    </tr>\n",
       "    <tr>\n",
       "      <th>std</th>\n",
       "      <td>NaN</td>\n",
       "      <td>3.375018</td>\n",
       "      <td>8.794487</td>\n",
       "      <td>0.981475</td>\n",
       "      <td>NaN</td>\n",
       "    </tr>\n",
       "    <tr>\n",
       "      <th>min</th>\n",
       "      <td>NaN</td>\n",
       "      <td>16.500000</td>\n",
       "      <td>50.000000</td>\n",
       "      <td>0.500000</td>\n",
       "      <td>NaN</td>\n",
       "    </tr>\n",
       "    <tr>\n",
       "      <th>25%</th>\n",
       "      <td>NaN</td>\n",
       "      <td>19.900000</td>\n",
       "      <td>60.000000</td>\n",
       "      <td>1.000000</td>\n",
       "      <td>NaN</td>\n",
       "    </tr>\n",
       "    <tr>\n",
       "      <th>50%</th>\n",
       "      <td>NaN</td>\n",
       "      <td>22.000000</td>\n",
       "      <td>67.500000</td>\n",
       "      <td>1.600000</td>\n",
       "      <td>NaN</td>\n",
       "    </tr>\n",
       "    <tr>\n",
       "      <th>75%</th>\n",
       "      <td>NaN</td>\n",
       "      <td>24.700000</td>\n",
       "      <td>74.250000</td>\n",
       "      <td>2.450000</td>\n",
       "      <td>NaN</td>\n",
       "    </tr>\n",
       "    <tr>\n",
       "      <th>max</th>\n",
       "      <td>NaN</td>\n",
       "      <td>29.500000</td>\n",
       "      <td>82.000000</td>\n",
       "      <td>3.800000</td>\n",
       "      <td>NaN</td>\n",
       "    </tr>\n",
       "  </tbody>\n",
       "</table>\n",
       "</div>"
      ]
     },
     "execution_count": 274,
     "metadata": {},
     "output_type": "execute_result"
    }
   ],
   "execution_count": 274
  },
  {
   "cell_type": "code",
   "id": "109de988-54cb-4a5b-8501-059a3dfebe18",
   "metadata": {
    "id": "109de988-54cb-4a5b-8501-059a3dfebe18",
    "ExecuteTime": {
     "end_time": "2025-06-27T09:52:54.001954Z",
     "start_time": "2025-06-27T09:52:53.996295Z"
    }
   },
   "source": [
    "# 4. Finding the missing values\n",
    "# # 4.1 Check for missing data in any of the variables.\n",
    "df.info()"
   ],
   "outputs": [
    {
     "name": "stdout",
     "output_type": "stream",
     "text": [
      "<class 'pandas.core.frame.DataFrame'>\n",
      "RangeIndex: 67 entries, 0 to 66\n",
      "Data columns (total 5 columns):\n",
      " #   Column             Non-Null Count  Dtype  \n",
      "---  ------             --------------  -----  \n",
      " 0   Timestamp          67 non-null     object \n",
      " 1   Temperature        62 non-null     float64\n",
      " 2   Humidity           64 non-null     float64\n",
      " 3   Airflow            63 non-null     float64\n",
      " 4   Weather Condition  67 non-null     object \n",
      "dtypes: float64(3), object(2)\n",
      "memory usage: 2.7+ KB\n"
     ]
    }
   ],
   "execution_count": 275
  },
  {
   "cell_type": "code",
   "id": "a6c2c2ba-5feb-4a3e-806c-9b6782ee4583",
   "metadata": {
    "id": "a6c2c2ba-5feb-4a3e-806c-9b6782ee4583",
    "ExecuteTime": {
     "end_time": "2025-06-27T09:52:54.138268Z",
     "start_time": "2025-06-27T09:52:54.135393Z"
    }
   },
   "source": [
    "len(df)"
   ],
   "outputs": [
    {
     "data": {
      "text/plain": [
       "67"
      ]
     },
     "execution_count": 276,
     "metadata": {},
     "output_type": "execute_result"
    }
   ],
   "execution_count": 276
  },
  {
   "cell_type": "code",
   "id": "2d34f80d-56aa-4b3d-b1e1-9192b2c405eb",
   "metadata": {
    "id": "2d34f80d-56aa-4b3d-b1e1-9192b2c405eb",
    "ExecuteTime": {
     "end_time": "2025-06-27T09:52:54.258286Z",
     "start_time": "2025-06-27T09:52:54.252701Z"
    }
   },
   "source": [
    "df.isna()"
   ],
   "outputs": [
    {
     "data": {
      "text/plain": [
       "    Timestamp  Temperature  Humidity  Airflow  Weather Condition\n",
       "0       False        False     False    False              False\n",
       "1       False         True     False    False              False\n",
       "2       False        False     False     True              False\n",
       "3       False        False     False    False              False\n",
       "4       False        False     False     True              False\n",
       "..        ...          ...       ...      ...                ...\n",
       "62      False        False     False    False              False\n",
       "63      False         True     False    False              False\n",
       "64      False        False     False    False              False\n",
       "65      False        False     False    False              False\n",
       "66      False        False     False    False              False\n",
       "\n",
       "[67 rows x 5 columns]"
      ],
      "text/html": [
       "<div>\n",
       "<style scoped>\n",
       "    .dataframe tbody tr th:only-of-type {\n",
       "        vertical-align: middle;\n",
       "    }\n",
       "\n",
       "    .dataframe tbody tr th {\n",
       "        vertical-align: top;\n",
       "    }\n",
       "\n",
       "    .dataframe thead th {\n",
       "        text-align: right;\n",
       "    }\n",
       "</style>\n",
       "<table border=\"1\" class=\"dataframe\">\n",
       "  <thead>\n",
       "    <tr style=\"text-align: right;\">\n",
       "      <th></th>\n",
       "      <th>Timestamp</th>\n",
       "      <th>Temperature</th>\n",
       "      <th>Humidity</th>\n",
       "      <th>Airflow</th>\n",
       "      <th>Weather Condition</th>\n",
       "    </tr>\n",
       "  </thead>\n",
       "  <tbody>\n",
       "    <tr>\n",
       "      <th>0</th>\n",
       "      <td>False</td>\n",
       "      <td>False</td>\n",
       "      <td>False</td>\n",
       "      <td>False</td>\n",
       "      <td>False</td>\n",
       "    </tr>\n",
       "    <tr>\n",
       "      <th>1</th>\n",
       "      <td>False</td>\n",
       "      <td>True</td>\n",
       "      <td>False</td>\n",
       "      <td>False</td>\n",
       "      <td>False</td>\n",
       "    </tr>\n",
       "    <tr>\n",
       "      <th>2</th>\n",
       "      <td>False</td>\n",
       "      <td>False</td>\n",
       "      <td>False</td>\n",
       "      <td>True</td>\n",
       "      <td>False</td>\n",
       "    </tr>\n",
       "    <tr>\n",
       "      <th>3</th>\n",
       "      <td>False</td>\n",
       "      <td>False</td>\n",
       "      <td>False</td>\n",
       "      <td>False</td>\n",
       "      <td>False</td>\n",
       "    </tr>\n",
       "    <tr>\n",
       "      <th>4</th>\n",
       "      <td>False</td>\n",
       "      <td>False</td>\n",
       "      <td>False</td>\n",
       "      <td>True</td>\n",
       "      <td>False</td>\n",
       "    </tr>\n",
       "    <tr>\n",
       "      <th>...</th>\n",
       "      <td>...</td>\n",
       "      <td>...</td>\n",
       "      <td>...</td>\n",
       "      <td>...</td>\n",
       "      <td>...</td>\n",
       "    </tr>\n",
       "    <tr>\n",
       "      <th>62</th>\n",
       "      <td>False</td>\n",
       "      <td>False</td>\n",
       "      <td>False</td>\n",
       "      <td>False</td>\n",
       "      <td>False</td>\n",
       "    </tr>\n",
       "    <tr>\n",
       "      <th>63</th>\n",
       "      <td>False</td>\n",
       "      <td>True</td>\n",
       "      <td>False</td>\n",
       "      <td>False</td>\n",
       "      <td>False</td>\n",
       "    </tr>\n",
       "    <tr>\n",
       "      <th>64</th>\n",
       "      <td>False</td>\n",
       "      <td>False</td>\n",
       "      <td>False</td>\n",
       "      <td>False</td>\n",
       "      <td>False</td>\n",
       "    </tr>\n",
       "    <tr>\n",
       "      <th>65</th>\n",
       "      <td>False</td>\n",
       "      <td>False</td>\n",
       "      <td>False</td>\n",
       "      <td>False</td>\n",
       "      <td>False</td>\n",
       "    </tr>\n",
       "    <tr>\n",
       "      <th>66</th>\n",
       "      <td>False</td>\n",
       "      <td>False</td>\n",
       "      <td>False</td>\n",
       "      <td>False</td>\n",
       "      <td>False</td>\n",
       "    </tr>\n",
       "  </tbody>\n",
       "</table>\n",
       "<p>67 rows × 5 columns</p>\n",
       "</div>"
      ]
     },
     "execution_count": 277,
     "metadata": {},
     "output_type": "execute_result"
    }
   ],
   "execution_count": 277
  },
  {
   "cell_type": "code",
   "id": "bbecaa1d-595b-4b4e-9292-f84072fbe273",
   "metadata": {
    "id": "bbecaa1d-595b-4b4e-9292-f84072fbe273",
    "ExecuteTime": {
     "end_time": "2025-06-27T09:52:54.348533Z",
     "start_time": "2025-06-27T09:52:54.347120Z"
    }
   },
   "source": [],
   "outputs": [],
   "execution_count": null
  },
  {
   "cell_type": "code",
   "id": "5ba69e61-b9ab-42e2-aea2-da07785967cc",
   "metadata": {
    "id": "5ba69e61-b9ab-42e2-aea2-da07785967cc",
    "ExecuteTime": {
     "end_time": "2025-06-27T09:52:54.435123Z",
     "start_time": "2025-06-27T09:52:54.428668Z"
    }
   },
   "source": [
    "df[df['Airflow'].isnull()]"
   ],
   "outputs": [
    {
     "data": {
      "text/plain": [
       "         Timestamp  Temperature  Humidity  Airflow Weather Condition\n",
       "2    5/1/2023 6:00         19.2      75.0      NaN            Cloudy\n",
       "4   5/1/2023 12:00         27.8      55.0      NaN             Sunny\n",
       "21  5/3/2023 15:00         27.4      55.0      NaN             Sunny\n",
       "50  5/3/2023 12:00         24.8      60.0      NaN             Sunny"
      ],
      "text/html": [
       "<div>\n",
       "<style scoped>\n",
       "    .dataframe tbody tr th:only-of-type {\n",
       "        vertical-align: middle;\n",
       "    }\n",
       "\n",
       "    .dataframe tbody tr th {\n",
       "        vertical-align: top;\n",
       "    }\n",
       "\n",
       "    .dataframe thead th {\n",
       "        text-align: right;\n",
       "    }\n",
       "</style>\n",
       "<table border=\"1\" class=\"dataframe\">\n",
       "  <thead>\n",
       "    <tr style=\"text-align: right;\">\n",
       "      <th></th>\n",
       "      <th>Timestamp</th>\n",
       "      <th>Temperature</th>\n",
       "      <th>Humidity</th>\n",
       "      <th>Airflow</th>\n",
       "      <th>Weather Condition</th>\n",
       "    </tr>\n",
       "  </thead>\n",
       "  <tbody>\n",
       "    <tr>\n",
       "      <th>2</th>\n",
       "      <td>5/1/2023 6:00</td>\n",
       "      <td>19.2</td>\n",
       "      <td>75.0</td>\n",
       "      <td>NaN</td>\n",
       "      <td>Cloudy</td>\n",
       "    </tr>\n",
       "    <tr>\n",
       "      <th>4</th>\n",
       "      <td>5/1/2023 12:00</td>\n",
       "      <td>27.8</td>\n",
       "      <td>55.0</td>\n",
       "      <td>NaN</td>\n",
       "      <td>Sunny</td>\n",
       "    </tr>\n",
       "    <tr>\n",
       "      <th>21</th>\n",
       "      <td>5/3/2023 15:00</td>\n",
       "      <td>27.4</td>\n",
       "      <td>55.0</td>\n",
       "      <td>NaN</td>\n",
       "      <td>Sunny</td>\n",
       "    </tr>\n",
       "    <tr>\n",
       "      <th>50</th>\n",
       "      <td>5/3/2023 12:00</td>\n",
       "      <td>24.8</td>\n",
       "      <td>60.0</td>\n",
       "      <td>NaN</td>\n",
       "      <td>Sunny</td>\n",
       "    </tr>\n",
       "  </tbody>\n",
       "</table>\n",
       "</div>"
      ]
     },
     "execution_count": 278,
     "metadata": {},
     "output_type": "execute_result"
    }
   ],
   "execution_count": 278
  },
  {
   "cell_type": "code",
   "id": "2b62a77f-e86b-47c4-b75e-bd7abd4905b3",
   "metadata": {
    "id": "2b62a77f-e86b-47c4-b75e-bd7abd4905b3",
    "ExecuteTime": {
     "end_time": "2025-06-27T09:52:54.548596Z",
     "start_time": "2025-06-27T09:52:54.544452Z"
    }
   },
   "source": [
    "# # 4.2 Finding the missing values in each column\n",
    "df.isnull().sum()"
   ],
   "outputs": [
    {
     "data": {
      "text/plain": [
       "Timestamp            0\n",
       "Temperature          5\n",
       "Humidity             3\n",
       "Airflow              4\n",
       "Weather Condition    0\n",
       "dtype: int64"
      ]
     },
     "execution_count": 279,
     "metadata": {},
     "output_type": "execute_result"
    }
   ],
   "execution_count": 279
  },
  {
   "cell_type": "code",
   "id": "1d35121c-ab20-4e6e-b5ff-8b7a20c430f8",
   "metadata": {
    "id": "1d35121c-ab20-4e6e-b5ff-8b7a20c430f8",
    "ExecuteTime": {
     "end_time": "2025-06-27T09:52:54.641729Z",
     "start_time": "2025-06-27T09:52:54.630204Z"
    }
   },
   "source": [
    "# 5. Handling Missing Values\n",
    "# # 5.1 Drop missing values\n",
    "datadrop = df.dropna()\n",
    "datadrop"
   ],
   "outputs": [
    {
     "data": {
      "text/plain": [
       "         Timestamp  Temperature  Humidity  Airflow Weather Condition\n",
       "0    5/1/2023 0:00         22.5      65.0      1.2             Clear\n",
       "3    5/1/2023 9:00         24.1      60.0      2.1             Sunny\n",
       "5   5/1/2023 15:00         29.5      50.0      3.2             Sunny\n",
       "6   5/1/2023 18:00         26.3      62.0      2.0     Partly Cloudy\n",
       "8    5/2/2023 0:00         21.9      72.0      1.0     Partly Cloudy\n",
       "9    5/2/2023 3:00         20.2      75.0      0.6            Cloudy\n",
       "10   5/2/2023 6:00         18.8      80.0      1.2        Light Rain\n",
       "11   5/2/2023 9:00         22.4      65.0      2.5     Partly Cloudy\n",
       "12  5/2/2023 12:00         25.9      58.0      3.1             Sunny\n",
       "13  5/2/2023 15:00         28.2      52.0      3.6             Sunny\n",
       "15  5/2/2023 21:00         22.1      70.0      1.6             Clear\n",
       "16   5/3/2023 0:00         20.5      74.0      0.9     Partly Cloudy\n",
       "17   5/3/2023 3:00         19.1      78.0      0.5            Cloudy\n",
       "18   5/3/2023 6:00         17.9      82.0      1.0        Light Rain\n",
       "19   5/3/2023 9:00         21.3      68.0      2.2     Partly Cloudy\n",
       "20  5/3/2023 12:00         24.8      60.0      3.0             Sunny\n",
       "23  5/3/2023 21:00         21.2      67.0      1.4             Clear\n",
       "24   5/4/2023 0:00         19.8      71.0      0.8     Partly Cloudy\n",
       "25   5/4/2023 3:00         18.4      75.0      0.6            Cloudy\n",
       "26   5/4/2023 6:00         17.1      80.0      1.1        Light Rain\n",
       "27   5/4/2023 9:00         20.6      65.0      2.4     Partly Cloudy\n",
       "28  5/4/2023 12:00         24.2      58.0      3.2             Sunny\n",
       "30   5/1/2023 0:00         22.5      65.0      1.2             Clear\n",
       "31   5/1/2023 3:00         20.8      70.0      0.8     Partly Cloudy\n",
       "32   5/1/2023 6:00         19.2      75.0      1.5            Cloudy\n",
       "33   5/1/2023 9:00         24.1      60.0      2.1             Sunny\n",
       "34  5/1/2023 12:00         27.8      55.0      2.8             Sunny\n",
       "35  5/1/2023 15:00         29.5      50.0      3.2             Sunny\n",
       "36  5/1/2023 18:00         26.3      62.0      2.0     Partly Cloudy\n",
       "37  5/1/2023 21:00         23.7      68.0      1.4             Clear\n",
       "38   5/2/2023 0:00         21.9      72.0      1.0     Partly Cloudy\n",
       "39   5/2/2023 3:00         20.2      75.0      0.6            Cloudy\n",
       "40   5/2/2023 6:00         18.8      80.0      1.2        Light Rain\n",
       "41   5/2/2023 9:00         22.4      65.0      2.5     Partly Cloudy\n",
       "43  5/2/2023 15:00         28.2      52.0      3.6             Sunny\n",
       "44  5/2/2023 18:00         24.7      65.0      2.3     Partly Cloudy\n",
       "45  5/2/2023 21:00         22.1      70.0      1.6             Clear\n",
       "46   5/3/2023 0:00         20.5      74.0      0.9     Partly Cloudy\n",
       "47   5/3/2023 3:00         19.1      78.0      0.5            Cloudy\n",
       "48   5/3/2023 6:00         17.9      82.0      1.0        Light Rain\n",
       "49   5/3/2023 9:00         21.3      68.0      2.2     Partly Cloudy\n",
       "51  5/3/2023 15:00         27.4      55.0      3.5             Sunny\n",
       "52  5/3/2023 18:00         23.9      62.0      2.1     Partly Cloudy\n",
       "53  5/3/2023 21:00         21.2      67.0      1.4             Clear\n",
       "54   5/4/2023 0:00         19.8      71.0      0.8     Partly Cloudy\n",
       "55   5/4/2023 3:00         18.4      75.0      0.6            Cloudy\n",
       "56   5/4/2023 6:00         17.1      80.0      1.1        Light Rain\n",
       "58  5/4/2023 12:00         24.2      58.0      3.2             Sunny\n",
       "59  5/4/2023 15:00         26.8      53.0      3.8             Sunny\n",
       "60  5/4/2023 18:00         23.1      65.0      2.0     Partly Cloudy\n",
       "61  5/4/2023 21:00         20.4      70.0      1.2             Clear\n",
       "62   5/5/2023 0:00         19.1      74.0      0.9     Partly Cloudy\n",
       "64   5/5/2023 6:00         16.5      82.0      1.0        Light Rain\n",
       "65   5/5/2023 9:00         20.2      67.0      2.3     Partly Cloudy\n",
       "66  5/5/2023 12:00         23.6      60.0      3.1             Sunny"
      ],
      "text/html": [
       "<div>\n",
       "<style scoped>\n",
       "    .dataframe tbody tr th:only-of-type {\n",
       "        vertical-align: middle;\n",
       "    }\n",
       "\n",
       "    .dataframe tbody tr th {\n",
       "        vertical-align: top;\n",
       "    }\n",
       "\n",
       "    .dataframe thead th {\n",
       "        text-align: right;\n",
       "    }\n",
       "</style>\n",
       "<table border=\"1\" class=\"dataframe\">\n",
       "  <thead>\n",
       "    <tr style=\"text-align: right;\">\n",
       "      <th></th>\n",
       "      <th>Timestamp</th>\n",
       "      <th>Temperature</th>\n",
       "      <th>Humidity</th>\n",
       "      <th>Airflow</th>\n",
       "      <th>Weather Condition</th>\n",
       "    </tr>\n",
       "  </thead>\n",
       "  <tbody>\n",
       "    <tr>\n",
       "      <th>0</th>\n",
       "      <td>5/1/2023 0:00</td>\n",
       "      <td>22.5</td>\n",
       "      <td>65.0</td>\n",
       "      <td>1.2</td>\n",
       "      <td>Clear</td>\n",
       "    </tr>\n",
       "    <tr>\n",
       "      <th>3</th>\n",
       "      <td>5/1/2023 9:00</td>\n",
       "      <td>24.1</td>\n",
       "      <td>60.0</td>\n",
       "      <td>2.1</td>\n",
       "      <td>Sunny</td>\n",
       "    </tr>\n",
       "    <tr>\n",
       "      <th>5</th>\n",
       "      <td>5/1/2023 15:00</td>\n",
       "      <td>29.5</td>\n",
       "      <td>50.0</td>\n",
       "      <td>3.2</td>\n",
       "      <td>Sunny</td>\n",
       "    </tr>\n",
       "    <tr>\n",
       "      <th>6</th>\n",
       "      <td>5/1/2023 18:00</td>\n",
       "      <td>26.3</td>\n",
       "      <td>62.0</td>\n",
       "      <td>2.0</td>\n",
       "      <td>Partly Cloudy</td>\n",
       "    </tr>\n",
       "    <tr>\n",
       "      <th>8</th>\n",
       "      <td>5/2/2023 0:00</td>\n",
       "      <td>21.9</td>\n",
       "      <td>72.0</td>\n",
       "      <td>1.0</td>\n",
       "      <td>Partly Cloudy</td>\n",
       "    </tr>\n",
       "    <tr>\n",
       "      <th>9</th>\n",
       "      <td>5/2/2023 3:00</td>\n",
       "      <td>20.2</td>\n",
       "      <td>75.0</td>\n",
       "      <td>0.6</td>\n",
       "      <td>Cloudy</td>\n",
       "    </tr>\n",
       "    <tr>\n",
       "      <th>10</th>\n",
       "      <td>5/2/2023 6:00</td>\n",
       "      <td>18.8</td>\n",
       "      <td>80.0</td>\n",
       "      <td>1.2</td>\n",
       "      <td>Light Rain</td>\n",
       "    </tr>\n",
       "    <tr>\n",
       "      <th>11</th>\n",
       "      <td>5/2/2023 9:00</td>\n",
       "      <td>22.4</td>\n",
       "      <td>65.0</td>\n",
       "      <td>2.5</td>\n",
       "      <td>Partly Cloudy</td>\n",
       "    </tr>\n",
       "    <tr>\n",
       "      <th>12</th>\n",
       "      <td>5/2/2023 12:00</td>\n",
       "      <td>25.9</td>\n",
       "      <td>58.0</td>\n",
       "      <td>3.1</td>\n",
       "      <td>Sunny</td>\n",
       "    </tr>\n",
       "    <tr>\n",
       "      <th>13</th>\n",
       "      <td>5/2/2023 15:00</td>\n",
       "      <td>28.2</td>\n",
       "      <td>52.0</td>\n",
       "      <td>3.6</td>\n",
       "      <td>Sunny</td>\n",
       "    </tr>\n",
       "    <tr>\n",
       "      <th>15</th>\n",
       "      <td>5/2/2023 21:00</td>\n",
       "      <td>22.1</td>\n",
       "      <td>70.0</td>\n",
       "      <td>1.6</td>\n",
       "      <td>Clear</td>\n",
       "    </tr>\n",
       "    <tr>\n",
       "      <th>16</th>\n",
       "      <td>5/3/2023 0:00</td>\n",
       "      <td>20.5</td>\n",
       "      <td>74.0</td>\n",
       "      <td>0.9</td>\n",
       "      <td>Partly Cloudy</td>\n",
       "    </tr>\n",
       "    <tr>\n",
       "      <th>17</th>\n",
       "      <td>5/3/2023 3:00</td>\n",
       "      <td>19.1</td>\n",
       "      <td>78.0</td>\n",
       "      <td>0.5</td>\n",
       "      <td>Cloudy</td>\n",
       "    </tr>\n",
       "    <tr>\n",
       "      <th>18</th>\n",
       "      <td>5/3/2023 6:00</td>\n",
       "      <td>17.9</td>\n",
       "      <td>82.0</td>\n",
       "      <td>1.0</td>\n",
       "      <td>Light Rain</td>\n",
       "    </tr>\n",
       "    <tr>\n",
       "      <th>19</th>\n",
       "      <td>5/3/2023 9:00</td>\n",
       "      <td>21.3</td>\n",
       "      <td>68.0</td>\n",
       "      <td>2.2</td>\n",
       "      <td>Partly Cloudy</td>\n",
       "    </tr>\n",
       "    <tr>\n",
       "      <th>20</th>\n",
       "      <td>5/3/2023 12:00</td>\n",
       "      <td>24.8</td>\n",
       "      <td>60.0</td>\n",
       "      <td>3.0</td>\n",
       "      <td>Sunny</td>\n",
       "    </tr>\n",
       "    <tr>\n",
       "      <th>23</th>\n",
       "      <td>5/3/2023 21:00</td>\n",
       "      <td>21.2</td>\n",
       "      <td>67.0</td>\n",
       "      <td>1.4</td>\n",
       "      <td>Clear</td>\n",
       "    </tr>\n",
       "    <tr>\n",
       "      <th>24</th>\n",
       "      <td>5/4/2023 0:00</td>\n",
       "      <td>19.8</td>\n",
       "      <td>71.0</td>\n",
       "      <td>0.8</td>\n",
       "      <td>Partly Cloudy</td>\n",
       "    </tr>\n",
       "    <tr>\n",
       "      <th>25</th>\n",
       "      <td>5/4/2023 3:00</td>\n",
       "      <td>18.4</td>\n",
       "      <td>75.0</td>\n",
       "      <td>0.6</td>\n",
       "      <td>Cloudy</td>\n",
       "    </tr>\n",
       "    <tr>\n",
       "      <th>26</th>\n",
       "      <td>5/4/2023 6:00</td>\n",
       "      <td>17.1</td>\n",
       "      <td>80.0</td>\n",
       "      <td>1.1</td>\n",
       "      <td>Light Rain</td>\n",
       "    </tr>\n",
       "    <tr>\n",
       "      <th>27</th>\n",
       "      <td>5/4/2023 9:00</td>\n",
       "      <td>20.6</td>\n",
       "      <td>65.0</td>\n",
       "      <td>2.4</td>\n",
       "      <td>Partly Cloudy</td>\n",
       "    </tr>\n",
       "    <tr>\n",
       "      <th>28</th>\n",
       "      <td>5/4/2023 12:00</td>\n",
       "      <td>24.2</td>\n",
       "      <td>58.0</td>\n",
       "      <td>3.2</td>\n",
       "      <td>Sunny</td>\n",
       "    </tr>\n",
       "    <tr>\n",
       "      <th>30</th>\n",
       "      <td>5/1/2023 0:00</td>\n",
       "      <td>22.5</td>\n",
       "      <td>65.0</td>\n",
       "      <td>1.2</td>\n",
       "      <td>Clear</td>\n",
       "    </tr>\n",
       "    <tr>\n",
       "      <th>31</th>\n",
       "      <td>5/1/2023 3:00</td>\n",
       "      <td>20.8</td>\n",
       "      <td>70.0</td>\n",
       "      <td>0.8</td>\n",
       "      <td>Partly Cloudy</td>\n",
       "    </tr>\n",
       "    <tr>\n",
       "      <th>32</th>\n",
       "      <td>5/1/2023 6:00</td>\n",
       "      <td>19.2</td>\n",
       "      <td>75.0</td>\n",
       "      <td>1.5</td>\n",
       "      <td>Cloudy</td>\n",
       "    </tr>\n",
       "    <tr>\n",
       "      <th>33</th>\n",
       "      <td>5/1/2023 9:00</td>\n",
       "      <td>24.1</td>\n",
       "      <td>60.0</td>\n",
       "      <td>2.1</td>\n",
       "      <td>Sunny</td>\n",
       "    </tr>\n",
       "    <tr>\n",
       "      <th>34</th>\n",
       "      <td>5/1/2023 12:00</td>\n",
       "      <td>27.8</td>\n",
       "      <td>55.0</td>\n",
       "      <td>2.8</td>\n",
       "      <td>Sunny</td>\n",
       "    </tr>\n",
       "    <tr>\n",
       "      <th>35</th>\n",
       "      <td>5/1/2023 15:00</td>\n",
       "      <td>29.5</td>\n",
       "      <td>50.0</td>\n",
       "      <td>3.2</td>\n",
       "      <td>Sunny</td>\n",
       "    </tr>\n",
       "    <tr>\n",
       "      <th>36</th>\n",
       "      <td>5/1/2023 18:00</td>\n",
       "      <td>26.3</td>\n",
       "      <td>62.0</td>\n",
       "      <td>2.0</td>\n",
       "      <td>Partly Cloudy</td>\n",
       "    </tr>\n",
       "    <tr>\n",
       "      <th>37</th>\n",
       "      <td>5/1/2023 21:00</td>\n",
       "      <td>23.7</td>\n",
       "      <td>68.0</td>\n",
       "      <td>1.4</td>\n",
       "      <td>Clear</td>\n",
       "    </tr>\n",
       "    <tr>\n",
       "      <th>38</th>\n",
       "      <td>5/2/2023 0:00</td>\n",
       "      <td>21.9</td>\n",
       "      <td>72.0</td>\n",
       "      <td>1.0</td>\n",
       "      <td>Partly Cloudy</td>\n",
       "    </tr>\n",
       "    <tr>\n",
       "      <th>39</th>\n",
       "      <td>5/2/2023 3:00</td>\n",
       "      <td>20.2</td>\n",
       "      <td>75.0</td>\n",
       "      <td>0.6</td>\n",
       "      <td>Cloudy</td>\n",
       "    </tr>\n",
       "    <tr>\n",
       "      <th>40</th>\n",
       "      <td>5/2/2023 6:00</td>\n",
       "      <td>18.8</td>\n",
       "      <td>80.0</td>\n",
       "      <td>1.2</td>\n",
       "      <td>Light Rain</td>\n",
       "    </tr>\n",
       "    <tr>\n",
       "      <th>41</th>\n",
       "      <td>5/2/2023 9:00</td>\n",
       "      <td>22.4</td>\n",
       "      <td>65.0</td>\n",
       "      <td>2.5</td>\n",
       "      <td>Partly Cloudy</td>\n",
       "    </tr>\n",
       "    <tr>\n",
       "      <th>43</th>\n",
       "      <td>5/2/2023 15:00</td>\n",
       "      <td>28.2</td>\n",
       "      <td>52.0</td>\n",
       "      <td>3.6</td>\n",
       "      <td>Sunny</td>\n",
       "    </tr>\n",
       "    <tr>\n",
       "      <th>44</th>\n",
       "      <td>5/2/2023 18:00</td>\n",
       "      <td>24.7</td>\n",
       "      <td>65.0</td>\n",
       "      <td>2.3</td>\n",
       "      <td>Partly Cloudy</td>\n",
       "    </tr>\n",
       "    <tr>\n",
       "      <th>45</th>\n",
       "      <td>5/2/2023 21:00</td>\n",
       "      <td>22.1</td>\n",
       "      <td>70.0</td>\n",
       "      <td>1.6</td>\n",
       "      <td>Clear</td>\n",
       "    </tr>\n",
       "    <tr>\n",
       "      <th>46</th>\n",
       "      <td>5/3/2023 0:00</td>\n",
       "      <td>20.5</td>\n",
       "      <td>74.0</td>\n",
       "      <td>0.9</td>\n",
       "      <td>Partly Cloudy</td>\n",
       "    </tr>\n",
       "    <tr>\n",
       "      <th>47</th>\n",
       "      <td>5/3/2023 3:00</td>\n",
       "      <td>19.1</td>\n",
       "      <td>78.0</td>\n",
       "      <td>0.5</td>\n",
       "      <td>Cloudy</td>\n",
       "    </tr>\n",
       "    <tr>\n",
       "      <th>48</th>\n",
       "      <td>5/3/2023 6:00</td>\n",
       "      <td>17.9</td>\n",
       "      <td>82.0</td>\n",
       "      <td>1.0</td>\n",
       "      <td>Light Rain</td>\n",
       "    </tr>\n",
       "    <tr>\n",
       "      <th>49</th>\n",
       "      <td>5/3/2023 9:00</td>\n",
       "      <td>21.3</td>\n",
       "      <td>68.0</td>\n",
       "      <td>2.2</td>\n",
       "      <td>Partly Cloudy</td>\n",
       "    </tr>\n",
       "    <tr>\n",
       "      <th>51</th>\n",
       "      <td>5/3/2023 15:00</td>\n",
       "      <td>27.4</td>\n",
       "      <td>55.0</td>\n",
       "      <td>3.5</td>\n",
       "      <td>Sunny</td>\n",
       "    </tr>\n",
       "    <tr>\n",
       "      <th>52</th>\n",
       "      <td>5/3/2023 18:00</td>\n",
       "      <td>23.9</td>\n",
       "      <td>62.0</td>\n",
       "      <td>2.1</td>\n",
       "      <td>Partly Cloudy</td>\n",
       "    </tr>\n",
       "    <tr>\n",
       "      <th>53</th>\n",
       "      <td>5/3/2023 21:00</td>\n",
       "      <td>21.2</td>\n",
       "      <td>67.0</td>\n",
       "      <td>1.4</td>\n",
       "      <td>Clear</td>\n",
       "    </tr>\n",
       "    <tr>\n",
       "      <th>54</th>\n",
       "      <td>5/4/2023 0:00</td>\n",
       "      <td>19.8</td>\n",
       "      <td>71.0</td>\n",
       "      <td>0.8</td>\n",
       "      <td>Partly Cloudy</td>\n",
       "    </tr>\n",
       "    <tr>\n",
       "      <th>55</th>\n",
       "      <td>5/4/2023 3:00</td>\n",
       "      <td>18.4</td>\n",
       "      <td>75.0</td>\n",
       "      <td>0.6</td>\n",
       "      <td>Cloudy</td>\n",
       "    </tr>\n",
       "    <tr>\n",
       "      <th>56</th>\n",
       "      <td>5/4/2023 6:00</td>\n",
       "      <td>17.1</td>\n",
       "      <td>80.0</td>\n",
       "      <td>1.1</td>\n",
       "      <td>Light Rain</td>\n",
       "    </tr>\n",
       "    <tr>\n",
       "      <th>58</th>\n",
       "      <td>5/4/2023 12:00</td>\n",
       "      <td>24.2</td>\n",
       "      <td>58.0</td>\n",
       "      <td>3.2</td>\n",
       "      <td>Sunny</td>\n",
       "    </tr>\n",
       "    <tr>\n",
       "      <th>59</th>\n",
       "      <td>5/4/2023 15:00</td>\n",
       "      <td>26.8</td>\n",
       "      <td>53.0</td>\n",
       "      <td>3.8</td>\n",
       "      <td>Sunny</td>\n",
       "    </tr>\n",
       "    <tr>\n",
       "      <th>60</th>\n",
       "      <td>5/4/2023 18:00</td>\n",
       "      <td>23.1</td>\n",
       "      <td>65.0</td>\n",
       "      <td>2.0</td>\n",
       "      <td>Partly Cloudy</td>\n",
       "    </tr>\n",
       "    <tr>\n",
       "      <th>61</th>\n",
       "      <td>5/4/2023 21:00</td>\n",
       "      <td>20.4</td>\n",
       "      <td>70.0</td>\n",
       "      <td>1.2</td>\n",
       "      <td>Clear</td>\n",
       "    </tr>\n",
       "    <tr>\n",
       "      <th>62</th>\n",
       "      <td>5/5/2023 0:00</td>\n",
       "      <td>19.1</td>\n",
       "      <td>74.0</td>\n",
       "      <td>0.9</td>\n",
       "      <td>Partly Cloudy</td>\n",
       "    </tr>\n",
       "    <tr>\n",
       "      <th>64</th>\n",
       "      <td>5/5/2023 6:00</td>\n",
       "      <td>16.5</td>\n",
       "      <td>82.0</td>\n",
       "      <td>1.0</td>\n",
       "      <td>Light Rain</td>\n",
       "    </tr>\n",
       "    <tr>\n",
       "      <th>65</th>\n",
       "      <td>5/5/2023 9:00</td>\n",
       "      <td>20.2</td>\n",
       "      <td>67.0</td>\n",
       "      <td>2.3</td>\n",
       "      <td>Partly Cloudy</td>\n",
       "    </tr>\n",
       "    <tr>\n",
       "      <th>66</th>\n",
       "      <td>5/5/2023 12:00</td>\n",
       "      <td>23.6</td>\n",
       "      <td>60.0</td>\n",
       "      <td>3.1</td>\n",
       "      <td>Sunny</td>\n",
       "    </tr>\n",
       "  </tbody>\n",
       "</table>\n",
       "</div>"
      ]
     },
     "execution_count": 280,
     "metadata": {},
     "output_type": "execute_result"
    }
   ],
   "execution_count": 280
  },
  {
   "cell_type": "code",
   "id": "c704b594-9239-4bc4-8b6e-e4a1de14bff4",
   "metadata": {
    "id": "c704b594-9239-4bc4-8b6e-e4a1de14bff4",
    "ExecuteTime": {
     "end_time": "2025-06-27T09:52:54.810956Z",
     "start_time": "2025-06-27T09:52:54.807295Z"
    }
   },
   "source": [
    "datadrop.isnull().sum()"
   ],
   "outputs": [
    {
     "data": {
      "text/plain": [
       "Timestamp            0\n",
       "Temperature          0\n",
       "Humidity             0\n",
       "Airflow              0\n",
       "Weather Condition    0\n",
       "dtype: int64"
      ]
     },
     "execution_count": 281,
     "metadata": {},
     "output_type": "execute_result"
    }
   ],
   "execution_count": 281
  },
  {
   "cell_type": "code",
   "id": "3afb58bb-3e29-4ff8-b809-181656e3c354",
   "metadata": {
    "id": "3afb58bb-3e29-4ff8-b809-181656e3c354",
    "ExecuteTime": {
     "end_time": "2025-06-27T09:52:54.953301Z",
     "start_time": "2025-06-27T09:52:54.942715Z"
    }
   },
   "source": [
    "datadrop.describe(include='all')"
   ],
   "outputs": [
    {
     "data": {
      "text/plain": [
       "            Timestamp  Temperature   Humidity    Airflow Weather Condition\n",
       "count              55    55.000000  55.000000  55.000000                55\n",
       "unique             36          NaN        NaN        NaN                 5\n",
       "top     5/1/2023 0:00          NaN        NaN        NaN     Partly Cloudy\n",
       "freq                2          NaN        NaN        NaN                19\n",
       "mean              NaN    22.172727  67.490909   1.792727               NaN\n",
       "std               NaN     3.316650   8.841972   0.969699               NaN\n",
       "min               NaN    16.500000  50.000000   0.500000               NaN\n",
       "25%               NaN    19.800000  61.000000   1.000000               NaN\n",
       "50%               NaN    21.900000  68.000000   1.500000               NaN\n",
       "75%               NaN    24.150000  74.500000   2.450000               NaN\n",
       "max               NaN    29.500000  82.000000   3.800000               NaN"
      ],
      "text/html": [
       "<div>\n",
       "<style scoped>\n",
       "    .dataframe tbody tr th:only-of-type {\n",
       "        vertical-align: middle;\n",
       "    }\n",
       "\n",
       "    .dataframe tbody tr th {\n",
       "        vertical-align: top;\n",
       "    }\n",
       "\n",
       "    .dataframe thead th {\n",
       "        text-align: right;\n",
       "    }\n",
       "</style>\n",
       "<table border=\"1\" class=\"dataframe\">\n",
       "  <thead>\n",
       "    <tr style=\"text-align: right;\">\n",
       "      <th></th>\n",
       "      <th>Timestamp</th>\n",
       "      <th>Temperature</th>\n",
       "      <th>Humidity</th>\n",
       "      <th>Airflow</th>\n",
       "      <th>Weather Condition</th>\n",
       "    </tr>\n",
       "  </thead>\n",
       "  <tbody>\n",
       "    <tr>\n",
       "      <th>count</th>\n",
       "      <td>55</td>\n",
       "      <td>55.000000</td>\n",
       "      <td>55.000000</td>\n",
       "      <td>55.000000</td>\n",
       "      <td>55</td>\n",
       "    </tr>\n",
       "    <tr>\n",
       "      <th>unique</th>\n",
       "      <td>36</td>\n",
       "      <td>NaN</td>\n",
       "      <td>NaN</td>\n",
       "      <td>NaN</td>\n",
       "      <td>5</td>\n",
       "    </tr>\n",
       "    <tr>\n",
       "      <th>top</th>\n",
       "      <td>5/1/2023 0:00</td>\n",
       "      <td>NaN</td>\n",
       "      <td>NaN</td>\n",
       "      <td>NaN</td>\n",
       "      <td>Partly Cloudy</td>\n",
       "    </tr>\n",
       "    <tr>\n",
       "      <th>freq</th>\n",
       "      <td>2</td>\n",
       "      <td>NaN</td>\n",
       "      <td>NaN</td>\n",
       "      <td>NaN</td>\n",
       "      <td>19</td>\n",
       "    </tr>\n",
       "    <tr>\n",
       "      <th>mean</th>\n",
       "      <td>NaN</td>\n",
       "      <td>22.172727</td>\n",
       "      <td>67.490909</td>\n",
       "      <td>1.792727</td>\n",
       "      <td>NaN</td>\n",
       "    </tr>\n",
       "    <tr>\n",
       "      <th>std</th>\n",
       "      <td>NaN</td>\n",
       "      <td>3.316650</td>\n",
       "      <td>8.841972</td>\n",
       "      <td>0.969699</td>\n",
       "      <td>NaN</td>\n",
       "    </tr>\n",
       "    <tr>\n",
       "      <th>min</th>\n",
       "      <td>NaN</td>\n",
       "      <td>16.500000</td>\n",
       "      <td>50.000000</td>\n",
       "      <td>0.500000</td>\n",
       "      <td>NaN</td>\n",
       "    </tr>\n",
       "    <tr>\n",
       "      <th>25%</th>\n",
       "      <td>NaN</td>\n",
       "      <td>19.800000</td>\n",
       "      <td>61.000000</td>\n",
       "      <td>1.000000</td>\n",
       "      <td>NaN</td>\n",
       "    </tr>\n",
       "    <tr>\n",
       "      <th>50%</th>\n",
       "      <td>NaN</td>\n",
       "      <td>21.900000</td>\n",
       "      <td>68.000000</td>\n",
       "      <td>1.500000</td>\n",
       "      <td>NaN</td>\n",
       "    </tr>\n",
       "    <tr>\n",
       "      <th>75%</th>\n",
       "      <td>NaN</td>\n",
       "      <td>24.150000</td>\n",
       "      <td>74.500000</td>\n",
       "      <td>2.450000</td>\n",
       "      <td>NaN</td>\n",
       "    </tr>\n",
       "    <tr>\n",
       "      <th>max</th>\n",
       "      <td>NaN</td>\n",
       "      <td>29.500000</td>\n",
       "      <td>82.000000</td>\n",
       "      <td>3.800000</td>\n",
       "      <td>NaN</td>\n",
       "    </tr>\n",
       "  </tbody>\n",
       "</table>\n",
       "</div>"
      ]
     },
     "execution_count": 282,
     "metadata": {},
     "output_type": "execute_result"
    }
   ],
   "execution_count": 282
  },
  {
   "cell_type": "code",
   "id": "42f0e142-b209-46ef-80fd-eb9a09a39bc8",
   "metadata": {
    "id": "42f0e142-b209-46ef-80fd-eb9a09a39bc8",
    "ExecuteTime": {
     "end_time": "2025-06-27T09:52:55.100043Z",
     "start_time": "2025-06-27T09:52:55.098132Z"
    }
   },
   "source": [],
   "outputs": [],
   "execution_count": null
  },
  {
   "cell_type": "code",
   "id": "2465df9f-bfdb-4c96-915c-5848e9b6c020",
   "metadata": {
    "id": "2465df9f-bfdb-4c96-915c-5848e9b6c020",
    "ExecuteTime": {
     "end_time": "2025-06-27T09:52:55.243879Z",
     "start_time": "2025-06-27T09:52:55.242514Z"
    }
   },
   "source": [],
   "outputs": [],
   "execution_count": null
  },
  {
   "cell_type": "code",
   "id": "c70460fd-4ebf-4326-82e7-189eecb77543",
   "metadata": {
    "id": "c70460fd-4ebf-4326-82e7-189eecb77543",
    "ExecuteTime": {
     "end_time": "2025-06-27T09:52:55.368091Z",
     "start_time": "2025-06-27T09:52:55.366139Z"
    }
   },
   "source": [],
   "outputs": [],
   "execution_count": null
  },
  {
   "cell_type": "markdown",
   "id": "67e1c635-1db3-4431-8be6-87fc25acc79f",
   "metadata": {
    "id": "67e1c635-1db3-4431-8be6-87fc25acc79f"
   },
   "source": [
    "### Filling missing data"
   ]
  },
  {
   "cell_type": "markdown",
   "id": "c5b6f4e9-bff4-46de-9c9f-a0846f82c897",
   "metadata": {
    "id": "c5b6f4e9-bff4-46de-9c9f-a0846f82c897"
   },
   "source": [
    "#### 5.2 Fill missing values with mean/median/mode"
   ]
  },
  {
   "cell_type": "code",
   "id": "b05e4d84-6543-46f7-82a6-77bbf6c983f2",
   "metadata": {
    "id": "b05e4d84-6543-46f7-82a6-77bbf6c983f2",
    "ExecuteTime": {
     "end_time": "2025-06-27T09:52:55.443794Z",
     "start_time": "2025-06-27T09:52:55.436487Z"
    }
   },
   "source": [
    "# # 5.2 Fill missing values with Mean/Meidan/Mode\n",
    "# for numerical data (mean/median)\n",
    "df1 = df.copy()\n",
    "df1"
   ],
   "outputs": [
    {
     "data": {
      "text/plain": [
       "         Timestamp  Temperature  Humidity  Airflow Weather Condition\n",
       "0    5/1/2023 0:00         22.5      65.0      1.2             Clear\n",
       "1    5/1/2023 3:00          NaN      70.0      0.8     Partly Cloudy\n",
       "2    5/1/2023 6:00         19.2      75.0      NaN            Cloudy\n",
       "3    5/1/2023 9:00         24.1      60.0      2.1             Sunny\n",
       "4   5/1/2023 12:00         27.8      55.0      NaN             Sunny\n",
       "..             ...          ...       ...      ...               ...\n",
       "62   5/5/2023 0:00         19.1      74.0      0.9     Partly Cloudy\n",
       "63   5/5/2023 3:00          NaN      78.0      0.6            Cloudy\n",
       "64   5/5/2023 6:00         16.5      82.0      1.0        Light Rain\n",
       "65   5/5/2023 9:00         20.2      67.0      2.3     Partly Cloudy\n",
       "66  5/5/2023 12:00         23.6      60.0      3.1             Sunny\n",
       "\n",
       "[67 rows x 5 columns]"
      ],
      "text/html": [
       "<div>\n",
       "<style scoped>\n",
       "    .dataframe tbody tr th:only-of-type {\n",
       "        vertical-align: middle;\n",
       "    }\n",
       "\n",
       "    .dataframe tbody tr th {\n",
       "        vertical-align: top;\n",
       "    }\n",
       "\n",
       "    .dataframe thead th {\n",
       "        text-align: right;\n",
       "    }\n",
       "</style>\n",
       "<table border=\"1\" class=\"dataframe\">\n",
       "  <thead>\n",
       "    <tr style=\"text-align: right;\">\n",
       "      <th></th>\n",
       "      <th>Timestamp</th>\n",
       "      <th>Temperature</th>\n",
       "      <th>Humidity</th>\n",
       "      <th>Airflow</th>\n",
       "      <th>Weather Condition</th>\n",
       "    </tr>\n",
       "  </thead>\n",
       "  <tbody>\n",
       "    <tr>\n",
       "      <th>0</th>\n",
       "      <td>5/1/2023 0:00</td>\n",
       "      <td>22.5</td>\n",
       "      <td>65.0</td>\n",
       "      <td>1.2</td>\n",
       "      <td>Clear</td>\n",
       "    </tr>\n",
       "    <tr>\n",
       "      <th>1</th>\n",
       "      <td>5/1/2023 3:00</td>\n",
       "      <td>NaN</td>\n",
       "      <td>70.0</td>\n",
       "      <td>0.8</td>\n",
       "      <td>Partly Cloudy</td>\n",
       "    </tr>\n",
       "    <tr>\n",
       "      <th>2</th>\n",
       "      <td>5/1/2023 6:00</td>\n",
       "      <td>19.2</td>\n",
       "      <td>75.0</td>\n",
       "      <td>NaN</td>\n",
       "      <td>Cloudy</td>\n",
       "    </tr>\n",
       "    <tr>\n",
       "      <th>3</th>\n",
       "      <td>5/1/2023 9:00</td>\n",
       "      <td>24.1</td>\n",
       "      <td>60.0</td>\n",
       "      <td>2.1</td>\n",
       "      <td>Sunny</td>\n",
       "    </tr>\n",
       "    <tr>\n",
       "      <th>4</th>\n",
       "      <td>5/1/2023 12:00</td>\n",
       "      <td>27.8</td>\n",
       "      <td>55.0</td>\n",
       "      <td>NaN</td>\n",
       "      <td>Sunny</td>\n",
       "    </tr>\n",
       "    <tr>\n",
       "      <th>...</th>\n",
       "      <td>...</td>\n",
       "      <td>...</td>\n",
       "      <td>...</td>\n",
       "      <td>...</td>\n",
       "      <td>...</td>\n",
       "    </tr>\n",
       "    <tr>\n",
       "      <th>62</th>\n",
       "      <td>5/5/2023 0:00</td>\n",
       "      <td>19.1</td>\n",
       "      <td>74.0</td>\n",
       "      <td>0.9</td>\n",
       "      <td>Partly Cloudy</td>\n",
       "    </tr>\n",
       "    <tr>\n",
       "      <th>63</th>\n",
       "      <td>5/5/2023 3:00</td>\n",
       "      <td>NaN</td>\n",
       "      <td>78.0</td>\n",
       "      <td>0.6</td>\n",
       "      <td>Cloudy</td>\n",
       "    </tr>\n",
       "    <tr>\n",
       "      <th>64</th>\n",
       "      <td>5/5/2023 6:00</td>\n",
       "      <td>16.5</td>\n",
       "      <td>82.0</td>\n",
       "      <td>1.0</td>\n",
       "      <td>Light Rain</td>\n",
       "    </tr>\n",
       "    <tr>\n",
       "      <th>65</th>\n",
       "      <td>5/5/2023 9:00</td>\n",
       "      <td>20.2</td>\n",
       "      <td>67.0</td>\n",
       "      <td>2.3</td>\n",
       "      <td>Partly Cloudy</td>\n",
       "    </tr>\n",
       "    <tr>\n",
       "      <th>66</th>\n",
       "      <td>5/5/2023 12:00</td>\n",
       "      <td>23.6</td>\n",
       "      <td>60.0</td>\n",
       "      <td>3.1</td>\n",
       "      <td>Sunny</td>\n",
       "    </tr>\n",
       "  </tbody>\n",
       "</table>\n",
       "<p>67 rows × 5 columns</p>\n",
       "</div>"
      ]
     },
     "execution_count": 283,
     "metadata": {},
     "output_type": "execute_result"
    }
   ],
   "execution_count": 283
  },
  {
   "cell_type": "code",
   "id": "ebcf18f8-d5a5-4253-9e6e-2a8e17577a56",
   "metadata": {
    "id": "ebcf18f8-d5a5-4253-9e6e-2a8e17577a56",
    "ExecuteTime": {
     "end_time": "2025-06-27T09:52:55.549458Z",
     "start_time": "2025-06-27T09:52:55.535908Z"
    }
   },
   "source": [
    "print(df[['Temperature', 'Humidity', 'Airflow']].mean())\n",
    "print(df[['Temperature', 'Humidity', 'Airflow']].median())\n",
    "print(df[['Temperature', 'Humidity', 'Airflow']].mode())"
   ],
   "outputs": [
    {
     "name": "stdout",
     "output_type": "stream",
     "text": [
      "Temperature    22.432258\n",
      "Humidity       67.078125\n",
      "Airflow         1.826984\n",
      "dtype: float64\n",
      "Temperature    22.0\n",
      "Humidity       67.5\n",
      "Airflow         1.6\n",
      "dtype: float64\n",
      "   Temperature  Humidity  Airflow\n",
      "0         19.1      65.0      0.6\n",
      "1         20.2       NaN      1.0\n",
      "2          NaN       NaN      1.2\n"
     ]
    }
   ],
   "execution_count": 284
  },
  {
   "cell_type": "code",
   "id": "fda6e659-724b-44a6-9f3e-520c54d82496",
   "metadata": {
    "id": "fda6e659-724b-44a6-9f3e-520c54d82496",
    "ExecuteTime": {
     "end_time": "2025-06-27T09:52:55.605089Z",
     "start_time": "2025-06-27T09:52:55.601349Z"
    }
   },
   "source": [
    "df['Temperature'].value_counts() #select count(*) group by Temperature"
   ],
   "outputs": [
    {
     "data": {
      "text/plain": [
       "Temperature\n",
       "19.1    3\n",
       "20.2    3\n",
       "19.2    2\n",
       "22.5    2\n",
       "29.5    2\n",
       "24.1    2\n",
       "26.3    2\n",
       "21.9    2\n",
       "18.8    2\n",
       "27.8    2\n",
       "22.4    2\n",
       "28.2    2\n",
       "22.1    2\n",
       "24.7    2\n",
       "17.9    2\n",
       "20.5    2\n",
       "21.3    2\n",
       "24.8    2\n",
       "26.8    2\n",
       "27.4    2\n",
       "21.2    2\n",
       "19.8    2\n",
       "18.4    2\n",
       "17.1    2\n",
       "20.6    2\n",
       "24.2    2\n",
       "25.9    1\n",
       "20.8    1\n",
       "23.7    1\n",
       "23.9    1\n",
       "23.1    1\n",
       "20.4    1\n",
       "16.5    1\n",
       "23.6    1\n",
       "Name: count, dtype: int64"
      ]
     },
     "execution_count": 285,
     "metadata": {},
     "output_type": "execute_result"
    }
   ],
   "execution_count": 285
  },
  {
   "cell_type": "code",
   "id": "e152bbc9-85a5-4a4c-8626-0dc694c1677b",
   "metadata": {
    "id": "e152bbc9-85a5-4a4c-8626-0dc694c1677b",
    "ExecuteTime": {
     "end_time": "2025-06-27T09:52:55.704822Z",
     "start_time": "2025-06-27T09:52:55.703251Z"
    }
   },
   "source": [],
   "outputs": [],
   "execution_count": null
  },
  {
   "cell_type": "code",
   "id": "cc6731dd-6ce3-4db2-98c8-c29b07dac5ff",
   "metadata": {
    "id": "cc6731dd-6ce3-4db2-98c8-c29b07dac5ff",
    "ExecuteTime": {
     "end_time": "2025-06-27T09:52:55.836486Z",
     "start_time": "2025-06-27T09:52:55.833830Z"
    }
   },
   "source": [
    "df.Temperature.mean()"
   ],
   "outputs": [
    {
     "data": {
      "text/plain": [
       "np.float64(22.432258064516127)"
      ]
     },
     "execution_count": 286,
     "metadata": {},
     "output_type": "execute_result"
    }
   ],
   "execution_count": 286
  },
  {
   "cell_type": "code",
   "id": "b9559f73-5e89-48b1-b8af-4cadbe2061a8",
   "metadata": {
    "id": "b9559f73-5e89-48b1-b8af-4cadbe2061a8",
    "ExecuteTime": {
     "end_time": "2025-06-27T09:52:55.918111Z",
     "start_time": "2025-06-27T09:52:55.911166Z"
    }
   },
   "source": [
    "df1.head()"
   ],
   "outputs": [
    {
     "data": {
      "text/plain": [
       "        Timestamp  Temperature  Humidity  Airflow Weather Condition\n",
       "0   5/1/2023 0:00         22.5      65.0      1.2             Clear\n",
       "1   5/1/2023 3:00          NaN      70.0      0.8     Partly Cloudy\n",
       "2   5/1/2023 6:00         19.2      75.0      NaN            Cloudy\n",
       "3   5/1/2023 9:00         24.1      60.0      2.1             Sunny\n",
       "4  5/1/2023 12:00         27.8      55.0      NaN             Sunny"
      ],
      "text/html": [
       "<div>\n",
       "<style scoped>\n",
       "    .dataframe tbody tr th:only-of-type {\n",
       "        vertical-align: middle;\n",
       "    }\n",
       "\n",
       "    .dataframe tbody tr th {\n",
       "        vertical-align: top;\n",
       "    }\n",
       "\n",
       "    .dataframe thead th {\n",
       "        text-align: right;\n",
       "    }\n",
       "</style>\n",
       "<table border=\"1\" class=\"dataframe\">\n",
       "  <thead>\n",
       "    <tr style=\"text-align: right;\">\n",
       "      <th></th>\n",
       "      <th>Timestamp</th>\n",
       "      <th>Temperature</th>\n",
       "      <th>Humidity</th>\n",
       "      <th>Airflow</th>\n",
       "      <th>Weather Condition</th>\n",
       "    </tr>\n",
       "  </thead>\n",
       "  <tbody>\n",
       "    <tr>\n",
       "      <th>0</th>\n",
       "      <td>5/1/2023 0:00</td>\n",
       "      <td>22.5</td>\n",
       "      <td>65.0</td>\n",
       "      <td>1.2</td>\n",
       "      <td>Clear</td>\n",
       "    </tr>\n",
       "    <tr>\n",
       "      <th>1</th>\n",
       "      <td>5/1/2023 3:00</td>\n",
       "      <td>NaN</td>\n",
       "      <td>70.0</td>\n",
       "      <td>0.8</td>\n",
       "      <td>Partly Cloudy</td>\n",
       "    </tr>\n",
       "    <tr>\n",
       "      <th>2</th>\n",
       "      <td>5/1/2023 6:00</td>\n",
       "      <td>19.2</td>\n",
       "      <td>75.0</td>\n",
       "      <td>NaN</td>\n",
       "      <td>Cloudy</td>\n",
       "    </tr>\n",
       "    <tr>\n",
       "      <th>3</th>\n",
       "      <td>5/1/2023 9:00</td>\n",
       "      <td>24.1</td>\n",
       "      <td>60.0</td>\n",
       "      <td>2.1</td>\n",
       "      <td>Sunny</td>\n",
       "    </tr>\n",
       "    <tr>\n",
       "      <th>4</th>\n",
       "      <td>5/1/2023 12:00</td>\n",
       "      <td>27.8</td>\n",
       "      <td>55.0</td>\n",
       "      <td>NaN</td>\n",
       "      <td>Sunny</td>\n",
       "    </tr>\n",
       "  </tbody>\n",
       "</table>\n",
       "</div>"
      ]
     },
     "execution_count": 287,
     "metadata": {},
     "output_type": "execute_result"
    }
   ],
   "execution_count": 287
  },
  {
   "cell_type": "code",
   "id": "ce789892-eec1-42c1-8968-24c8b38f0ed1",
   "metadata": {
    "id": "ce789892-eec1-42c1-8968-24c8b38f0ed1",
    "ExecuteTime": {
     "end_time": "2025-06-27T09:52:56.003824Z",
     "start_time": "2025-06-27T09:52:55.998051Z"
    }
   },
   "source": [
    "df1.fillna({'Temperature': df.Temperature.mean()}, inplace=True)\n",
    "df1.head()"
   ],
   "outputs": [
    {
     "data": {
      "text/plain": [
       "        Timestamp  Temperature  Humidity  Airflow Weather Condition\n",
       "0   5/1/2023 0:00    22.500000      65.0      1.2             Clear\n",
       "1   5/1/2023 3:00    22.432258      70.0      0.8     Partly Cloudy\n",
       "2   5/1/2023 6:00    19.200000      75.0      NaN            Cloudy\n",
       "3   5/1/2023 9:00    24.100000      60.0      2.1             Sunny\n",
       "4  5/1/2023 12:00    27.800000      55.0      NaN             Sunny"
      ],
      "text/html": [
       "<div>\n",
       "<style scoped>\n",
       "    .dataframe tbody tr th:only-of-type {\n",
       "        vertical-align: middle;\n",
       "    }\n",
       "\n",
       "    .dataframe tbody tr th {\n",
       "        vertical-align: top;\n",
       "    }\n",
       "\n",
       "    .dataframe thead th {\n",
       "        text-align: right;\n",
       "    }\n",
       "</style>\n",
       "<table border=\"1\" class=\"dataframe\">\n",
       "  <thead>\n",
       "    <tr style=\"text-align: right;\">\n",
       "      <th></th>\n",
       "      <th>Timestamp</th>\n",
       "      <th>Temperature</th>\n",
       "      <th>Humidity</th>\n",
       "      <th>Airflow</th>\n",
       "      <th>Weather Condition</th>\n",
       "    </tr>\n",
       "  </thead>\n",
       "  <tbody>\n",
       "    <tr>\n",
       "      <th>0</th>\n",
       "      <td>5/1/2023 0:00</td>\n",
       "      <td>22.500000</td>\n",
       "      <td>65.0</td>\n",
       "      <td>1.2</td>\n",
       "      <td>Clear</td>\n",
       "    </tr>\n",
       "    <tr>\n",
       "      <th>1</th>\n",
       "      <td>5/1/2023 3:00</td>\n",
       "      <td>22.432258</td>\n",
       "      <td>70.0</td>\n",
       "      <td>0.8</td>\n",
       "      <td>Partly Cloudy</td>\n",
       "    </tr>\n",
       "    <tr>\n",
       "      <th>2</th>\n",
       "      <td>5/1/2023 6:00</td>\n",
       "      <td>19.200000</td>\n",
       "      <td>75.0</td>\n",
       "      <td>NaN</td>\n",
       "      <td>Cloudy</td>\n",
       "    </tr>\n",
       "    <tr>\n",
       "      <th>3</th>\n",
       "      <td>5/1/2023 9:00</td>\n",
       "      <td>24.100000</td>\n",
       "      <td>60.0</td>\n",
       "      <td>2.1</td>\n",
       "      <td>Sunny</td>\n",
       "    </tr>\n",
       "    <tr>\n",
       "      <th>4</th>\n",
       "      <td>5/1/2023 12:00</td>\n",
       "      <td>27.800000</td>\n",
       "      <td>55.0</td>\n",
       "      <td>NaN</td>\n",
       "      <td>Sunny</td>\n",
       "    </tr>\n",
       "  </tbody>\n",
       "</table>\n",
       "</div>"
      ]
     },
     "execution_count": 288,
     "metadata": {},
     "output_type": "execute_result"
    }
   ],
   "execution_count": 288
  },
  {
   "cell_type": "code",
   "id": "5dd5ca14-f492-492c-8d4c-fc28b3193492",
   "metadata": {
    "id": "5dd5ca14-f492-492c-8d4c-fc28b3193492",
    "ExecuteTime": {
     "end_time": "2025-06-27T09:52:56.093793Z",
     "start_time": "2025-06-27T09:52:56.086359Z"
    }
   },
   "source": [
    "# df1.fillna({'Temperature': df.Temperature.mean()}, inplace=True)\n",
    "df1.fillna({'Humidity': df.Humidity.mean()}, inplace=True)\n",
    "df1.fillna({'Airflow': df.Airflow.median()}, inplace=True)\n",
    "df1.head()"
   ],
   "outputs": [
    {
     "data": {
      "text/plain": [
       "        Timestamp  Temperature  Humidity  Airflow Weather Condition\n",
       "0   5/1/2023 0:00    22.500000      65.0      1.2             Clear\n",
       "1   5/1/2023 3:00    22.432258      70.0      0.8     Partly Cloudy\n",
       "2   5/1/2023 6:00    19.200000      75.0      1.6            Cloudy\n",
       "3   5/1/2023 9:00    24.100000      60.0      2.1             Sunny\n",
       "4  5/1/2023 12:00    27.800000      55.0      1.6             Sunny"
      ],
      "text/html": [
       "<div>\n",
       "<style scoped>\n",
       "    .dataframe tbody tr th:only-of-type {\n",
       "        vertical-align: middle;\n",
       "    }\n",
       "\n",
       "    .dataframe tbody tr th {\n",
       "        vertical-align: top;\n",
       "    }\n",
       "\n",
       "    .dataframe thead th {\n",
       "        text-align: right;\n",
       "    }\n",
       "</style>\n",
       "<table border=\"1\" class=\"dataframe\">\n",
       "  <thead>\n",
       "    <tr style=\"text-align: right;\">\n",
       "      <th></th>\n",
       "      <th>Timestamp</th>\n",
       "      <th>Temperature</th>\n",
       "      <th>Humidity</th>\n",
       "      <th>Airflow</th>\n",
       "      <th>Weather Condition</th>\n",
       "    </tr>\n",
       "  </thead>\n",
       "  <tbody>\n",
       "    <tr>\n",
       "      <th>0</th>\n",
       "      <td>5/1/2023 0:00</td>\n",
       "      <td>22.500000</td>\n",
       "      <td>65.0</td>\n",
       "      <td>1.2</td>\n",
       "      <td>Clear</td>\n",
       "    </tr>\n",
       "    <tr>\n",
       "      <th>1</th>\n",
       "      <td>5/1/2023 3:00</td>\n",
       "      <td>22.432258</td>\n",
       "      <td>70.0</td>\n",
       "      <td>0.8</td>\n",
       "      <td>Partly Cloudy</td>\n",
       "    </tr>\n",
       "    <tr>\n",
       "      <th>2</th>\n",
       "      <td>5/1/2023 6:00</td>\n",
       "      <td>19.200000</td>\n",
       "      <td>75.0</td>\n",
       "      <td>1.6</td>\n",
       "      <td>Cloudy</td>\n",
       "    </tr>\n",
       "    <tr>\n",
       "      <th>3</th>\n",
       "      <td>5/1/2023 9:00</td>\n",
       "      <td>24.100000</td>\n",
       "      <td>60.0</td>\n",
       "      <td>2.1</td>\n",
       "      <td>Sunny</td>\n",
       "    </tr>\n",
       "    <tr>\n",
       "      <th>4</th>\n",
       "      <td>5/1/2023 12:00</td>\n",
       "      <td>27.800000</td>\n",
       "      <td>55.0</td>\n",
       "      <td>1.6</td>\n",
       "      <td>Sunny</td>\n",
       "    </tr>\n",
       "  </tbody>\n",
       "</table>\n",
       "</div>"
      ]
     },
     "execution_count": 289,
     "metadata": {},
     "output_type": "execute_result"
    }
   ],
   "execution_count": 289
  },
  {
   "cell_type": "code",
   "id": "45607503-1e4d-4aca-8ec0-2779288d3f5e",
   "metadata": {
    "id": "45607503-1e4d-4aca-8ec0-2779288d3f5e",
    "ExecuteTime": {
     "end_time": "2025-06-27T09:52:56.194779Z",
     "start_time": "2025-06-27T09:52:56.191027Z"
    }
   },
   "source": [
    "df['Weather Condition'].value_counts()"
   ],
   "outputs": [
    {
     "data": {
      "text/plain": [
       "Weather Condition\n",
       "Partly Cloudy    23\n",
       "Sunny            19\n",
       "Clear             9\n",
       "Cloudy            9\n",
       "Light Rain        7\n",
       "Name: count, dtype: int64"
      ]
     },
     "execution_count": 290,
     "metadata": {},
     "output_type": "execute_result"
    }
   ],
   "execution_count": 290
  },
  {
   "cell_type": "code",
   "id": "bd756f68-f6f5-4d1b-b916-e259778cd87d",
   "metadata": {
    "id": "bd756f68-f6f5-4d1b-b916-e259778cd87d",
    "ExecuteTime": {
     "end_time": "2025-06-27T09:52:56.388956Z",
     "start_time": "2025-06-27T09:52:56.387256Z"
    }
   },
   "source": [],
   "outputs": [],
   "execution_count": null
  },
  {
   "cell_type": "code",
   "id": "7b3f3b58-284a-4bca-87bf-9ac3885052b8",
   "metadata": {
    "id": "7b3f3b58-284a-4bca-87bf-9ac3885052b8",
    "ExecuteTime": {
     "end_time": "2025-06-27T09:52:56.473008Z",
     "start_time": "2025-06-27T09:52:56.470021Z"
    }
   },
   "source": [
    "# for categorical data (mode)\n",
    "df['Weather Condition'].mode()[0]"
   ],
   "outputs": [
    {
     "data": {
      "text/plain": [
       "'Partly Cloudy'"
      ]
     },
     "execution_count": 291,
     "metadata": {},
     "output_type": "execute_result"
    }
   ],
   "execution_count": 291
  },
  {
   "cell_type": "code",
   "id": "cab0661f-091f-44eb-931f-6ab4f361bf7b",
   "metadata": {
    "id": "cab0661f-091f-44eb-931f-6ab4f361bf7b",
    "ExecuteTime": {
     "end_time": "2025-06-27T09:52:56.607181Z",
     "start_time": "2025-06-27T09:52:56.604633Z"
    }
   },
   "source": [
    "df1.fillna({'Weather Condition': df['Weather Condition'].mode()[0]}, inplace=True)"
   ],
   "outputs": [],
   "execution_count": 292
  },
  {
   "cell_type": "code",
   "id": "813eac1f-71e2-41c3-a177-377ca0073ee9",
   "metadata": {
    "id": "813eac1f-71e2-41c3-a177-377ca0073ee9",
    "ExecuteTime": {
     "end_time": "2025-06-27T09:52:56.684659Z",
     "start_time": "2025-06-27T09:52:56.674128Z"
    }
   },
   "source": [
    "df1.describe(include='all')"
   ],
   "outputs": [
    {
     "data": {
      "text/plain": [
       "            Timestamp  Temperature   Humidity    Airflow Weather Condition\n",
       "count              67    67.000000  67.000000  67.000000                67\n",
       "unique             37          NaN        NaN        NaN                 5\n",
       "top     5/1/2023 0:00          NaN        NaN        NaN     Partly Cloudy\n",
       "freq                2          NaN        NaN        NaN                23\n",
       "mean              NaN    22.432258  67.078125   1.813433               NaN\n",
       "std               NaN     3.244659   8.592288   0.952810               NaN\n",
       "min               NaN    16.500000  50.000000   0.500000               NaN\n",
       "25%               NaN    20.200000  60.000000   1.000000               NaN\n",
       "50%               NaN    22.400000  67.078125   1.600000               NaN\n",
       "75%               NaN    24.450000  74.000000   2.400000               NaN\n",
       "max               NaN    29.500000  82.000000   3.800000               NaN"
      ],
      "text/html": [
       "<div>\n",
       "<style scoped>\n",
       "    .dataframe tbody tr th:only-of-type {\n",
       "        vertical-align: middle;\n",
       "    }\n",
       "\n",
       "    .dataframe tbody tr th {\n",
       "        vertical-align: top;\n",
       "    }\n",
       "\n",
       "    .dataframe thead th {\n",
       "        text-align: right;\n",
       "    }\n",
       "</style>\n",
       "<table border=\"1\" class=\"dataframe\">\n",
       "  <thead>\n",
       "    <tr style=\"text-align: right;\">\n",
       "      <th></th>\n",
       "      <th>Timestamp</th>\n",
       "      <th>Temperature</th>\n",
       "      <th>Humidity</th>\n",
       "      <th>Airflow</th>\n",
       "      <th>Weather Condition</th>\n",
       "    </tr>\n",
       "  </thead>\n",
       "  <tbody>\n",
       "    <tr>\n",
       "      <th>count</th>\n",
       "      <td>67</td>\n",
       "      <td>67.000000</td>\n",
       "      <td>67.000000</td>\n",
       "      <td>67.000000</td>\n",
       "      <td>67</td>\n",
       "    </tr>\n",
       "    <tr>\n",
       "      <th>unique</th>\n",
       "      <td>37</td>\n",
       "      <td>NaN</td>\n",
       "      <td>NaN</td>\n",
       "      <td>NaN</td>\n",
       "      <td>5</td>\n",
       "    </tr>\n",
       "    <tr>\n",
       "      <th>top</th>\n",
       "      <td>5/1/2023 0:00</td>\n",
       "      <td>NaN</td>\n",
       "      <td>NaN</td>\n",
       "      <td>NaN</td>\n",
       "      <td>Partly Cloudy</td>\n",
       "    </tr>\n",
       "    <tr>\n",
       "      <th>freq</th>\n",
       "      <td>2</td>\n",
       "      <td>NaN</td>\n",
       "      <td>NaN</td>\n",
       "      <td>NaN</td>\n",
       "      <td>23</td>\n",
       "    </tr>\n",
       "    <tr>\n",
       "      <th>mean</th>\n",
       "      <td>NaN</td>\n",
       "      <td>22.432258</td>\n",
       "      <td>67.078125</td>\n",
       "      <td>1.813433</td>\n",
       "      <td>NaN</td>\n",
       "    </tr>\n",
       "    <tr>\n",
       "      <th>std</th>\n",
       "      <td>NaN</td>\n",
       "      <td>3.244659</td>\n",
       "      <td>8.592288</td>\n",
       "      <td>0.952810</td>\n",
       "      <td>NaN</td>\n",
       "    </tr>\n",
       "    <tr>\n",
       "      <th>min</th>\n",
       "      <td>NaN</td>\n",
       "      <td>16.500000</td>\n",
       "      <td>50.000000</td>\n",
       "      <td>0.500000</td>\n",
       "      <td>NaN</td>\n",
       "    </tr>\n",
       "    <tr>\n",
       "      <th>25%</th>\n",
       "      <td>NaN</td>\n",
       "      <td>20.200000</td>\n",
       "      <td>60.000000</td>\n",
       "      <td>1.000000</td>\n",
       "      <td>NaN</td>\n",
       "    </tr>\n",
       "    <tr>\n",
       "      <th>50%</th>\n",
       "      <td>NaN</td>\n",
       "      <td>22.400000</td>\n",
       "      <td>67.078125</td>\n",
       "      <td>1.600000</td>\n",
       "      <td>NaN</td>\n",
       "    </tr>\n",
       "    <tr>\n",
       "      <th>75%</th>\n",
       "      <td>NaN</td>\n",
       "      <td>24.450000</td>\n",
       "      <td>74.000000</td>\n",
       "      <td>2.400000</td>\n",
       "      <td>NaN</td>\n",
       "    </tr>\n",
       "    <tr>\n",
       "      <th>max</th>\n",
       "      <td>NaN</td>\n",
       "      <td>29.500000</td>\n",
       "      <td>82.000000</td>\n",
       "      <td>3.800000</td>\n",
       "      <td>NaN</td>\n",
       "    </tr>\n",
       "  </tbody>\n",
       "</table>\n",
       "</div>"
      ]
     },
     "execution_count": 293,
     "metadata": {},
     "output_type": "execute_result"
    }
   ],
   "execution_count": 293
  },
  {
   "cell_type": "code",
   "id": "ffce2728-7da8-4731-93f6-c062c39906f6",
   "metadata": {
    "id": "ffce2728-7da8-4731-93f6-c062c39906f6",
    "ExecuteTime": {
     "end_time": "2025-06-27T09:52:56.773060Z",
     "start_time": "2025-06-27T09:52:56.769388Z"
    }
   },
   "source": [
    "df1.isna().sum()"
   ],
   "outputs": [
    {
     "data": {
      "text/plain": [
       "Timestamp            0\n",
       "Temperature          0\n",
       "Humidity             0\n",
       "Airflow              0\n",
       "Weather Condition    0\n",
       "dtype: int64"
      ]
     },
     "execution_count": 294,
     "metadata": {},
     "output_type": "execute_result"
    }
   ],
   "execution_count": 294
  },
  {
   "cell_type": "code",
   "id": "cd8d06b9-1537-4a1f-ab03-db16e8a64edb",
   "metadata": {
    "id": "cd8d06b9-1537-4a1f-ab03-db16e8a64edb",
    "ExecuteTime": {
     "end_time": "2025-06-27T09:52:56.865713Z",
     "start_time": "2025-06-27T09:52:56.864283Z"
    }
   },
   "source": [],
   "outputs": [],
   "execution_count": null
  },
  {
   "cell_type": "code",
   "id": "e3fd8fe4-8c30-4cda-a965-94690fb8b639",
   "metadata": {
    "id": "e3fd8fe4-8c30-4cda-a965-94690fb8b639",
    "ExecuteTime": {
     "end_time": "2025-06-27T09:52:57.035407Z",
     "start_time": "2025-06-27T09:52:57.033538Z"
    }
   },
   "source": [],
   "outputs": [],
   "execution_count": null
  },
  {
   "cell_type": "markdown",
   "id": "0e01f117-e48a-44e5-8fca-db329e631708",
   "metadata": {
    "id": "0e01f117-e48a-44e5-8fca-db329e631708"
   },
   "source": [
    "#### 5.3 Fill missing values with Forward Fill/Backward Fill"
   ]
  },
  {
   "cell_type": "code",
   "id": "0351599d-b511-4816-a073-de50dccac84c",
   "metadata": {
    "id": "0351599d-b511-4816-a073-de50dccac84c",
    "ExecuteTime": {
     "end_time": "2025-06-27T09:52:57.135065Z",
     "start_time": "2025-06-27T09:52:57.129256Z"
    }
   },
   "source": [
    "df.head()"
   ],
   "outputs": [
    {
     "data": {
      "text/plain": [
       "        Timestamp  Temperature  Humidity  Airflow Weather Condition\n",
       "0   5/1/2023 0:00         22.5      65.0      1.2             Clear\n",
       "1   5/1/2023 3:00          NaN      70.0      0.8     Partly Cloudy\n",
       "2   5/1/2023 6:00         19.2      75.0      NaN            Cloudy\n",
       "3   5/1/2023 9:00         24.1      60.0      2.1             Sunny\n",
       "4  5/1/2023 12:00         27.8      55.0      NaN             Sunny"
      ],
      "text/html": [
       "<div>\n",
       "<style scoped>\n",
       "    .dataframe tbody tr th:only-of-type {\n",
       "        vertical-align: middle;\n",
       "    }\n",
       "\n",
       "    .dataframe tbody tr th {\n",
       "        vertical-align: top;\n",
       "    }\n",
       "\n",
       "    .dataframe thead th {\n",
       "        text-align: right;\n",
       "    }\n",
       "</style>\n",
       "<table border=\"1\" class=\"dataframe\">\n",
       "  <thead>\n",
       "    <tr style=\"text-align: right;\">\n",
       "      <th></th>\n",
       "      <th>Timestamp</th>\n",
       "      <th>Temperature</th>\n",
       "      <th>Humidity</th>\n",
       "      <th>Airflow</th>\n",
       "      <th>Weather Condition</th>\n",
       "    </tr>\n",
       "  </thead>\n",
       "  <tbody>\n",
       "    <tr>\n",
       "      <th>0</th>\n",
       "      <td>5/1/2023 0:00</td>\n",
       "      <td>22.5</td>\n",
       "      <td>65.0</td>\n",
       "      <td>1.2</td>\n",
       "      <td>Clear</td>\n",
       "    </tr>\n",
       "    <tr>\n",
       "      <th>1</th>\n",
       "      <td>5/1/2023 3:00</td>\n",
       "      <td>NaN</td>\n",
       "      <td>70.0</td>\n",
       "      <td>0.8</td>\n",
       "      <td>Partly Cloudy</td>\n",
       "    </tr>\n",
       "    <tr>\n",
       "      <th>2</th>\n",
       "      <td>5/1/2023 6:00</td>\n",
       "      <td>19.2</td>\n",
       "      <td>75.0</td>\n",
       "      <td>NaN</td>\n",
       "      <td>Cloudy</td>\n",
       "    </tr>\n",
       "    <tr>\n",
       "      <th>3</th>\n",
       "      <td>5/1/2023 9:00</td>\n",
       "      <td>24.1</td>\n",
       "      <td>60.0</td>\n",
       "      <td>2.1</td>\n",
       "      <td>Sunny</td>\n",
       "    </tr>\n",
       "    <tr>\n",
       "      <th>4</th>\n",
       "      <td>5/1/2023 12:00</td>\n",
       "      <td>27.8</td>\n",
       "      <td>55.0</td>\n",
       "      <td>NaN</td>\n",
       "      <td>Sunny</td>\n",
       "    </tr>\n",
       "  </tbody>\n",
       "</table>\n",
       "</div>"
      ]
     },
     "execution_count": 295,
     "metadata": {},
     "output_type": "execute_result"
    }
   ],
   "execution_count": 295
  },
  {
   "cell_type": "code",
   "id": "313f4fd7-ee66-440d-aac4-fccdbe4cd190",
   "metadata": {
    "id": "313f4fd7-ee66-440d-aac4-fccdbe4cd190",
    "ExecuteTime": {
     "end_time": "2025-06-27T09:52:57.244968Z",
     "start_time": "2025-06-27T09:52:57.237122Z"
    }
   },
   "source": [
    "df.sort_values(by=['Timestamp'])"
   ],
   "outputs": [
    {
     "data": {
      "text/plain": [
       "         Timestamp  Temperature  Humidity  Airflow Weather Condition\n",
       "0    5/1/2023 0:00         22.5      65.0      1.2             Clear\n",
       "30   5/1/2023 0:00         22.5      65.0      1.2             Clear\n",
       "4   5/1/2023 12:00         27.8      55.0      NaN             Sunny\n",
       "34  5/1/2023 12:00         27.8      55.0      2.8             Sunny\n",
       "5   5/1/2023 15:00         29.5      50.0      3.2             Sunny\n",
       "..             ...          ...       ...      ...               ...\n",
       "62   5/5/2023 0:00         19.1      74.0      0.9     Partly Cloudy\n",
       "66  5/5/2023 12:00         23.6      60.0      3.1             Sunny\n",
       "63   5/5/2023 3:00          NaN      78.0      0.6            Cloudy\n",
       "64   5/5/2023 6:00         16.5      82.0      1.0        Light Rain\n",
       "65   5/5/2023 9:00         20.2      67.0      2.3     Partly Cloudy\n",
       "\n",
       "[67 rows x 5 columns]"
      ],
      "text/html": [
       "<div>\n",
       "<style scoped>\n",
       "    .dataframe tbody tr th:only-of-type {\n",
       "        vertical-align: middle;\n",
       "    }\n",
       "\n",
       "    .dataframe tbody tr th {\n",
       "        vertical-align: top;\n",
       "    }\n",
       "\n",
       "    .dataframe thead th {\n",
       "        text-align: right;\n",
       "    }\n",
       "</style>\n",
       "<table border=\"1\" class=\"dataframe\">\n",
       "  <thead>\n",
       "    <tr style=\"text-align: right;\">\n",
       "      <th></th>\n",
       "      <th>Timestamp</th>\n",
       "      <th>Temperature</th>\n",
       "      <th>Humidity</th>\n",
       "      <th>Airflow</th>\n",
       "      <th>Weather Condition</th>\n",
       "    </tr>\n",
       "  </thead>\n",
       "  <tbody>\n",
       "    <tr>\n",
       "      <th>0</th>\n",
       "      <td>5/1/2023 0:00</td>\n",
       "      <td>22.5</td>\n",
       "      <td>65.0</td>\n",
       "      <td>1.2</td>\n",
       "      <td>Clear</td>\n",
       "    </tr>\n",
       "    <tr>\n",
       "      <th>30</th>\n",
       "      <td>5/1/2023 0:00</td>\n",
       "      <td>22.5</td>\n",
       "      <td>65.0</td>\n",
       "      <td>1.2</td>\n",
       "      <td>Clear</td>\n",
       "    </tr>\n",
       "    <tr>\n",
       "      <th>4</th>\n",
       "      <td>5/1/2023 12:00</td>\n",
       "      <td>27.8</td>\n",
       "      <td>55.0</td>\n",
       "      <td>NaN</td>\n",
       "      <td>Sunny</td>\n",
       "    </tr>\n",
       "    <tr>\n",
       "      <th>34</th>\n",
       "      <td>5/1/2023 12:00</td>\n",
       "      <td>27.8</td>\n",
       "      <td>55.0</td>\n",
       "      <td>2.8</td>\n",
       "      <td>Sunny</td>\n",
       "    </tr>\n",
       "    <tr>\n",
       "      <th>5</th>\n",
       "      <td>5/1/2023 15:00</td>\n",
       "      <td>29.5</td>\n",
       "      <td>50.0</td>\n",
       "      <td>3.2</td>\n",
       "      <td>Sunny</td>\n",
       "    </tr>\n",
       "    <tr>\n",
       "      <th>...</th>\n",
       "      <td>...</td>\n",
       "      <td>...</td>\n",
       "      <td>...</td>\n",
       "      <td>...</td>\n",
       "      <td>...</td>\n",
       "    </tr>\n",
       "    <tr>\n",
       "      <th>62</th>\n",
       "      <td>5/5/2023 0:00</td>\n",
       "      <td>19.1</td>\n",
       "      <td>74.0</td>\n",
       "      <td>0.9</td>\n",
       "      <td>Partly Cloudy</td>\n",
       "    </tr>\n",
       "    <tr>\n",
       "      <th>66</th>\n",
       "      <td>5/5/2023 12:00</td>\n",
       "      <td>23.6</td>\n",
       "      <td>60.0</td>\n",
       "      <td>3.1</td>\n",
       "      <td>Sunny</td>\n",
       "    </tr>\n",
       "    <tr>\n",
       "      <th>63</th>\n",
       "      <td>5/5/2023 3:00</td>\n",
       "      <td>NaN</td>\n",
       "      <td>78.0</td>\n",
       "      <td>0.6</td>\n",
       "      <td>Cloudy</td>\n",
       "    </tr>\n",
       "    <tr>\n",
       "      <th>64</th>\n",
       "      <td>5/5/2023 6:00</td>\n",
       "      <td>16.5</td>\n",
       "      <td>82.0</td>\n",
       "      <td>1.0</td>\n",
       "      <td>Light Rain</td>\n",
       "    </tr>\n",
       "    <tr>\n",
       "      <th>65</th>\n",
       "      <td>5/5/2023 9:00</td>\n",
       "      <td>20.2</td>\n",
       "      <td>67.0</td>\n",
       "      <td>2.3</td>\n",
       "      <td>Partly Cloudy</td>\n",
       "    </tr>\n",
       "  </tbody>\n",
       "</table>\n",
       "<p>67 rows × 5 columns</p>\n",
       "</div>"
      ]
     },
     "execution_count": 296,
     "metadata": {},
     "output_type": "execute_result"
    }
   ],
   "execution_count": 296
  },
  {
   "cell_type": "code",
   "id": "54e671d2-2b27-4ce1-a614-bf9e9357869e",
   "metadata": {
    "id": "54e671d2-2b27-4ce1-a614-bf9e9357869e",
    "ExecuteTime": {
     "end_time": "2025-06-27T09:52:57.379068Z",
     "start_time": "2025-06-27T09:52:57.374108Z"
    }
   },
   "source": [
    "df2 = df.copy()\n",
    "df2.head()"
   ],
   "outputs": [
    {
     "data": {
      "text/plain": [
       "        Timestamp  Temperature  Humidity  Airflow Weather Condition\n",
       "0   5/1/2023 0:00         22.5      65.0      1.2             Clear\n",
       "1   5/1/2023 3:00          NaN      70.0      0.8     Partly Cloudy\n",
       "2   5/1/2023 6:00         19.2      75.0      NaN            Cloudy\n",
       "3   5/1/2023 9:00         24.1      60.0      2.1             Sunny\n",
       "4  5/1/2023 12:00         27.8      55.0      NaN             Sunny"
      ],
      "text/html": [
       "<div>\n",
       "<style scoped>\n",
       "    .dataframe tbody tr th:only-of-type {\n",
       "        vertical-align: middle;\n",
       "    }\n",
       "\n",
       "    .dataframe tbody tr th {\n",
       "        vertical-align: top;\n",
       "    }\n",
       "\n",
       "    .dataframe thead th {\n",
       "        text-align: right;\n",
       "    }\n",
       "</style>\n",
       "<table border=\"1\" class=\"dataframe\">\n",
       "  <thead>\n",
       "    <tr style=\"text-align: right;\">\n",
       "      <th></th>\n",
       "      <th>Timestamp</th>\n",
       "      <th>Temperature</th>\n",
       "      <th>Humidity</th>\n",
       "      <th>Airflow</th>\n",
       "      <th>Weather Condition</th>\n",
       "    </tr>\n",
       "  </thead>\n",
       "  <tbody>\n",
       "    <tr>\n",
       "      <th>0</th>\n",
       "      <td>5/1/2023 0:00</td>\n",
       "      <td>22.5</td>\n",
       "      <td>65.0</td>\n",
       "      <td>1.2</td>\n",
       "      <td>Clear</td>\n",
       "    </tr>\n",
       "    <tr>\n",
       "      <th>1</th>\n",
       "      <td>5/1/2023 3:00</td>\n",
       "      <td>NaN</td>\n",
       "      <td>70.0</td>\n",
       "      <td>0.8</td>\n",
       "      <td>Partly Cloudy</td>\n",
       "    </tr>\n",
       "    <tr>\n",
       "      <th>2</th>\n",
       "      <td>5/1/2023 6:00</td>\n",
       "      <td>19.2</td>\n",
       "      <td>75.0</td>\n",
       "      <td>NaN</td>\n",
       "      <td>Cloudy</td>\n",
       "    </tr>\n",
       "    <tr>\n",
       "      <th>3</th>\n",
       "      <td>5/1/2023 9:00</td>\n",
       "      <td>24.1</td>\n",
       "      <td>60.0</td>\n",
       "      <td>2.1</td>\n",
       "      <td>Sunny</td>\n",
       "    </tr>\n",
       "    <tr>\n",
       "      <th>4</th>\n",
       "      <td>5/1/2023 12:00</td>\n",
       "      <td>27.8</td>\n",
       "      <td>55.0</td>\n",
       "      <td>NaN</td>\n",
       "      <td>Sunny</td>\n",
       "    </tr>\n",
       "  </tbody>\n",
       "</table>\n",
       "</div>"
      ]
     },
     "execution_count": 297,
     "metadata": {},
     "output_type": "execute_result"
    }
   ],
   "execution_count": 297
  },
  {
   "cell_type": "code",
   "id": "c857d7c8-f0c2-43bc-b456-8679d4a3ca01",
   "metadata": {
    "id": "c857d7c8-f0c2-43bc-b456-8679d4a3ca01",
    "ExecuteTime": {
     "end_time": "2025-06-27T09:52:57.505199Z",
     "start_time": "2025-06-27T09:52:57.497905Z"
    }
   },
   "source": [
    "# # 5.3 Fill missing values with Forward Fill/Backward Fill\n",
    "df2.ffill(inplace=True)\n",
    "df2.head()"
   ],
   "outputs": [
    {
     "data": {
      "text/plain": [
       "        Timestamp  Temperature  Humidity  Airflow Weather Condition\n",
       "0   5/1/2023 0:00         22.5      65.0      1.2             Clear\n",
       "1   5/1/2023 3:00         22.5      70.0      0.8     Partly Cloudy\n",
       "2   5/1/2023 6:00         19.2      75.0      0.8            Cloudy\n",
       "3   5/1/2023 9:00         24.1      60.0      2.1             Sunny\n",
       "4  5/1/2023 12:00         27.8      55.0      2.1             Sunny"
      ],
      "text/html": [
       "<div>\n",
       "<style scoped>\n",
       "    .dataframe tbody tr th:only-of-type {\n",
       "        vertical-align: middle;\n",
       "    }\n",
       "\n",
       "    .dataframe tbody tr th {\n",
       "        vertical-align: top;\n",
       "    }\n",
       "\n",
       "    .dataframe thead th {\n",
       "        text-align: right;\n",
       "    }\n",
       "</style>\n",
       "<table border=\"1\" class=\"dataframe\">\n",
       "  <thead>\n",
       "    <tr style=\"text-align: right;\">\n",
       "      <th></th>\n",
       "      <th>Timestamp</th>\n",
       "      <th>Temperature</th>\n",
       "      <th>Humidity</th>\n",
       "      <th>Airflow</th>\n",
       "      <th>Weather Condition</th>\n",
       "    </tr>\n",
       "  </thead>\n",
       "  <tbody>\n",
       "    <tr>\n",
       "      <th>0</th>\n",
       "      <td>5/1/2023 0:00</td>\n",
       "      <td>22.5</td>\n",
       "      <td>65.0</td>\n",
       "      <td>1.2</td>\n",
       "      <td>Clear</td>\n",
       "    </tr>\n",
       "    <tr>\n",
       "      <th>1</th>\n",
       "      <td>5/1/2023 3:00</td>\n",
       "      <td>22.5</td>\n",
       "      <td>70.0</td>\n",
       "      <td>0.8</td>\n",
       "      <td>Partly Cloudy</td>\n",
       "    </tr>\n",
       "    <tr>\n",
       "      <th>2</th>\n",
       "      <td>5/1/2023 6:00</td>\n",
       "      <td>19.2</td>\n",
       "      <td>75.0</td>\n",
       "      <td>0.8</td>\n",
       "      <td>Cloudy</td>\n",
       "    </tr>\n",
       "    <tr>\n",
       "      <th>3</th>\n",
       "      <td>5/1/2023 9:00</td>\n",
       "      <td>24.1</td>\n",
       "      <td>60.0</td>\n",
       "      <td>2.1</td>\n",
       "      <td>Sunny</td>\n",
       "    </tr>\n",
       "    <tr>\n",
       "      <th>4</th>\n",
       "      <td>5/1/2023 12:00</td>\n",
       "      <td>27.8</td>\n",
       "      <td>55.0</td>\n",
       "      <td>2.1</td>\n",
       "      <td>Sunny</td>\n",
       "    </tr>\n",
       "  </tbody>\n",
       "</table>\n",
       "</div>"
      ]
     },
     "execution_count": 298,
     "metadata": {},
     "output_type": "execute_result"
    }
   ],
   "execution_count": 298
  },
  {
   "cell_type": "code",
   "id": "228add49-8c85-49aa-a8d7-0b3878c59986",
   "metadata": {
    "id": "228add49-8c85-49aa-a8d7-0b3878c59986",
    "ExecuteTime": {
     "end_time": "2025-06-27T09:52:57.654444Z",
     "start_time": "2025-06-27T09:52:57.649225Z"
    }
   },
   "source": [
    "df3 = df.copy()\n",
    "df3.head()"
   ],
   "outputs": [
    {
     "data": {
      "text/plain": [
       "        Timestamp  Temperature  Humidity  Airflow Weather Condition\n",
       "0   5/1/2023 0:00         22.5      65.0      1.2             Clear\n",
       "1   5/1/2023 3:00          NaN      70.0      0.8     Partly Cloudy\n",
       "2   5/1/2023 6:00         19.2      75.0      NaN            Cloudy\n",
       "3   5/1/2023 9:00         24.1      60.0      2.1             Sunny\n",
       "4  5/1/2023 12:00         27.8      55.0      NaN             Sunny"
      ],
      "text/html": [
       "<div>\n",
       "<style scoped>\n",
       "    .dataframe tbody tr th:only-of-type {\n",
       "        vertical-align: middle;\n",
       "    }\n",
       "\n",
       "    .dataframe tbody tr th {\n",
       "        vertical-align: top;\n",
       "    }\n",
       "\n",
       "    .dataframe thead th {\n",
       "        text-align: right;\n",
       "    }\n",
       "</style>\n",
       "<table border=\"1\" class=\"dataframe\">\n",
       "  <thead>\n",
       "    <tr style=\"text-align: right;\">\n",
       "      <th></th>\n",
       "      <th>Timestamp</th>\n",
       "      <th>Temperature</th>\n",
       "      <th>Humidity</th>\n",
       "      <th>Airflow</th>\n",
       "      <th>Weather Condition</th>\n",
       "    </tr>\n",
       "  </thead>\n",
       "  <tbody>\n",
       "    <tr>\n",
       "      <th>0</th>\n",
       "      <td>5/1/2023 0:00</td>\n",
       "      <td>22.5</td>\n",
       "      <td>65.0</td>\n",
       "      <td>1.2</td>\n",
       "      <td>Clear</td>\n",
       "    </tr>\n",
       "    <tr>\n",
       "      <th>1</th>\n",
       "      <td>5/1/2023 3:00</td>\n",
       "      <td>NaN</td>\n",
       "      <td>70.0</td>\n",
       "      <td>0.8</td>\n",
       "      <td>Partly Cloudy</td>\n",
       "    </tr>\n",
       "    <tr>\n",
       "      <th>2</th>\n",
       "      <td>5/1/2023 6:00</td>\n",
       "      <td>19.2</td>\n",
       "      <td>75.0</td>\n",
       "      <td>NaN</td>\n",
       "      <td>Cloudy</td>\n",
       "    </tr>\n",
       "    <tr>\n",
       "      <th>3</th>\n",
       "      <td>5/1/2023 9:00</td>\n",
       "      <td>24.1</td>\n",
       "      <td>60.0</td>\n",
       "      <td>2.1</td>\n",
       "      <td>Sunny</td>\n",
       "    </tr>\n",
       "    <tr>\n",
       "      <th>4</th>\n",
       "      <td>5/1/2023 12:00</td>\n",
       "      <td>27.8</td>\n",
       "      <td>55.0</td>\n",
       "      <td>NaN</td>\n",
       "      <td>Sunny</td>\n",
       "    </tr>\n",
       "  </tbody>\n",
       "</table>\n",
       "</div>"
      ]
     },
     "execution_count": 299,
     "metadata": {},
     "output_type": "execute_result"
    }
   ],
   "execution_count": 299
  },
  {
   "cell_type": "code",
   "id": "7028f3b2-17e6-477f-b825-14223890e2dc",
   "metadata": {
    "id": "7028f3b2-17e6-477f-b825-14223890e2dc",
    "ExecuteTime": {
     "end_time": "2025-06-27T09:52:57.828111Z",
     "start_time": "2025-06-27T09:52:57.818984Z"
    }
   },
   "source": [
    "df3.bfill(inplace=True)\n",
    "df3.head()"
   ],
   "outputs": [
    {
     "data": {
      "text/plain": [
       "        Timestamp  Temperature  Humidity  Airflow Weather Condition\n",
       "0   5/1/2023 0:00         22.5      65.0      1.2             Clear\n",
       "1   5/1/2023 3:00         19.2      70.0      0.8     Partly Cloudy\n",
       "2   5/1/2023 6:00         19.2      75.0      2.1            Cloudy\n",
       "3   5/1/2023 9:00         24.1      60.0      2.1             Sunny\n",
       "4  5/1/2023 12:00         27.8      55.0      3.2             Sunny"
      ],
      "text/html": [
       "<div>\n",
       "<style scoped>\n",
       "    .dataframe tbody tr th:only-of-type {\n",
       "        vertical-align: middle;\n",
       "    }\n",
       "\n",
       "    .dataframe tbody tr th {\n",
       "        vertical-align: top;\n",
       "    }\n",
       "\n",
       "    .dataframe thead th {\n",
       "        text-align: right;\n",
       "    }\n",
       "</style>\n",
       "<table border=\"1\" class=\"dataframe\">\n",
       "  <thead>\n",
       "    <tr style=\"text-align: right;\">\n",
       "      <th></th>\n",
       "      <th>Timestamp</th>\n",
       "      <th>Temperature</th>\n",
       "      <th>Humidity</th>\n",
       "      <th>Airflow</th>\n",
       "      <th>Weather Condition</th>\n",
       "    </tr>\n",
       "  </thead>\n",
       "  <tbody>\n",
       "    <tr>\n",
       "      <th>0</th>\n",
       "      <td>5/1/2023 0:00</td>\n",
       "      <td>22.5</td>\n",
       "      <td>65.0</td>\n",
       "      <td>1.2</td>\n",
       "      <td>Clear</td>\n",
       "    </tr>\n",
       "    <tr>\n",
       "      <th>1</th>\n",
       "      <td>5/1/2023 3:00</td>\n",
       "      <td>19.2</td>\n",
       "      <td>70.0</td>\n",
       "      <td>0.8</td>\n",
       "      <td>Partly Cloudy</td>\n",
       "    </tr>\n",
       "    <tr>\n",
       "      <th>2</th>\n",
       "      <td>5/1/2023 6:00</td>\n",
       "      <td>19.2</td>\n",
       "      <td>75.0</td>\n",
       "      <td>2.1</td>\n",
       "      <td>Cloudy</td>\n",
       "    </tr>\n",
       "    <tr>\n",
       "      <th>3</th>\n",
       "      <td>5/1/2023 9:00</td>\n",
       "      <td>24.1</td>\n",
       "      <td>60.0</td>\n",
       "      <td>2.1</td>\n",
       "      <td>Sunny</td>\n",
       "    </tr>\n",
       "    <tr>\n",
       "      <th>4</th>\n",
       "      <td>5/1/2023 12:00</td>\n",
       "      <td>27.8</td>\n",
       "      <td>55.0</td>\n",
       "      <td>3.2</td>\n",
       "      <td>Sunny</td>\n",
       "    </tr>\n",
       "  </tbody>\n",
       "</table>\n",
       "</div>"
      ]
     },
     "execution_count": 300,
     "metadata": {},
     "output_type": "execute_result"
    }
   ],
   "execution_count": 300
  },
  {
   "cell_type": "code",
   "id": "53013890-d2fc-4bab-a4dd-af04ad0975b7",
   "metadata": {
    "id": "53013890-d2fc-4bab-a4dd-af04ad0975b7",
    "ExecuteTime": {
     "end_time": "2025-06-27T09:52:58.055694Z",
     "start_time": "2025-06-27T09:52:58.054310Z"
    }
   },
   "source": [],
   "outputs": [],
   "execution_count": null
  },
  {
   "cell_type": "code",
   "id": "915fe3b6-2c7e-4cf9-b536-554b2b00571e",
   "metadata": {
    "id": "915fe3b6-2c7e-4cf9-b536-554b2b00571e",
    "ExecuteTime": {
     "end_time": "2025-06-27T09:52:58.268533Z",
     "start_time": "2025-06-27T09:52:58.266822Z"
    }
   },
   "source": [],
   "outputs": [],
   "execution_count": null
  },
  {
   "cell_type": "code",
   "id": "26918a5f-b2b7-4b88-b234-29352a02576c",
   "metadata": {
    "id": "26918a5f-b2b7-4b88-b234-29352a02576c",
    "ExecuteTime": {
     "end_time": "2025-06-27T09:52:58.346393Z",
     "start_time": "2025-06-27T09:52:58.344976Z"
    }
   },
   "source": [],
   "outputs": [],
   "execution_count": null
  },
  {
   "cell_type": "markdown",
   "id": "d0e845fae200689",
   "metadata": {
    "collapsed": false,
    "jupyter": {
     "outputs_hidden": false
    },
    "id": "d0e845fae200689"
   },
   "source": [
    "# Outliers Detection"
   ]
  },
  {
   "cell_type": "code",
   "id": "6a46ea5d-c1a4-4d64-825a-1fb2bcd0a118",
   "metadata": {
    "id": "6a46ea5d-c1a4-4d64-825a-1fb2bcd0a118",
    "ExecuteTime": {
     "end_time": "2025-06-27T09:52:58.438597Z",
     "start_time": "2025-06-27T09:52:58.436577Z"
    }
   },
   "source": [
    "import seaborn as sns\n",
    "import matplotlib.pyplot as plt"
   ],
   "outputs": [],
   "execution_count": 301
  },
  {
   "cell_type": "code",
   "id": "86b283b468c614c8",
   "metadata": {
    "jupyter": {
     "outputs_hidden": false
    },
    "id": "86b283b468c614c8",
    "ExecuteTime": {
     "end_time": "2025-06-27T09:52:58.507304Z",
     "start_time": "2025-06-27T09:52:58.500879Z"
    }
   },
   "source": [
    "# 1. Load the dataset\n",
    "df = pd.read_csv(\"data/prep-data03.csv\")\n",
    "df.head()"
   ],
   "outputs": [
    {
     "data": {
      "text/plain": [
       "        Timestamp  Temperature  Humidity  Airflow Raining Precipitation  \\\n",
       "0   5/1/2023 0:00         22.5        65      1.2      No            No   \n",
       "1   5/1/2023 3:00         20.8        70      0.8     Yes          Rain   \n",
       "2   5/1/2023 6:00         19.2        75      1.5     Yes          Hail   \n",
       "3   5/1/2023 9:00         24.1        60      2.1      No            No   \n",
       "4  5/1/2023 12:00         27.8        55      2.8      No            No   \n",
       "\n",
       "  Weather Condition  \n",
       "0             Clear  \n",
       "1     Partly Cloudy  \n",
       "2            Cloudy  \n",
       "3             Sunny  \n",
       "4             Sunny  "
      ],
      "text/html": [
       "<div>\n",
       "<style scoped>\n",
       "    .dataframe tbody tr th:only-of-type {\n",
       "        vertical-align: middle;\n",
       "    }\n",
       "\n",
       "    .dataframe tbody tr th {\n",
       "        vertical-align: top;\n",
       "    }\n",
       "\n",
       "    .dataframe thead th {\n",
       "        text-align: right;\n",
       "    }\n",
       "</style>\n",
       "<table border=\"1\" class=\"dataframe\">\n",
       "  <thead>\n",
       "    <tr style=\"text-align: right;\">\n",
       "      <th></th>\n",
       "      <th>Timestamp</th>\n",
       "      <th>Temperature</th>\n",
       "      <th>Humidity</th>\n",
       "      <th>Airflow</th>\n",
       "      <th>Raining</th>\n",
       "      <th>Precipitation</th>\n",
       "      <th>Weather Condition</th>\n",
       "    </tr>\n",
       "  </thead>\n",
       "  <tbody>\n",
       "    <tr>\n",
       "      <th>0</th>\n",
       "      <td>5/1/2023 0:00</td>\n",
       "      <td>22.5</td>\n",
       "      <td>65</td>\n",
       "      <td>1.2</td>\n",
       "      <td>No</td>\n",
       "      <td>No</td>\n",
       "      <td>Clear</td>\n",
       "    </tr>\n",
       "    <tr>\n",
       "      <th>1</th>\n",
       "      <td>5/1/2023 3:00</td>\n",
       "      <td>20.8</td>\n",
       "      <td>70</td>\n",
       "      <td>0.8</td>\n",
       "      <td>Yes</td>\n",
       "      <td>Rain</td>\n",
       "      <td>Partly Cloudy</td>\n",
       "    </tr>\n",
       "    <tr>\n",
       "      <th>2</th>\n",
       "      <td>5/1/2023 6:00</td>\n",
       "      <td>19.2</td>\n",
       "      <td>75</td>\n",
       "      <td>1.5</td>\n",
       "      <td>Yes</td>\n",
       "      <td>Hail</td>\n",
       "      <td>Cloudy</td>\n",
       "    </tr>\n",
       "    <tr>\n",
       "      <th>3</th>\n",
       "      <td>5/1/2023 9:00</td>\n",
       "      <td>24.1</td>\n",
       "      <td>60</td>\n",
       "      <td>2.1</td>\n",
       "      <td>No</td>\n",
       "      <td>No</td>\n",
       "      <td>Sunny</td>\n",
       "    </tr>\n",
       "    <tr>\n",
       "      <th>4</th>\n",
       "      <td>5/1/2023 12:00</td>\n",
       "      <td>27.8</td>\n",
       "      <td>55</td>\n",
       "      <td>2.8</td>\n",
       "      <td>No</td>\n",
       "      <td>No</td>\n",
       "      <td>Sunny</td>\n",
       "    </tr>\n",
       "  </tbody>\n",
       "</table>\n",
       "</div>"
      ]
     },
     "execution_count": 302,
     "metadata": {},
     "output_type": "execute_result"
    }
   ],
   "execution_count": 302
  },
  {
   "cell_type": "code",
   "id": "9da02efa-af37-4774-80de-cab610b76bab",
   "metadata": {
    "id": "9da02efa-af37-4774-80de-cab610b76bab",
    "ExecuteTime": {
     "end_time": "2025-06-27T09:52:58.709193Z",
     "start_time": "2025-06-27T09:52:58.585620Z"
    }
   },
   "source": [
    "# 2. Show outlier of each column in df using boxplot\n",
    "plt.figure(figsize=(10, 5))\n",
    "sns.boxplot(data=df)\n",
    "plt.title(\"Boxplot of df before eliminating outliers\")\n",
    "plt.show()"
   ],
   "outputs": [
    {
     "data": {
      "text/plain": [
       "<Figure size 1000x500 with 1 Axes>"
      ],
      "image/png": "[encoded data removed]"
     },
     "metadata": {},
     "output_type": "display_data"
    }
   ],
   "execution_count": 303
  },
  {
   "cell_type": "code",
   "id": "7ccb8458-f780-4456-a4e2-370c43489847",
   "metadata": {
    "id": "7ccb8458-f780-4456-a4e2-370c43489847",
    "ExecuteTime": {
     "end_time": "2025-06-27T09:52:58.813357Z",
     "start_time": "2025-06-27T09:52:58.807499Z"
    }
   },
   "source": [
    "df1[(df1['Temperature'] > 20) & (df1['Airflow'] >1)].head()\n",
    "# select * from t where t.Temperature > 20 and t.Airflow > 1"
   ],
   "outputs": [
    {
     "data": {
      "text/plain": [
       "        Timestamp  Temperature  Humidity  Airflow Weather Condition\n",
       "0   5/1/2023 0:00         22.5      65.0      1.2             Clear\n",
       "3   5/1/2023 9:00         24.1      60.0      2.1             Sunny\n",
       "4  5/1/2023 12:00         27.8      55.0      1.6             Sunny\n",
       "5  5/1/2023 15:00         29.5      50.0      3.2             Sunny\n",
       "6  5/1/2023 18:00         26.3      62.0      2.0     Partly Cloudy"
      ],
      "text/html": [
       "<div>\n",
       "<style scoped>\n",
       "    .dataframe tbody tr th:only-of-type {\n",
       "        vertical-align: middle;\n",
       "    }\n",
       "\n",
       "    .dataframe tbody tr th {\n",
       "        vertical-align: top;\n",
       "    }\n",
       "\n",
       "    .dataframe thead th {\n",
       "        text-align: right;\n",
       "    }\n",
       "</style>\n",
       "<table border=\"1\" class=\"dataframe\">\n",
       "  <thead>\n",
       "    <tr style=\"text-align: right;\">\n",
       "      <th></th>\n",
       "      <th>Timestamp</th>\n",
       "      <th>Temperature</th>\n",
       "      <th>Humidity</th>\n",
       "      <th>Airflow</th>\n",
       "      <th>Weather Condition</th>\n",
       "    </tr>\n",
       "  </thead>\n",
       "  <tbody>\n",
       "    <tr>\n",
       "      <th>0</th>\n",
       "      <td>5/1/2023 0:00</td>\n",
       "      <td>22.5</td>\n",
       "      <td>65.0</td>\n",
       "      <td>1.2</td>\n",
       "      <td>Clear</td>\n",
       "    </tr>\n",
       "    <tr>\n",
       "      <th>3</th>\n",
       "      <td>5/1/2023 9:00</td>\n",
       "      <td>24.1</td>\n",
       "      <td>60.0</td>\n",
       "      <td>2.1</td>\n",
       "      <td>Sunny</td>\n",
       "    </tr>\n",
       "    <tr>\n",
       "      <th>4</th>\n",
       "      <td>5/1/2023 12:00</td>\n",
       "      <td>27.8</td>\n",
       "      <td>55.0</td>\n",
       "      <td>1.6</td>\n",
       "      <td>Sunny</td>\n",
       "    </tr>\n",
       "    <tr>\n",
       "      <th>5</th>\n",
       "      <td>5/1/2023 15:00</td>\n",
       "      <td>29.5</td>\n",
       "      <td>50.0</td>\n",
       "      <td>3.2</td>\n",
       "      <td>Sunny</td>\n",
       "    </tr>\n",
       "    <tr>\n",
       "      <th>6</th>\n",
       "      <td>5/1/2023 18:00</td>\n",
       "      <td>26.3</td>\n",
       "      <td>62.0</td>\n",
       "      <td>2.0</td>\n",
       "      <td>Partly Cloudy</td>\n",
       "    </tr>\n",
       "  </tbody>\n",
       "</table>\n",
       "</div>"
      ]
     },
     "execution_count": 304,
     "metadata": {},
     "output_type": "execute_result"
    }
   ],
   "execution_count": 304
  },
  {
   "cell_type": "code",
   "id": "81b55726-8f2b-4db9-a4e4-d0d658fc77c1",
   "metadata": {
    "id": "81b55726-8f2b-4db9-a4e4-d0d658fc77c1",
    "ExecuteTime": {
     "end_time": "2025-06-27T09:52:58.998444Z",
     "start_time": "2025-06-27T09:52:58.897320Z"
    }
   },
   "source": [
    "# 3. Eliminate outliers of each column in df using IQR\n",
    "Q1 = df['Temperature'].quantile(0.25)\n",
    "Q3 = df['Temperature'].quantile(0.75)\n",
    "IQR = Q3 - Q1\n",
    "df1 = df[(df['Temperature'] > (Q1 - 1.5 * IQR)) & (df['Temperature'] < (Q3 + 1.5 * IQR))]\n",
    "\n",
    "plt.figure(figsize=(10, 5))\n",
    "sns.boxplot(data=df1)\n",
    "plt.title(\"Boxplot of df after eliminating outliers\")\n",
    "plt.show()\n"
   ],
   "outputs": [
    {
     "data": {
      "text/plain": [
       "<Figure size 1000x500 with 1 Axes>"
      ],
      "image/png": "[encoded data removed]"
     },
     "metadata": {},
     "output_type": "display_data"
    }
   ],
   "execution_count": 305
  },
  {
   "cell_type": "markdown",
   "id": "49c2e5df-cc7b-4683-9110-55f61098968c",
   "metadata": {
    "id": "49c2e5df-cc7b-4683-9110-55f61098968c"
   },
   "source": [
    "## Create a function for reusability"
   ]
  },
  {
   "cell_type": "code",
   "id": "e7322446-8aad-4539-8edd-3cd4aa4147ed",
   "metadata": {
    "id": "e7322446-8aad-4539-8edd-3cd4aa4147ed",
    "ExecuteTime": {
     "end_time": "2025-06-27T09:52:59.108424Z",
     "start_time": "2025-06-27T09:52:59.106162Z"
    }
   },
   "source": [
    "def eliminate_outliers(df, column):\n",
    "    Q1 = df[column].quantile(0.25)\n",
    "    Q3 = df[column].quantile(0.75)\n",
    "    IQR = Q3 - Q1\n",
    "    return df[(df[column] > (Q1 - 1.5 * IQR)) & (df[column] < (Q3 + 1.5 * IQR))]"
   ],
   "outputs": [],
   "execution_count": 306
  },
  {
   "cell_type": "code",
   "id": "18d8bcf8-afb4-479c-b157-601cd1abf692",
   "metadata": {
    "id": "18d8bcf8-afb4-479c-b157-601cd1abf692",
    "ExecuteTime": {
     "end_time": "2025-06-27T09:52:59.199233Z",
     "start_time": "2025-06-27T09:52:59.193476Z"
    }
   },
   "source": [
    "temp = df.copy()\n",
    "for col in ['Temperature', 'Humidity', 'Airflow']:\n",
    "    temp = eliminate_outliers(temp, col)"
   ],
   "outputs": [],
   "execution_count": 307
  },
  {
   "cell_type": "code",
   "id": "15a5bb18-b43d-4ce3-90c8-67ecdbb82b19",
   "metadata": {
    "id": "15a5bb18-b43d-4ce3-90c8-67ecdbb82b19",
    "ExecuteTime": {
     "end_time": "2025-06-27T09:52:59.359049Z",
     "start_time": "2025-06-27T09:52:59.256742Z"
    }
   },
   "source": [
    "plt.figure(figsize=(10, 5))\n",
    "sns.boxplot(data=temp)\n",
    "plt.title(\"Boxplot of df after eliminating outliers\")\n",
    "plt.show()"
   ],
   "outputs": [
    {
     "data": {
      "text/plain": [
       "<Figure size 1000x500 with 1 Axes>"
      ],
      "image/png": "[encoded data removed]"
     },
     "metadata": {},
     "output_type": "display_data"
    }
   ],
   "execution_count": 308
  },
  {
   "cell_type": "markdown",
   "id": "1a8330ae-59aa-4c7b-9171-f58f95601f19",
   "metadata": {
    "id": "1a8330ae-59aa-4c7b-9171-f58f95601f19"
   },
   "source": [
    "### Writing preprocessed data to file"
   ]
  },
  {
   "cell_type": "code",
   "id": "37ac67b3-7753-4900-a30f-5e47b3c1d376",
   "metadata": {
    "id": "37ac67b3-7753-4900-a30f-5e47b3c1d376",
    "ExecuteTime": {
     "end_time": "2025-06-27T09:52:59.407791Z",
     "start_time": "2025-06-27T09:52:59.401797Z"
    }
   },
   "source": [
    "df.to_csv('processed.csv', index=False)"
   ],
   "outputs": [],
   "execution_count": 309
  },
  {
   "cell_type": "code",
   "id": "e58a6a79-96dc-4ed0-b6ff-e2800f6ee06c",
   "metadata": {
    "id": "e58a6a79-96dc-4ed0-b6ff-e2800f6ee06c",
    "ExecuteTime": {
     "end_time": "2025-06-27T09:52:59.465767Z",
     "start_time": "2025-06-27T09:52:59.464163Z"
    }
   },
   "source": [],
   "outputs": [],
   "execution_count": null
  }
 ],
 "metadata": {
  "kernelspec": {
   "display_name": "Python 3 (ipykernel)",
   "language": "python",
   "name": "python3"
  },
  "language_info": {
   "codemirror_mode": {
    "name": "ipython",
    "version": 3
   },
   "file_extension": ".py",
   "mimetype": "text/x-python",
   "name": "python",
   "nbconvert_exporter": "python",
   "pygments_lexer": "ipython3",
   "version": "3.10.14"
  },
  "colab": {
   "provenance": []
  }
 },
 "nbformat": 4,
 "nbformat_minor": 5
}
