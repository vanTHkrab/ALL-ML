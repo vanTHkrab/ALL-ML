{
 "cells": [
  {
   "cell_type": "markdown",
   "id": "26437f2f65550267",
   "metadata": {
    "collapsed": false,
    "jupyter": {
     "outputs_hidden": false
    }
   },
   "source": [
    "# KNN, SVM, ANNs\n",
    "## Prepare the dataset"
   ]
  },
  {
   "cell_type": "code",
   "execution_count": null,
   "id": "a202df1d3cf976a0",
   "metadata": {
    "collapsed": false,
    "jupyter": {
     "outputs_hidden": false
    }
   },
   "outputs": [],
   "source": [
    "import pandas as pd\n",
    "from sklearn.model_selection import train_test_split\n",
    "from sklearn.metrics import accuracy_score\n",
    "\n",
    "# Load dataset\n",
    "df = pd.read_csv('emails.csv')\n",
    "df.head()"
   ]
  },
  {
   "cell_type": "code",
   "execution_count": null,
   "id": "2df698e7-11ca-4c5a-a231-cbcd4131c4cd",
   "metadata": {},
   "outputs": [],
   "source": [
    "# select subset of rows and columns\n",
    "df.iloc[:5, :20]"
   ]
  },
  {
   "cell_type": "code",
   "execution_count": null,
   "id": "3f80f13d-82ad-4a76-814d-355e03e6e90f",
   "metadata": {},
   "outputs": [],
   "source": [
    "# # Check data description\n",
    "df.describe(include='all')"
   ]
  },
  {
   "cell_type": "code",
   "execution_count": null,
   "id": "36d6a630-cff8-455a-bee4-d5b4dcb3613f",
   "metadata": {},
   "outputs": [],
   "source": [
    "df.dtypes"
   ]
  },
  {
   "cell_type": "code",
   "execution_count": null,
   "id": "ef45957f-efb3-4fdf-9ee4-e970cb885ac3",
   "metadata": {},
   "outputs": [],
   "source": [
    "# identify which columns are categorical\n",
    "catergorical_cols = df.select_dtypes(exclude=\"object\").columns\n",
    "print(catergorical_cols)\n",
    "print('Total # of categorical columns: ', len(catergorical_cols))"
   ]
  },
  {
   "cell_type": "code",
   "execution_count": null,
   "id": "4d2eda4e-e00d-4324-99f0-88a148645217",
   "metadata": {},
   "outputs": [],
   "source": [
    "df.select_dtypes(include=\"object\").columns"
   ]
  },
  {
   "cell_type": "code",
   "execution_count": null,
   "id": "682b0eae-61b1-4ce7-bd0a-6353d9df3f39",
   "metadata": {},
   "outputs": [],
   "source": [
    "# # Drop the email number column\n",
    "df.drop(['Email No.'], axis=1, inplace=True)"
   ]
  },
  {
   "cell_type": "code",
   "execution_count": null,
   "id": "a9c6d287-f809-48b9-af14-3ea2b381d3b7",
   "metadata": {},
   "outputs": [],
   "source": [
    "# # Splitting the dataset into features (input) and target (output, label)\n",
    "X = df.drop(['Prediction'], axis=1)\n",
    "y = df['Prediction']"
   ]
  },
  {
   "cell_type": "code",
   "execution_count": null,
   "id": "278b4786-abe4-46e6-a5c2-02e7cdc4c7b5",
   "metadata": {},
   "outputs": [],
   "source": [
    "# # Splitting the dataset into training and testing sets\n",
    "X_train, X_test, y_train, y_test = train_test_split(X, y, test_size=0.2, random_state=0)"
   ]
  },
  {
   "cell_type": "code",
   "execution_count": null,
   "id": "e5f4f55e-36e7-4ff9-8743-f027aed0b874",
   "metadata": {},
   "outputs": [],
   "source": [
    "print('Training samples: ', len(X_train))\n",
    "print('Testing samples: ', len(X_test))"
   ]
  },
  {
   "cell_type": "markdown",
   "id": "7acdef3b17f9a98b",
   "metadata": {
    "collapsed": false,
    "jupyter": {
     "outputs_hidden": false
    }
   },
   "source": [
    "## KNN"
   ]
  },
  {
   "cell_type": "code",
   "execution_count": null,
   "id": "e7d73a99468686c6",
   "metadata": {
    "collapsed": false,
    "jupyter": {
     "outputs_hidden": false
    }
   },
   "outputs": [],
   "source": [
    "# # KNN Classifier training\n",
    "from sklearn.neighbors import KNeighborsClassifier\n",
    "knn = KNeighborsClassifier(n_neighbors=3)\n",
    "knn.fit(X_train, y_train)\n",
    "\n",
    "# # Test prediction\n",
    "y_pred = knn.predict(X_test)\n",
    "accuracy = accuracy_score(y_test, y_pred)\n",
    "print(\"KNN Accuracy: \", accuracy)"
   ]
  },
  {
   "cell_type": "markdown",
   "id": "e197286fa93295de",
   "metadata": {
    "collapsed": false,
    "jupyter": {
     "outputs_hidden": false
    }
   },
   "source": [
    "## SVM"
   ]
  },
  {
   "cell_type": "code",
   "execution_count": null,
   "id": "initial_id",
   "metadata": {},
   "outputs": [],
   "source": [
    "# # SVM Classifier training\n",
    "from sklearn.svm import SVC\n",
    "svm = SVC(kernel='linear', C=1.0, random_state=0)\n",
    "svm.fit(X_train, y_train)\n",
    "\n",
    "# # Test prediction\n",
    "y_pred = svm.predict(X_test)\n",
    "accuracy = accuracy_score(y_test, y_pred)\n",
    "print(\"SVM Accuracy: \", accuracy)"
   ]
  },
  {
   "cell_type": "markdown",
   "id": "c24d46ce794efbc4",
   "metadata": {
    "collapsed": false,
    "jupyter": {
     "outputs_hidden": false
    }
   },
   "source": [
    "## ANNs"
   ]
  },
  {
   "cell_type": "code",
   "execution_count": null,
   "id": "47467b30904db3e6",
   "metadata": {
    "collapsed": false,
    "jupyter": {
     "outputs_hidden": false
    }
   },
   "outputs": [],
   "source": [
    "# # ANNs Classifier\n",
    "from sklearn.neural_network import MLPClassifier\n",
    "ann = MLPClassifier(hidden_layer_sizes=(8, 8, 8), activation='logistic', solver='sgd',\n",
    "                    learning_rate_init=0.001, batch_size=128, max_iter=500)\n",
    "ann.fit(X_train, y_train)\n",
    "\n",
    "# # Test prediction\n",
    "y_pred = ann.predict(X_test)\n",
    "accuracy = accuracy_score(y_test, y_pred)\n",
    "print(\"ANNs Accuracy: \", accuracy)"
   ]
  },
  {
   "cell_type": "code",
   "execution_count": null,
   "id": "28f8e006-c27f-4b54-acd2-8487cb4de74d",
   "metadata": {},
   "outputs": [],
   "source": []
  }
 ],
 "metadata": {
  "kernelspec": {
   "display_name": "Python 3 (ipykernel)",
   "language": "python",
   "name": "python3"
  },
  "language_info": {
   "codemirror_mode": {
    "name": "ipython",
    "version": 3
   },
   "file_extension": ".py",
   "mimetype": "text/x-python",
   "name": "python",
   "nbconvert_exporter": "python",
   "pygments_lexer": "ipython3",
   "version": "3.10.14"
  }
 },
 "nbformat": 4,
 "nbformat_minor": 5
}
