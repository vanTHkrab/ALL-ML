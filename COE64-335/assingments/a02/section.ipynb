{
 "cells": [
  {
   "cell_type": "code",
   "id": "initial_id",
   "metadata": {
    "collapsed": true,
    "ExecuteTime": {
     "end_time": "2025-07-06T08:03:23.282430Z",
     "start_time": "2025-07-06T08:03:23.279869Z"
    }
   },
   "source": [
    "import pandas as pd\n",
    "import numpy as np\n",
    "import seaborn as sns\n",
    "import matplotlib.pyplot as plt"
   ],
   "outputs": [],
   "execution_count": 9
  },
  {
   "metadata": {
    "ExecuteTime": {
     "end_time": "2025-07-06T08:03:23.869287Z",
     "start_time": "2025-07-06T08:03:23.297892Z"
    }
   },
   "cell_type": "code",
   "source": "df = pd.read_csv(\"data/combined.csv\", low_memory=False)",
   "id": "71b13538b9a95ed",
   "outputs": [],
   "execution_count": 10
  },
  {
   "metadata": {},
   "cell_type": "code",
   "outputs": [],
   "execution_count": null,
   "source": "print(df.head())",
   "id": "2ccfa773f4af6cf3"
  },
  {
   "metadata": {
    "ExecuteTime": {
     "end_time": "2025-07-06T08:03:58.571297Z",
     "start_time": "2025-07-06T08:03:57.797554Z"
    }
   },
   "cell_type": "code",
   "source": [
    "print(df.dtypes, '\\n')\n",
    "print(df.describe(include='all').to_string(), '\\n')\n",
    "print(df.info(), '\\n')\n",
    "print(df.isnull().sum(), '\\n')"
   ],
   "id": "dcb0650344967a64",
   "outputs": [
    {
     "name": "stdout",
     "output_type": "stream",
     "text": [
      "ID                                         object\n",
      "History of HeartDisease or Attack          object\n",
      "High Blood Pressure                        object\n",
      "Told High Cholesterol                      object\n",
      "Cholesterol Checked                        object\n",
      "Body Mass Index                           float64\n",
      "Smoked 100+ Cigarettes                     object\n",
      "Diagnosed Stroke                           object\n",
      "Diagnosed Diabetes                         object\n",
      "Leisure Physical Activity                  object\n",
      "Heavy Alcohol Consumption                  object\n",
      "Health Care Coverage                       object\n",
      "Doctor Visit Cost Barrier                  object\n",
      "General Health                             object\n",
      "Difficulty Walking                         object\n",
      "Sex                                        object\n",
      "Education Level                            object\n",
      "Income Level                               object\n",
      "Age                                         int64\n",
      "Vegetable or Fruit Intake (1+ per Day)     object\n",
      "dtype: object \n",
      "\n",
      "                  ID History of HeartDisease or Attack High Blood Pressure Told High Cholesterol Cholesterol Checked  Body Mass Index Smoked 100+ Cigarettes Diagnosed Stroke Diagnosed Diabetes Leisure Physical Activity Heavy Alcohol Consumption Health Care Coverage Doctor Visit Cost Barrier General Health Difficulty Walking     Sex   Education Level     Income Level            Age Vegetable or Fruit Intake (1+ per Day)\n",
      "count         297445                            221390              297445                265259              297445    285663.000000                 297444           297445             297442                    297445                    297445               297445                    297444         297444             297442  297445            297445           297445  297445.000000                                 297445\n",
      "unique        297445                                 2                   2                     2                   2              NaN                      2                2                  2                         2                         2                    2                         2              5                  2       2                 6                8            NaN                                      2\n",
      "top     train_000001                                No                  No                    No                 Yes              NaN                     No               No                 No                       Yes                        No                  Yes                        No           Good                 No  Female  College graduate  $75,000 or more            NaN                                    Yes\n",
      "freq               1                            203322              178703                153153              255389              NaN                 167341           286276             256980                    223168                    280325               277499                    268675         103623             249610  167744            119810           100316            NaN                                 260419\n",
      "mean             NaN                               NaN                 NaN                   NaN                 NaN        28.245157                    NaN              NaN                NaN                       NaN                       NaN                  NaN                       NaN            NaN                NaN     NaN               NaN              NaN      55.485313                                    NaN\n",
      "std              NaN                               NaN                 NaN                   NaN                 NaN         6.665820                    NaN              NaN                NaN                       NaN                       NaN                  NaN                       NaN            NaN                NaN     NaN               NaN              NaN      17.516183                                    NaN\n",
      "min              NaN                               NaN                 NaN                   NaN                 NaN        11.210000                    NaN              NaN                NaN                       NaN                       NaN                  NaN                       NaN            NaN                NaN     NaN               NaN              NaN      18.000000                                    NaN\n",
      "25%              NaN                               NaN                 NaN                   NaN                 NaN        23.930000                    NaN              NaN                NaN                       NaN                       NaN                  NaN                       NaN            NaN                NaN     NaN               NaN              NaN      43.000000                                    NaN\n",
      "50%              NaN                               NaN                 NaN                   NaN                 NaN        27.130000                    NaN              NaN                NaN                       NaN                       NaN                  NaN                       NaN            NaN                NaN     NaN               NaN              NaN      57.000000                                    NaN\n",
      "75%              NaN                               NaN                 NaN                   NaN                 NaN        31.160000                    NaN              NaN                NaN                       NaN                       NaN                  NaN                       NaN            NaN                NaN     NaN               NaN              NaN      67.000000                                    NaN\n",
      "max              NaN                               NaN                 NaN                   NaN                 NaN        98.630000                    NaN              NaN                NaN                       NaN                       NaN                  NaN                       NaN            NaN                NaN     NaN               NaN              NaN     100.000000                                    NaN \n",
      "\n",
      "<class 'pandas.core.frame.DataFrame'>\n",
      "RangeIndex: 297445 entries, 0 to 297444\n",
      "Data columns (total 20 columns):\n",
      " #   Column                                  Non-Null Count   Dtype  \n",
      "---  ------                                  --------------   -----  \n",
      " 0   ID                                      297445 non-null  object \n",
      " 1   History of HeartDisease or Attack       221390 non-null  object \n",
      " 2   High Blood Pressure                     297445 non-null  object \n",
      " 3   Told High Cholesterol                   265259 non-null  object \n",
      " 4   Cholesterol Checked                     297445 non-null  object \n",
      " 5   Body Mass Index                         285663 non-null  float64\n",
      " 6   Smoked 100+ Cigarettes                  297444 non-null  object \n",
      " 7   Diagnosed Stroke                        297445 non-null  object \n",
      " 8   Diagnosed Diabetes                      297442 non-null  object \n",
      " 9   Leisure Physical Activity               297445 non-null  object \n",
      " 10  Heavy Alcohol Consumption               297445 non-null  object \n",
      " 11  Health Care Coverage                    297445 non-null  object \n",
      " 12  Doctor Visit Cost Barrier               297444 non-null  object \n",
      " 13  General Health                          297444 non-null  object \n",
      " 14  Difficulty Walking                      297442 non-null  object \n",
      " 15  Sex                                     297445 non-null  object \n",
      " 16  Education Level                         297445 non-null  object \n",
      " 17  Income Level                            297445 non-null  object \n",
      " 18  Age                                     297445 non-null  int64  \n",
      " 19  Vegetable or Fruit Intake (1+ per Day)  297445 non-null  object \n",
      "dtypes: float64(1), int64(1), object(18)\n",
      "memory usage: 45.4+ MB\n",
      "None \n",
      "\n",
      "ID                                            0\n",
      "History of HeartDisease or Attack         76055\n",
      "High Blood Pressure                           0\n",
      "Told High Cholesterol                     32186\n",
      "Cholesterol Checked                           0\n",
      "Body Mass Index                           11782\n",
      "Smoked 100+ Cigarettes                        1\n",
      "Diagnosed Stroke                              0\n",
      "Diagnosed Diabetes                            3\n",
      "Leisure Physical Activity                     0\n",
      "Heavy Alcohol Consumption                     0\n",
      "Health Care Coverage                          0\n",
      "Doctor Visit Cost Barrier                     1\n",
      "General Health                                1\n",
      "Difficulty Walking                            3\n",
      "Sex                                           0\n",
      "Education Level                               0\n",
      "Income Level                                  0\n",
      "Age                                           0\n",
      "Vegetable or Fruit Intake (1+ per Day)        0\n",
      "dtype: int64 \n",
      "\n"
     ]
    }
   ],
   "execution_count": 13
  },
  {
   "metadata": {},
   "cell_type": "code",
   "outputs": [],
   "execution_count": null,
   "source": [
    "df_copy = df.copy()\n",
    "df_copy.fillna({\n",
    "    'High Blood Pressure': df['High Blood Pressure'].mode()[0],\n",
    "    'Total Hi'\n",
    "}, inplace=True)"
   ],
   "id": "24bbc053fa5dc7e9"
  }
 ],
 "metadata": {
  "kernelspec": {
   "display_name": "Python 3",
   "language": "python",
   "name": "python3"
  },
  "language_info": {
   "codemirror_mode": {
    "name": "ipython",
    "version": 2
   },
   "file_extension": ".py",
   "mimetype": "text/x-python",
   "name": "python",
   "nbconvert_exporter": "python",
   "pygments_lexer": "ipython2",
   "version": "2.7.6"
  }
 },
 "nbformat": 4,
 "nbformat_minor": 5
}
